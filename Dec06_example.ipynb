{
  "nbformat": 4,
  "nbformat_minor": 0,
  "metadata": {
    "colab": {
      "provenance": [],
      "authorship_tag": "ABX9TyPxEPQqhAJFgdumDe/cBnn3",
      "include_colab_link": true
    },
    "kernelspec": {
      "name": "python3",
      "display_name": "Python 3"
    },
    "language_info": {
      "name": "python"
    }
  },
  "cells": [
    {
      "cell_type": "markdown",
      "metadata": {
        "id": "view-in-github",
        "colab_type": "text"
      },
      "source": [
        "<a href=\"https://colab.research.google.com/github/Whiteheim/WH/blob/main/Dec06_example.ipynb\" target=\"_parent\"><img src=\"https://colab.research.google.com/assets/colab-badge.svg\" alt=\"Open In Colab\"/></a>"
      ]
    },
    {
      "cell_type": "markdown",
      "source": [
        "Python 파일 경로에 data 폴더를 만든 후 births.txt 파일 넣기"
      ],
      "metadata": {
        "id": "KsWCid5gOHI_"
      }
    },
    {
      "cell_type": "code",
      "source": [
        "import numpy as np\n",
        "\n",
        "# 세션이 종료되면 업로드했던 파일도 모두 사라짐\n",
        "# 구글 드라이브에서 가져오는 방법도 있음\n",
        "\n",
        "# data 폴더 안의 births.txt 파일 load하기\n",
        "\n",
        "# 구분자 ',', 자료형은 정수로 표현\n",
        "birth = np.loadtxt('data/births.txt', delimiter=',', dtype=np.int64)\n",
        "\n",
        "print(birth.shape)\n",
        "print(type(birth))"
      ],
      "metadata": {
        "colab": {
          "base_uri": "https://localhost:8080/"
        },
        "id": "vhUz_Tq1OXF0",
        "outputId": "e7e07434-2e85-4c71-f567-0a0f0b748c3d"
      },
      "execution_count": 82,
      "outputs": [
        {
          "output_type": "stream",
          "name": "stdout",
          "text": [
            "(132, 3)\n",
            "<class 'numpy.ndarray'>\n"
          ]
        }
      ]
    },
    {
      "cell_type": "code",
      "source": [
        "birth\n",
        "\n",
        "# 결과 : 연도, 남아 출생 수, 여아 출생 수"
      ],
      "metadata": {
        "colab": {
          "base_uri": "https://localhost:8080/"
        },
        "id": "Bsl0HOvTPM8E",
        "outputId": "ccb854fa-03e7-441a-92b6-a2acf2dbb5c3"
      },
      "execution_count": null,
      "outputs": [
        {
          "output_type": "execute_result",
          "data": {
            "text/plain": [
              "array([[   1880,   90993,  110491],\n",
              "       [   1881,   91954,  100745],\n",
              "       [   1882,  107850,  113688],\n",
              "       [   1883,  112321,  104629],\n",
              "       [   1884,  129022,  114445],\n",
              "       [   1885,  133055,  107800],\n",
              "       [   1886,  144535,  110784],\n",
              "       [   1887,  145982,  101414],\n",
              "       [   1888,  178627,  120853],\n",
              "       [   1889,  178366,  110584],\n",
              "       [   1890,  190377,  111025],\n",
              "       [   1891,  185482,  101196],\n",
              "       [   1892,  212346,  122037],\n",
              "       [   1893,  212906,  112317],\n",
              "       [   1894,  222922,  115772],\n",
              "       [   1895,  233630,  117398],\n",
              "       [   1896,  237920,  119570],\n",
              "       [   1897,  234202,  112758],\n",
              "       [   1898,  258770,  122693],\n",
              "       [   1899,  233023,  106212],\n",
              "       [   1900,  299828,  150499],\n",
              "       [   1901,  239348,  106471],\n",
              "       [   1902,  264077,  122659],\n",
              "       [   1903,  261973,  119234],\n",
              "       [   1904,  275371,  128125],\n",
              "       [   1905,  291629,  132319],\n",
              "       [   1906,  295303,  133159],\n",
              "       [   1907,  318566,  146833],\n",
              "       [   1908,  334313,  154344],\n",
              "       [   1909,  347228,  163999],\n",
              "       [   1910,  396501,  194218],\n",
              "       [   1911,  418299,  225968],\n",
              "       [   1912,  558103,  429945],\n",
              "       [   1913,  624518,  512557],\n",
              "       [   1914,  761548,  654762],\n",
              "       [   1915,  983874,  848603],\n",
              "       [   1916, 1044323,  890099],\n",
              "       [   1917, 1081280,  925511],\n",
              "       [   1918, 1157647, 1013537],\n",
              "       [   1919, 1130145,  980149],\n",
              "       [   1920, 1198283, 1064463],\n",
              "       [   1921, 1232999, 1101457],\n",
              "       [   1922, 1200919, 1088287],\n",
              "       [   1923, 1206330, 1096168],\n",
              "       [   1924, 1248876, 1132751],\n",
              "       [   1925, 1217352, 1115958],\n",
              "       [   1926, 1185304, 1110505],\n",
              "       [   1927, 1192330, 1126717],\n",
              "       [   1928, 1153117, 1107518],\n",
              "       [   1929, 1116422, 1075313],\n",
              "       [   1930, 1125761, 1097176],\n",
              "       [   1931, 1064497, 1039127],\n",
              "       [   1932, 1066994, 1043808],\n",
              "       [   1933, 1007710,  991127],\n",
              "       [   1934, 1044039, 1032291],\n",
              "       [   1935, 1048428, 1040930],\n",
              "       [   1936, 1040202, 1036974],\n",
              "       [   1937, 1063872, 1066309],\n",
              "       [   1938, 1103277, 1108841],\n",
              "       [   1939, 1096518, 1106544],\n",
              "       [   1940, 1143325, 1158900],\n",
              "       [   1941, 1207919, 1227941],\n",
              "       [   1942, 1350545, 1380774],\n",
              "       [   1943, 1395082, 1426846],\n",
              "       [   1944, 1327104, 1362555],\n",
              "       [   1945, 1307028, 1345610],\n",
              "       [   1946, 1571184, 1623650],\n",
              "       [   1947, 1772644, 1829223],\n",
              "       [   1948, 1697814, 1754469],\n",
              "       [   1949, 1710825, 1773725],\n",
              "       [   1950, 1713180, 1790673],\n",
              "       [   1951, 1800042, 1881080],\n",
              "       [   1952, 1854698, 1944277],\n",
              "       [   1953, 1880326, 1969777],\n",
              "       [   1954, 1941682, 2037374],\n",
              "       [   1955, 1954664, 2057918],\n",
              "       [   1956, 2007512, 2113694],\n",
              "       [   1957, 2044160, 2155866],\n",
              "       [   1958, 2010884, 2120712],\n",
              "       [   1959, 2023044, 2133509],\n",
              "       [   1960, 2022093, 2132717],\n",
              "       [   1961, 2017316, 2122502],\n",
              "       [   1962, 1966548, 2068945],\n",
              "       [   1963, 1927217, 2031755],\n",
              "       [   1964, 1894594, 1993270],\n",
              "       [   1965, 1765001, 1861378],\n",
              "       [   1966, 1691868, 1783964],\n",
              "       [   1967, 1650764, 1744527],\n",
              "       [   1968, 1640103, 1738928],\n",
              "       [   1969, 1686947, 1789732],\n",
              "       [   1970, 1748147, 1859594],\n",
              "       [   1971, 1663475, 1769201],\n",
              "       [   1972, 1521185, 1622666],\n",
              "       [   1973, 1458139, 1559338],\n",
              "       [   1974, 1467413, 1573105],\n",
              "       [   1975, 1457699, 1562207],\n",
              "       [   1976, 1465096, 1569904],\n",
              "       [   1977, 1532997, 1643684],\n",
              "       [   1978, 1531658, 1642250],\n",
              "       [   1979, 1605051, 1721947],\n",
              "       [   1980, 1659933, 1783876],\n",
              "       [   1981, 1667465, 1790907],\n",
              "       [   1982, 1692678, 1813970],\n",
              "       [   1983, 1670061, 1791732],\n",
              "       [   1984, 1682973, 1803830],\n",
              "       [   1985, 1720036, 1847032],\n",
              "       [   1986, 1714664, 1840164],\n",
              "       [   1987, 1737891, 1865662],\n",
              "       [   1988, 1779839, 1912602],\n",
              "       [   1989, 1843105, 1999999],\n",
              "       [   1990, 1897709, 2052543],\n",
              "       [   1991, 1874434, 2019463],\n",
              "       [   1992, 1843304, 1996388],\n",
              "       [   1993, 1808379, 1960397],\n",
              "       [   1994, 1785074, 1931157],\n",
              "       [   1995, 1757927, 1902832],\n",
              "       [   1996, 1752249, 1893378],\n",
              "       [   1997, 1739806, 1884122],\n",
              "       [   1998, 1765915, 1910250],\n",
              "       [   1999, 1772632, 1918809],\n",
              "       [   2000, 1814601, 1962406],\n",
              "       [   2001, 1799049, 1941251],\n",
              "       [   2002, 1795206, 1939815],\n",
              "       [   2003, 1825359, 1973434],\n",
              "       [   2004, 1834145, 1982794],\n",
              "       [   2005, 1845379, 1994841],\n",
              "       [   2006, 1898463, 2052377],\n",
              "       [   2007, 1919408, 2072139],\n",
              "       [   2008, 1887234, 2036289],\n",
              "       [   2009, 1832925, 1979303],\n",
              "       [   2010, 1772738, 1913851],\n",
              "       [   2011, 1753500, 1893230]])"
            ]
          },
          "metadata": {},
          "execution_count": 111
        }
      ]
    },
    {
      "cell_type": "code",
      "source": [
        "import matplotlib.pyplot as plt"
      ],
      "metadata": {
        "id": "zOZ1hQDUPb5z"
      },
      "execution_count": null,
      "outputs": []
    },
    {
      "cell_type": "code",
      "source": [
        "a = np.array([1, 2, 3, 4, 5])\n",
        "b = np.array([11, 12, 13, 14, 15])\n",
        "\n",
        "plt.plot(a, b, 'bo--')\n",
        "plt.bar(a, b)\n",
        "\n",
        "plt.title('Kor')\n",
        "plt.xlabel('babies_num')\n",
        "plt.ylabel('Score')\n",
        "plt.show()"
      ],
      "metadata": {
        "colab": {
          "base_uri": "https://localhost:8080/",
          "height": 296
        },
        "id": "CKD2OXO6Piz_",
        "outputId": "9541b773-e7fc-40a5-938b-34c77f162d76"
      },
      "execution_count": null,
      "outputs": [
        {
          "output_type": "display_data",
          "data": {
            "text/plain": [
              "<Figure size 432x288 with 1 Axes>"
            ],
            "image/png": "[encoded data removed]"
          },
          "metadata": {
            "needs_background": "light"
          }
        }
      ]
    },
    {
      "cell_type": "code",
      "source": [
        "# 1. 남자아이, 여자아이 출생 수 평균 (정수) 구하기\n",
        "for i in range(0, 132):\n",
        "  boy = np.mean(birth[i][1], dtype=np.int64)\n",
        "  girl = np.mean(birth[i][2], dtype=np.int64)\n",
        "print(boy)  \n",
        "print(girl)"
      ],
      "metadata": {
        "colab": {
          "base_uri": "https://localhost:8080/"
        },
        "id": "ZykHjkf-QAoR",
        "outputId": "22252ef4-538d-4ecc-95b2-8ab8557f08e5"
      },
      "execution_count": null,
      "outputs": [
        {
          "output_type": "stream",
          "name": "stdout",
          "text": [
            "1753500\n",
            "1893230\n"
          ]
        }
      ]
    },
    {
      "cell_type": "code",
      "source": [],
      "metadata": {
        "id": "5i1uPVV2G06D"
      },
      "execution_count": null,
      "outputs": []
    },
    {
      "cell_type": "code",
      "source": [
        "print(\"남자아이 평균 : \", int(birth[:,1].mean()))\n",
        "print(\"여자아이 평균 : \", int(birth[:,2].mean()))"
      ],
      "metadata": {
        "colab": {
          "base_uri": "https://localhost:8080/"
        },
        "id": "hIok_4UcGe_H",
        "outputId": "e0100025-6d34-40a3-9e7b-3f9fc97ce91e"
      },
      "execution_count": 74,
      "outputs": [
        {
          "output_type": "stream",
          "name": "stdout",
          "text": [
            "남자아이 평균 :  1225776\n",
            "여자아이 평균 :  1245399\n"
          ]
        }
      ]
    },
    {
      "cell_type": "code",
      "source": [
        "# 2. 2000년 ~ 2011년의 데이터\n",
        "# 연도 남자 여자\n",
        "# 2006, 1898463, 2052377 << 의 형태로 출력\n",
        "\n",
        "birth.shape\n",
        "for i in range(0, 132):\n",
        "  if (2000 <= birth[i][0] <=2011):\n",
        "    print(birth[i])"
      ],
      "metadata": {
        "colab": {
          "base_uri": "https://localhost:8080/"
        },
        "id": "4WHNA0rrQFAm",
        "outputId": "7772c7aa-4bfd-4175-de0e-ac1ac5f1fd14"
      },
      "execution_count": null,
      "outputs": [
        {
          "output_type": "stream",
          "name": "stdout",
          "text": [
            "[   2000 1814601 1962406]\n",
            "[   2001 1799049 1941251]\n",
            "[   2002 1795206 1939815]\n",
            "[   2003 1825359 1973434]\n",
            "[   2004 1834145 1982794]\n",
            "[   2005 1845379 1994841]\n",
            "[   2006 1898463 2052377]\n",
            "[   2007 1919408 2072139]\n",
            "[   2008 1887234 2036289]\n",
            "[   2009 1832925 1979303]\n",
            "[   2010 1772738 1913851]\n",
            "[   2011 1753500 1893230]\n"
          ]
        }
      ]
    },
    {
      "cell_type": "code",
      "source": [
        "print(\"연도\", \"남자\", \"여자\", sep=\"\\t\")\n",
        "print(\"=\" * 30)\n",
        "for y, m, f in birth[birth[:, 0] >= 2000]:\n",
        "  print(y, m, f, sep=\"\\t\")"
      ],
      "metadata": {
        "colab": {
          "base_uri": "https://localhost:8080/"
        },
        "id": "dh_-yugnG2v9",
        "outputId": "1e91fe40-9d30-44fd-89f3-6e1b2f096680"
      },
      "execution_count": 78,
      "outputs": [
        {
          "output_type": "stream",
          "name": "stdout",
          "text": [
            "연도\t남자\t여자\n",
            "==============================\n",
            "2000\t1814601\t1962406\n",
            "2001\t1799049\t1941251\n",
            "2002\t1795206\t1939815\n",
            "2003\t1825359\t1973434\n",
            "2004\t1834145\t1982794\n",
            "2005\t1845379\t1994841\n",
            "2006\t1898463\t2052377\n",
            "2007\t1919408\t2072139\n",
            "2008\t1887234\t2036289\n",
            "2009\t1832925\t1979303\n",
            "2010\t1772738\t1913851\n",
            "2011\t1753500\t1893230\n"
          ]
        }
      ]
    },
    {
      "cell_type": "code",
      "source": [
        "# 3. 남자아이 출생이 가장 많은 연도 / 그 해의 남자아이 출생 수\n",
        "np.argmax(birth, axis=0)\n",
        "print(birth[77])"
      ],
      "metadata": {
        "colab": {
          "base_uri": "https://localhost:8080/"
        },
        "id": "PxB8UP85QNU_",
        "outputId": "94d0f969-05d3-4e54-f4d9-654e0458c6bd"
      },
      "execution_count": null,
      "outputs": [
        {
          "output_type": "stream",
          "name": "stdout",
          "text": [
            "[   1957 2044160 2155866]\n"
          ]
        }
      ]
    },
    {
      "cell_type": "code",
      "source": [
        "# argmax() : 가장 많은 값의 index를 반환 \n",
        "birth[birth[:, 1].argmax()]\n",
        "y = birth[birth[:, 1].argmax()][0] # 연도\n",
        "b = birth[birth[:, 1].argmax()][1] # 남아 출생 수\n",
        "\n",
        "print(\"연도\", \"남자아이 출생수\", sep=\"\\t\")\n",
        "print(y, b, sep=\"\\t\")"
      ],
      "metadata": {
        "colab": {
          "base_uri": "https://localhost:8080/"
        },
        "id": "BsauDkswHpI1",
        "outputId": "af191e18-d721-46c1-97bd-a5d7b70ccc5d"
      },
      "execution_count": 101,
      "outputs": [
        {
          "output_type": "stream",
          "name": "stdout",
          "text": [
            "연도\t남자아이 출생수\n",
            "1957\t2044160\n"
          ]
        }
      ]
    },
    {
      "cell_type": "code",
      "source": [
        "# 4. 여자아이 출생이 가장 많은 top 5 / 연도 , 여자아이 수\n",
        "# np.sort(birth, axis=0)[::-1]\n",
        "np.argsort(birth, axis=0)[::-1]\n",
        "print(birth[77][0], birth[77][2])\n",
        "print(birth[79])\n",
        "print(birth[80])\n",
        "print(birth[81])\n",
        "print(birth[78])"
      ],
      "metadata": {
        "colab": {
          "base_uri": "https://localhost:8080/"
        },
        "id": "ffKGtDczQVik",
        "outputId": "b2e000dd-ce0d-45c9-cb2a-1be7792d79c3"
      },
      "execution_count": 95,
      "outputs": [
        {
          "output_type": "stream",
          "name": "stdout",
          "text": [
            "1957 2155866\n",
            "[   1959 2023044 2133509]\n",
            "[   1960 2022093 2132717]\n",
            "[   1961 2017316 2122502]\n",
            "[   1958 2010884 2120712]\n"
          ]
        }
      ]
    },
    {
      "cell_type": "code",
      "source": [
        "top5_girls = np.sort(birth[:, 2])[-1: -6 : -1] # 역순으로 찾을때는 인덱스에 -1\n",
        "                                          # 끝에서 부터 한칸씩 세기\n",
        "top5_girls\n",
        "\n",
        "print(\"연도\", \"여자아이 수\", sep=\"\\t\")\n",
        "print(\"=\" * 20)\n",
        "for i in birth:\n",
        "  for j in top5_girls:\n",
        "    if (i[2] == j):\n",
        "      print(i[0], j, sep=\"\\t\")"
      ],
      "metadata": {
        "colab": {
          "base_uri": "https://localhost:8080/"
        },
        "id": "GkBAdmoKIggN",
        "outputId": "127967b6-bae2-410b-cab7-ba34d8144e20"
      },
      "execution_count": 99,
      "outputs": [
        {
          "output_type": "stream",
          "name": "stdout",
          "text": [
            "연도\t여자아이 수\n",
            "====================\n",
            "1957\t2155866\n",
            "1958\t2120712\n",
            "1959\t2133509\n",
            "1960\t2132717\n",
            "1961\t2122502\n"
          ]
        }
      ]
    },
    {
      "cell_type": "code",
      "source": [
        "# 5. 여자아이 출생률(%), 각 연도별 여자아이 출생수가 차지하는 비율을\n",
        "#   데이터로 출력 (소수점 둘째자리까지)\n",
        "# 연도 , 남자아이, 여자아이, 여자아이 출생률\n",
        "# ===========================================\n",
        "# 1980 , 1231451, 134551, 0.41 << 의 형식\n",
        "for i in range(0, 132):\n",
        "  a = (birth[i][2] / (birth[i][1] + birth[i][2]))\n",
        "  a = np.round(a, decimals=2)\n",
        "print(birth.dtype)\n"
      ],
      "metadata": {
        "colab": {
          "base_uri": "https://localhost:8080/"
        },
        "id": "IQontNdVQcIn",
        "outputId": "f0ec6d97-3747-467e-d994-bf210f10f31d"
      },
      "execution_count": null,
      "outputs": [
        {
          "output_type": "stream",
          "name": "stdout",
          "text": [
            "int64\n"
          ]
        }
      ]
    },
    {
      "cell_type": "code",
      "source": [
        "girls_ratio = (birth[:, 2] / (birth[:, 1] + birth[:, 2])).round(2)\n",
        "# girls_ratio\n",
        "print(\"연도\", \"남아\", \"여아\", \"여아 출생률\", sep=\"\\t\")\n",
        "print(\"=\" * 40)\n",
        "for y, b, g, gr in zip(birth[:, 0], birth[:, 1], birth[:, 2], girls_ratio):\n",
        "  print(y, b, g, gr, sep=\"\\t\")"
      ],
      "metadata": {
        "colab": {
          "base_uri": "https://localhost:8080/"
        },
        "id": "LfVv4E7YNTzv",
        "outputId": "258b65c5-a4e6-4d22-af23-f038899302c6"
      },
      "execution_count": 105,
      "outputs": [
        {
          "output_type": "stream",
          "name": "stdout",
          "text": [
            "연도\t남아\t여아\t여아 출생률\n",
            "========================================\n",
            "1880\t90993\t110491\t0.55\n",
            "1881\t91954\t100745\t0.52\n",
            "1882\t107850\t113688\t0.51\n",
            "1883\t112321\t104629\t0.48\n",
            "1884\t129022\t114445\t0.47\n",
            "1885\t133055\t107800\t0.45\n",
            "1886\t144535\t110784\t0.43\n",
            "1887\t145982\t101414\t0.41\n",
            "1888\t178627\t120853\t0.4\n",
            "1889\t178366\t110584\t0.38\n",
            "1890\t190377\t111025\t0.37\n",
            "1891\t185482\t101196\t0.35\n",
            "1892\t212346\t122037\t0.36\n",
            "1893\t212906\t112317\t0.35\n",
            "1894\t222922\t115772\t0.34\n",
            "1895\t233630\t117398\t0.33\n",
            "1896\t237920\t119570\t0.33\n",
            "1897\t234202\t112758\t0.32\n",
            "1898\t258770\t122693\t0.32\n",
            "1899\t233023\t106212\t0.31\n",
            "1900\t299828\t150499\t0.33\n",
            "1901\t239348\t106471\t0.31\n",
            "1902\t264077\t122659\t0.32\n",
            "1903\t261973\t119234\t0.31\n",
            "1904\t275371\t128125\t0.32\n",
            "1905\t291629\t132319\t0.31\n",
            "1906\t295303\t133159\t0.31\n",
            "1907\t318566\t146833\t0.32\n",
            "1908\t334313\t154344\t0.32\n",
            "1909\t347228\t163999\t0.32\n",
            "1910\t396501\t194218\t0.33\n",
            "1911\t418299\t225968\t0.35\n",
            "1912\t558103\t429945\t0.44\n",
            "1913\t624518\t512557\t0.45\n",
            "1914\t761548\t654762\t0.46\n",
            "1915\t983874\t848603\t0.46\n",
            "1916\t1044323\t890099\t0.46\n",
            "1917\t1081280\t925511\t0.46\n",
            "1918\t1157647\t1013537\t0.47\n",
            "1919\t1130145\t980149\t0.46\n",
            "1920\t1198283\t1064463\t0.47\n",
            "1921\t1232999\t1101457\t0.47\n",
            "1922\t1200919\t1088287\t0.48\n",
            "1923\t1206330\t1096168\t0.48\n",
            "1924\t1248876\t1132751\t0.48\n",
            "1925\t1217352\t1115958\t0.48\n",
            "1926\t1185304\t1110505\t0.48\n",
            "1927\t1192330\t1126717\t0.49\n",
            "1928\t1153117\t1107518\t0.49\n",
            "1929\t1116422\t1075313\t0.49\n",
            "1930\t1125761\t1097176\t0.49\n",
            "1931\t1064497\t1039127\t0.49\n",
            "1932\t1066994\t1043808\t0.49\n",
            "1933\t1007710\t991127\t0.5\n",
            "1934\t1044039\t1032291\t0.5\n",
            "1935\t1048428\t1040930\t0.5\n",
            "1936\t1040202\t1036974\t0.5\n",
            "1937\t1063872\t1066309\t0.5\n",
            "1938\t1103277\t1108841\t0.5\n",
            "1939\t1096518\t1106544\t0.5\n",
            "1940\t1143325\t1158900\t0.5\n",
            "1941\t1207919\t1227941\t0.5\n",
            "1942\t1350545\t1380774\t0.51\n",
            "1943\t1395082\t1426846\t0.51\n",
            "1944\t1327104\t1362555\t0.51\n",
            "1945\t1307028\t1345610\t0.51\n",
            "1946\t1571184\t1623650\t0.51\n",
            "1947\t1772644\t1829223\t0.51\n",
            "1948\t1697814\t1754469\t0.51\n",
            "1949\t1710825\t1773725\t0.51\n",
            "1950\t1713180\t1790673\t0.51\n",
            "1951\t1800042\t1881080\t0.51\n",
            "1952\t1854698\t1944277\t0.51\n",
            "1953\t1880326\t1969777\t0.51\n",
            "1954\t1941682\t2037374\t0.51\n",
            "1955\t1954664\t2057918\t0.51\n",
            "1956\t2007512\t2113694\t0.51\n",
            "1957\t2044160\t2155866\t0.51\n",
            "1958\t2010884\t2120712\t0.51\n",
            "1959\t2023044\t2133509\t0.51\n",
            "1960\t2022093\t2132717\t0.51\n",
            "1961\t2017316\t2122502\t0.51\n",
            "1962\t1966548\t2068945\t0.51\n",
            "1963\t1927217\t2031755\t0.51\n",
            "1964\t1894594\t1993270\t0.51\n",
            "1965\t1765001\t1861378\t0.51\n",
            "1966\t1691868\t1783964\t0.51\n",
            "1967\t1650764\t1744527\t0.51\n",
            "1968\t1640103\t1738928\t0.51\n",
            "1969\t1686947\t1789732\t0.51\n",
            "1970\t1748147\t1859594\t0.52\n",
            "1971\t1663475\t1769201\t0.52\n",
            "1972\t1521185\t1622666\t0.52\n",
            "1973\t1458139\t1559338\t0.52\n",
            "1974\t1467413\t1573105\t0.52\n",
            "1975\t1457699\t1562207\t0.52\n",
            "1976\t1465096\t1569904\t0.52\n",
            "1977\t1532997\t1643684\t0.52\n",
            "1978\t1531658\t1642250\t0.52\n",
            "1979\t1605051\t1721947\t0.52\n",
            "1980\t1659933\t1783876\t0.52\n",
            "1981\t1667465\t1790907\t0.52\n",
            "1982\t1692678\t1813970\t0.52\n",
            "1983\t1670061\t1791732\t0.52\n",
            "1984\t1682973\t1803830\t0.52\n",
            "1985\t1720036\t1847032\t0.52\n",
            "1986\t1714664\t1840164\t0.52\n",
            "1987\t1737891\t1865662\t0.52\n",
            "1988\t1779839\t1912602\t0.52\n",
            "1989\t1843105\t1999999\t0.52\n",
            "1990\t1897709\t2052543\t0.52\n",
            "1991\t1874434\t2019463\t0.52\n",
            "1992\t1843304\t1996388\t0.52\n",
            "1993\t1808379\t1960397\t0.52\n",
            "1994\t1785074\t1931157\t0.52\n",
            "1995\t1757927\t1902832\t0.52\n",
            "1996\t1752249\t1893378\t0.52\n",
            "1997\t1739806\t1884122\t0.52\n",
            "1998\t1765915\t1910250\t0.52\n",
            "1999\t1772632\t1918809\t0.52\n",
            "2000\t1814601\t1962406\t0.52\n",
            "2001\t1799049\t1941251\t0.52\n",
            "2002\t1795206\t1939815\t0.52\n",
            "2003\t1825359\t1973434\t0.52\n",
            "2004\t1834145\t1982794\t0.52\n",
            "2005\t1845379\t1994841\t0.52\n",
            "2006\t1898463\t2052377\t0.52\n",
            "2007\t1919408\t2072139\t0.52\n",
            "2008\t1887234\t2036289\t0.52\n",
            "2009\t1832925\t1979303\t0.52\n",
            "2010\t1772738\t1913851\t0.52\n",
            "2011\t1753500\t1893230\t0.52\n"
          ]
        }
      ]
    },
    {
      "cell_type": "code",
      "source": [
        "# 6. 2000년도 이후 데이터에 대한 출생량\n",
        "# 남자아이의 수가 1800000이상이면 '많음' 아니면 '적음' 출력\n",
        "for i in range(0, 132):\n",
        "  if (birth[i][0] >= 2000) :\n",
        "    print(np.where((birth[i][1] > 1800000),'많음', '적음'))"
      ],
      "metadata": {
        "colab": {
          "base_uri": "https://localhost:8080/"
        },
        "id": "Cn6rju53Q1FG",
        "outputId": "80c245b9-bc86-470a-d3c0-8dbbb6476ddf"
      },
      "execution_count": null,
      "outputs": [
        {
          "output_type": "stream",
          "name": "stdout",
          "text": [
            "많음\n",
            "적음\n",
            "적음\n",
            "많음\n",
            "많음\n",
            "많음\n",
            "많음\n",
            "많음\n",
            "많음\n",
            "많음\n",
            "적음\n",
            "적음\n"
          ]
        }
      ]
    },
    {
      "cell_type": "code",
      "source": [
        "after_2000 = birth[birth[:, 0] >= 2000]\n",
        "# print(after_2000)\n",
        "\n",
        "boys = after_2000[:, 1]\n",
        "# print(boys)\n",
        "\n",
        "amount = np.where(boys >= 1800000, \"많음\", \"적음\")\n",
        "# print(amount)\n",
        "print(\"연도\", \"남아\", \"수\", sep=\"\\t\")\n",
        "for y, b, amt in zip(after_2000[:, 0], boys, amount):\n",
        "  print(y, b, amt, sep=\"\\t\")"
      ],
      "metadata": {
        "colab": {
          "base_uri": "https://localhost:8080/"
        },
        "id": "GjGjEITsOWC7",
        "outputId": "8a9cc84e-a9d6-4eaa-92b4-22b7abf7c070"
      },
      "execution_count": 111,
      "outputs": [
        {
          "output_type": "stream",
          "name": "stdout",
          "text": [
            "연도\t남아\t수\n",
            "2000\t1814601\t많음\n",
            "2001\t1799049\t적음\n",
            "2002\t1795206\t적음\n",
            "2003\t1825359\t많음\n",
            "2004\t1834145\t많음\n",
            "2005\t1845379\t많음\n",
            "2006\t1898463\t많음\n",
            "2007\t1919408\t많음\n",
            "2008\t1887234\t많음\n",
            "2009\t1832925\t많음\n",
            "2010\t1772738\t적음\n",
            "2011\t1753500\t적음\n"
          ]
        }
      ]
    },
    {
      "cell_type": "code",
      "source": [
        "# 7. 1800년대, 1900년대, 2000년대의 각 남아, 여아 출생수의 평균\n",
        "boy = []\n",
        "for i in range(0, 132):\n",
        "  if (birth[i][0] >= 2000):\n",
        "    k = np.array(birth[i], dtype=np.int64)\n",
        "    print(type(boy))\n",
        "    boy.append(k)\n",
        "    boy = np.array(boy, dtype=np.int64)\n",
        "    "
      ],
      "metadata": {
        "colab": {
          "base_uri": "https://localhost:8080/",
          "height": 284
        },
        "id": "i-LAah_1Q_gG",
        "outputId": "137f99ff-d775-48d4-dd62-8e9e98c4d493"
      },
      "execution_count": 72,
      "outputs": [
        {
          "output_type": "stream",
          "name": "stdout",
          "text": [
            "<class 'list'>\n",
            "<class 'numpy.ndarray'>\n"
          ]
        },
        {
          "output_type": "error",
          "ename": "AttributeError",
          "evalue": "ignored",
          "traceback": [
            "\u001b[0;31m---------------------------------------------------------------------------\u001b[0m",
            "\u001b[0;31mAttributeError\u001b[0m                            Traceback (most recent call last)",
            "\u001b[0;32m<ipython-input-72-16e623fb46b7>\u001b[0m in \u001b[0;36m<module>\u001b[0;34m\u001b[0m\n\u001b[1;32m      5\u001b[0m     \u001b[0mprint\u001b[0m\u001b[0;34m(\u001b[0m\u001b[0mtype\u001b[0m\u001b[0;34m(\u001b[0m\u001b[0mboy\u001b[0m\u001b[0;34m)\u001b[0m\u001b[0;34m)\u001b[0m\u001b[0;34m\u001b[0m\u001b[0;34m\u001b[0m\u001b[0m\n\u001b[1;32m      6\u001b[0m     \u001b[0mk\u001b[0m \u001b[0;34m=\u001b[0m \u001b[0mnp\u001b[0m\u001b[0;34m.\u001b[0m\u001b[0marray\u001b[0m\u001b[0;34m(\u001b[0m\u001b[0mbirth\u001b[0m\u001b[0;34m[\u001b[0m\u001b[0mi\u001b[0m\u001b[0;34m]\u001b[0m\u001b[0;34m,\u001b[0m \u001b[0mdtype\u001b[0m\u001b[0;34m=\u001b[0m\u001b[0mnp\u001b[0m\u001b[0;34m.\u001b[0m\u001b[0mint64\u001b[0m\u001b[0;34m)\u001b[0m\u001b[0;34m\u001b[0m\u001b[0;34m\u001b[0m\u001b[0m\n\u001b[0;32m----> 7\u001b[0;31m     \u001b[0mboy\u001b[0m\u001b[0;34m.\u001b[0m\u001b[0mappend\u001b[0m\u001b[0;34m(\u001b[0m\u001b[0mk\u001b[0m\u001b[0;34m)\u001b[0m\u001b[0;34m\u001b[0m\u001b[0;34m\u001b[0m\u001b[0m\n\u001b[0m\u001b[1;32m      8\u001b[0m     \u001b[0mboy\u001b[0m \u001b[0;34m=\u001b[0m \u001b[0mnp\u001b[0m\u001b[0;34m.\u001b[0m\u001b[0marray\u001b[0m\u001b[0;34m(\u001b[0m\u001b[0mboy\u001b[0m\u001b[0;34m,\u001b[0m \u001b[0mdtype\u001b[0m\u001b[0;34m=\u001b[0m\u001b[0mnp\u001b[0m\u001b[0;34m.\u001b[0m\u001b[0mint64\u001b[0m\u001b[0;34m)\u001b[0m\u001b[0;34m\u001b[0m\u001b[0;34m\u001b[0m\u001b[0m\n\u001b[1;32m      9\u001b[0m \u001b[0;34m\u001b[0m\u001b[0m\n",
            "\u001b[0;31mAttributeError\u001b[0m: 'numpy.ndarray' object has no attribute 'append'"
          ]
        }
      ]
    },
    {
      "cell_type": "code",
      "source": [
        "print(\"1800대\")\n",
        "print(\"남아평균\", \"여아평균\")\n",
        "k_1800s = birth[ (birth[:, 0] >= 1800) & (birth[:, 0] < 1900) ][:, 1:]\n",
        "print(k_1800s.mean(axis=0)[0], k_1800s.mean(axis=0)[1])\n",
        "\n",
        "print()\n",
        "\n",
        "print(\"1900대\")\n",
        "print(\"남아평균\", \"여아평균\")\n",
        "k_1900s = birth[ (birth[:, 0] >= 1900) & (birth[:, 0] < 2000) ][:, 1:]\n",
        "print(k_1900s.mean(axis=0)[0], k_1900s.mean(axis=0)[1])\n",
        "\n",
        "print()\n",
        "\n",
        "print(\"2000대\")\n",
        "print(\"남아평균\", \"여아평균\")\n",
        "k_2000s = birth[ birth[:, 0] >= 2000 ][:, 1:]\n",
        "print(k_2000s.mean(axis=0)[0].round(2), k_2000s.mean(axis=0)[1])"
      ],
      "metadata": {
        "colab": {
          "base_uri": "https://localhost:8080/"
        },
        "id": "cpZhoFSvPauc",
        "outputId": "abda0a99-d644-4a66-c33c-cb0b74b1b6e7"
      },
      "execution_count": 123,
      "outputs": [
        {
          "output_type": "stream",
          "name": "stdout",
          "text": [
            "1800대\n",
            "남아평균 여아평균\n",
            "176714.15 111820.55\n",
            "\n",
            "1900대\n",
            "남아평균 여아평균\n",
            "1362901.51 1384145.55\n",
            "\n",
            "2000대\n",
            "남아평균 여아평균\n",
            "1831500.58 1978477.5\n"
          ]
        }
      ]
    },
    {
      "cell_type": "code",
      "source": [
        "# 8. 여자아이 25% ~ 75% 의 값 구하기 (연도, 여자아이 출생수)\n",
        "print(\"연도\", \"여아 출생 수\", sep=\"\\t\")\n",
        "g_q25 = np.quantile(birth[:, 2], 0.25)\n",
        "g_q75 = np.quantile(birth[:, 2], 0.75)\n",
        "print(birth[ (birth[:, 2] >= g_q25) & (birth[:, 2] <= g_q75) ][:, [0, 2]])"
      ],
      "metadata": {
        "id": "LAhflZt5RICc",
        "colab": {
          "base_uri": "https://localhost:8080/"
        },
        "outputId": "c2401c4d-ed86-441c-c806-8fff2bcccb22"
      },
      "execution_count": 128,
      "outputs": [
        {
          "output_type": "stream",
          "name": "stdout",
          "text": [
            "연도\t여아 출생 수\n",
            "[[   1913  512557]\n",
            " [   1914  654762]\n",
            " [   1915  848603]\n",
            " [   1916  890099]\n",
            " [   1917  925511]\n",
            " [   1918 1013537]\n",
            " [   1919  980149]\n",
            " [   1920 1064463]\n",
            " [   1921 1101457]\n",
            " [   1922 1088287]\n",
            " [   1923 1096168]\n",
            " [   1924 1132751]\n",
            " [   1925 1115958]\n",
            " [   1926 1110505]\n",
            " [   1927 1126717]\n",
            " [   1928 1107518]\n",
            " [   1929 1075313]\n",
            " [   1930 1097176]\n",
            " [   1931 1039127]\n",
            " [   1932 1043808]\n",
            " [   1933  991127]\n",
            " [   1934 1032291]\n",
            " [   1935 1040930]\n",
            " [   1936 1036974]\n",
            " [   1937 1066309]\n",
            " [   1938 1108841]\n",
            " [   1939 1106544]\n",
            " [   1940 1158900]\n",
            " [   1941 1227941]\n",
            " [   1942 1380774]\n",
            " [   1943 1426846]\n",
            " [   1944 1362555]\n",
            " [   1945 1345610]\n",
            " [   1946 1623650]\n",
            " [   1947 1829223]\n",
            " [   1948 1754469]\n",
            " [   1949 1773725]\n",
            " [   1950 1790673]\n",
            " [   1951 1881080]\n",
            " [   1965 1861378]\n",
            " [   1966 1783964]\n",
            " [   1967 1744527]\n",
            " [   1968 1738928]\n",
            " [   1969 1789732]\n",
            " [   1970 1859594]\n",
            " [   1971 1769201]\n",
            " [   1972 1622666]\n",
            " [   1973 1559338]\n",
            " [   1974 1573105]\n",
            " [   1975 1562207]\n",
            " [   1976 1569904]\n",
            " [   1977 1643684]\n",
            " [   1978 1642250]\n",
            " [   1979 1721947]\n",
            " [   1980 1783876]\n",
            " [   1981 1790907]\n",
            " [   1982 1813970]\n",
            " [   1983 1791732]\n",
            " [   1984 1803830]\n",
            " [   1985 1847032]\n",
            " [   1986 1840164]\n",
            " [   1987 1865662]\n",
            " [   1995 1902832]\n",
            " [   1996 1893378]\n",
            " [   1997 1884122]\n",
            " [   2011 1893230]]\n"
          ]
        }
      ]
    },
    {
      "cell_type": "code",
      "source": [
        "# 9. 2000년대 남자아이 데이터 bar차트로 표현"
      ],
      "metadata": {
        "id": "hrqbJR3XROOh"
      },
      "execution_count": null,
      "outputs": []
    },
    {
      "cell_type": "code",
      "source": [
        "b_2000s = birth[birth[:, 0] >= 2000][:, 0:2]\n",
        "# print(b_2000s)\n",
        "import matplotlib.pyplot as plt\n",
        "plt.bar(b_2000s[:, 0], b_2000s[:, 1], color=\"salmon\")\n",
        "plt.title(\"2000s boys birth\")\n",
        "plt.xlabel(\"year\")\n",
        "plt.ylabel(\"birth\")\n",
        "plt.show()"
      ],
      "metadata": {
        "colab": {
          "base_uri": "https://localhost:8080/",
          "height": 295
        },
        "id": "NepJf_jJRj2j",
        "outputId": "5766aa90-b068-42b7-8d4f-1f129ff4a660"
      },
      "execution_count": 132,
      "outputs": [
        {
          "output_type": "display_data",
          "data": {
            "text/plain": [
              "<Figure size 432x288 with 1 Axes>"
            ],
            "image/png": "[encoded data removed]"
          },
          "metadata": {
            "needs_background": "light"
          }
        }
      ]
    }
  ]
}