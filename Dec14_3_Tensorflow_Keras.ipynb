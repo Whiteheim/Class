{
  "nbformat": 4,
  "nbformat_minor": 0,
  "metadata": {
    "colab": {
      "provenance": [],
      "authorship_tag": "ABX9TyOkNCgNYPRPTr2Ak/7rZOhA",
      "include_colab_link": true
    },
    "kernelspec": {
      "name": "python3",
      "display_name": "Python 3"
    },
    "language_info": {
      "name": "python"
    }
  },
  "cells": [
    {
      "cell_type": "markdown",
      "metadata": {
        "id": "view-in-github",
        "colab_type": "text"
      },
      "source": [
        "<a href=\"https://colab.research.google.com/github/Whiteheim/WH/blob/main/Dec14_3_Tensorflow_Keras.ipynb\" target=\"_parent\"><img src=\"https://colab.research.google.com/assets/colab-badge.svg\" alt=\"Open In Colab\"/></a>"
      ]
    },
    {
      "cell_type": "markdown",
      "source": [
        "# Tensorflow와 Keras\n",
        "\n",
        "Tensorflow - 구글에서 만든 Framework\n",
        "\n",
        "# Keras\n",
        "\n",
        "고성능 딥러닝 라이브러리\n",
        "\n",
        "구글에서 만들어낸 Framework인 Tensorflow 안에서 Keras가 동작함\n",
        "\n",
        "# Keras의 필요성\n",
        "\n",
        "Tensorflow는 입문자에게 상당히 고난이도\n",
        "\n",
        "Keras는 사용자(개발자)친화적으로 만들어져있어서 상대적으로 사용이 간편함\n",
        "\n",
        "단순한 신경망 구성등 기존에 있는 것만으로 개발이 가능하다면, Keras만으로도 충분함\n",
        "\n",
        "Detail Control에 한계가 있어서 Tensorflow로 함께 사용하면 조금 더 좋은 개발이 가능"
      ],
      "metadata": {
        "id": "ROszJxIoAt4B"
      }
    },
    {
      "cell_type": "code",
      "execution_count": 1,
      "metadata": {
        "id": "JPH56EOvAhAR"
      },
      "outputs": [],
      "source": [
        "import tensorflow as tf"
      ]
    },
    {
      "cell_type": "code",
      "source": [
        "# mnist 데이터 확보\n",
        "mnist = tf.keras.datasets.mnist"
      ],
      "metadata": {
        "id": "UtY4f52OBeXH"
      },
      "execution_count": 2,
      "outputs": []
    },
    {
      "cell_type": "code",
      "source": [
        "# 케라스를 이용해서 train_data, test_data 나누기\n",
        "train_data, test_data = tf.keras.datasets.mnist.load_data()\n",
        "# tf.keras.datasets.mnist.load_data() : 학습용 데이터, 테스트용 데이터를 각각 (feature, label)(문제, 답) 형태로 반환 \n",
        "\n",
        "(img_train, label_train) = train_data\n",
        "(img_test, label_test) = test_data\n",
        "\n",
        "# 데이터 확인\n",
        "print(train_data) # 학습용 데이터\n",
        "print()\n",
        "print(test_data)  # 테스트용 데이터"
      ],
      "metadata": {
        "colab": {
          "base_uri": "https://localhost:8080/"
        },
        "id": "8XXxkaF1BmgW",
        "outputId": "516a3f2f-cdb2-47f7-ee41-7424a92f4f9a"
      },
      "execution_count": 3,
      "outputs": [
        {
          "output_type": "stream",
          "name": "stdout",
          "text": [
            "Downloading data from https://storage.googleapis.com/tensorflow/tf-keras-datasets/mnist.npz\n",
            "11490434/11490434 [==============================] - 0s 0us/step\n",
            "(array([[[0, 0, 0, ..., 0, 0, 0],\n",
            "        [0, 0, 0, ..., 0, 0, 0],\n",
            "        [0, 0, 0, ..., 0, 0, 0],\n",
            "        ...,\n",
            "        [0, 0, 0, ..., 0, 0, 0],\n",
            "        [0, 0, 0, ..., 0, 0, 0],\n",
            "        [0, 0, 0, ..., 0, 0, 0]],\n",
            "\n",
            "       [[0, 0, 0, ..., 0, 0, 0],\n",
            "        [0, 0, 0, ..., 0, 0, 0],\n",
            "        [0, 0, 0, ..., 0, 0, 0],\n",
            "        ...,\n",
            "        [0, 0, 0, ..., 0, 0, 0],\n",
            "        [0, 0, 0, ..., 0, 0, 0],\n",
            "        [0, 0, 0, ..., 0, 0, 0]],\n",
            "\n",
            "       [[0, 0, 0, ..., 0, 0, 0],\n",
            "        [0, 0, 0, ..., 0, 0, 0],\n",
            "        [0, 0, 0, ..., 0, 0, 0],\n",
            "        ...,\n",
            "        [0, 0, 0, ..., 0, 0, 0],\n",
            "        [0, 0, 0, ..., 0, 0, 0],\n",
            "        [0, 0, 0, ..., 0, 0, 0]],\n",
            "\n",
            "       ...,\n",
            "\n",
            "       [[0, 0, 0, ..., 0, 0, 0],\n",
            "        [0, 0, 0, ..., 0, 0, 0],\n",
            "        [0, 0, 0, ..., 0, 0, 0],\n",
            "        ...,\n",
            "        [0, 0, 0, ..., 0, 0, 0],\n",
            "        [0, 0, 0, ..., 0, 0, 0],\n",
            "        [0, 0, 0, ..., 0, 0, 0]],\n",
            "\n",
            "       [[0, 0, 0, ..., 0, 0, 0],\n",
            "        [0, 0, 0, ..., 0, 0, 0],\n",
            "        [0, 0, 0, ..., 0, 0, 0],\n",
            "        ...,\n",
            "        [0, 0, 0, ..., 0, 0, 0],\n",
            "        [0, 0, 0, ..., 0, 0, 0],\n",
            "        [0, 0, 0, ..., 0, 0, 0]],\n",
            "\n",
            "       [[0, 0, 0, ..., 0, 0, 0],\n",
            "        [0, 0, 0, ..., 0, 0, 0],\n",
            "        [0, 0, 0, ..., 0, 0, 0],\n",
            "        ...,\n",
            "        [0, 0, 0, ..., 0, 0, 0],\n",
            "        [0, 0, 0, ..., 0, 0, 0],\n",
            "        [0, 0, 0, ..., 0, 0, 0]]], dtype=uint8), array([5, 0, 4, ..., 5, 6, 8], dtype=uint8))\n",
            "\n",
            "(array([[[0, 0, 0, ..., 0, 0, 0],\n",
            "        [0, 0, 0, ..., 0, 0, 0],\n",
            "        [0, 0, 0, ..., 0, 0, 0],\n",
            "        ...,\n",
            "        [0, 0, 0, ..., 0, 0, 0],\n",
            "        [0, 0, 0, ..., 0, 0, 0],\n",
            "        [0, 0, 0, ..., 0, 0, 0]],\n",
            "\n",
            "       [[0, 0, 0, ..., 0, 0, 0],\n",
            "        [0, 0, 0, ..., 0, 0, 0],\n",
            "        [0, 0, 0, ..., 0, 0, 0],\n",
            "        ...,\n",
            "        [0, 0, 0, ..., 0, 0, 0],\n",
            "        [0, 0, 0, ..., 0, 0, 0],\n",
            "        [0, 0, 0, ..., 0, 0, 0]],\n",
            "\n",
            "       [[0, 0, 0, ..., 0, 0, 0],\n",
            "        [0, 0, 0, ..., 0, 0, 0],\n",
            "        [0, 0, 0, ..., 0, 0, 0],\n",
            "        ...,\n",
            "        [0, 0, 0, ..., 0, 0, 0],\n",
            "        [0, 0, 0, ..., 0, 0, 0],\n",
            "        [0, 0, 0, ..., 0, 0, 0]],\n",
            "\n",
            "       ...,\n",
            "\n",
            "       [[0, 0, 0, ..., 0, 0, 0],\n",
            "        [0, 0, 0, ..., 0, 0, 0],\n",
            "        [0, 0, 0, ..., 0, 0, 0],\n",
            "        ...,\n",
            "        [0, 0, 0, ..., 0, 0, 0],\n",
            "        [0, 0, 0, ..., 0, 0, 0],\n",
            "        [0, 0, 0, ..., 0, 0, 0]],\n",
            "\n",
            "       [[0, 0, 0, ..., 0, 0, 0],\n",
            "        [0, 0, 0, ..., 0, 0, 0],\n",
            "        [0, 0, 0, ..., 0, 0, 0],\n",
            "        ...,\n",
            "        [0, 0, 0, ..., 0, 0, 0],\n",
            "        [0, 0, 0, ..., 0, 0, 0],\n",
            "        [0, 0, 0, ..., 0, 0, 0]],\n",
            "\n",
            "       [[0, 0, 0, ..., 0, 0, 0],\n",
            "        [0, 0, 0, ..., 0, 0, 0],\n",
            "        [0, 0, 0, ..., 0, 0, 0],\n",
            "        ...,\n",
            "        [0, 0, 0, ..., 0, 0, 0],\n",
            "        [0, 0, 0, ..., 0, 0, 0],\n",
            "        [0, 0, 0, ..., 0, 0, 0]]], dtype=uint8), array([7, 2, 1, ..., 4, 5, 6], dtype=uint8))\n"
          ]
        }
      ]
    },
    {
      "cell_type": "code",
      "source": [
        "print(img_train.shape)\n",
        "print(label_train.shape)\n",
        "print(img_test.shape)\n",
        "print(label_test.shape)"
      ],
      "metadata": {
        "colab": {
          "base_uri": "https://localhost:8080/"
        },
        "id": "WVKjOAZECSTp",
        "outputId": "2cad98d2-54b0-4255-f447-aa38a0010950"
      },
      "execution_count": 4,
      "outputs": [
        {
          "output_type": "stream",
          "name": "stdout",
          "text": [
            "(60000, 28, 28)\n",
            "(60000,)\n",
            "(10000, 28, 28)\n",
            "(10000,)\n"
          ]
        }
      ]
    },
    {
      "cell_type": "code",
      "source": [
        "img = img_train[150]\n",
        "img.shape"
      ],
      "metadata": {
        "colab": {
          "base_uri": "https://localhost:8080/"
        },
        "id": "XC8HJbhBCcv-",
        "outputId": "70c82b5f-0040-4cc6-8b05-1b0f879c8aae"
      },
      "execution_count": 11,
      "outputs": [
        {
          "output_type": "execute_result",
          "data": {
            "text/plain": [
              "(28, 28)"
            ]
          },
          "metadata": {},
          "execution_count": 11
        }
      ]
    },
    {
      "cell_type": "code",
      "source": [
        "import matplotlib.pyplot as plt\n",
        "\n",
        "plt.imshow(img, 'gray')\n",
        "plt.show()"
      ],
      "metadata": {
        "colab": {
          "base_uri": "https://localhost:8080/",
          "height": 283
        },
        "id": "qUSHl0wXCnpW",
        "outputId": "0187e232-c0d7-4ee9-bdd1-0409184f0c86"
      },
      "execution_count": 12,
      "outputs": [
        {
          "output_type": "execute_result",
          "data": {
            "text/plain": [
              "<function matplotlib.pyplot.show(*args, **kw)>"
            ]
          },
          "metadata": {},
          "execution_count": 12
        },
        {
          "output_type": "display_data",
          "data": {
            "text/plain": [
              "<Figure size 432x288 with 1 Axes>"
            ],
            "image/png": "[encoded data removed]"
          },
          "metadata": {
            "needs_background": "light"
          }
        }
      ]
    },
    {
      "cell_type": "markdown",
      "source": [
        "# 주요 용어 \n",
        "\n",
        "# 하이퍼 파라미터 (Hyper-Parameter)\n",
        "\n",
        "머신러닝 or 딥러닝에서 모델을 훈련시킬 때,\n",
        "\n",
        "조금 더 나은 조건에서 훈련할 수 있도록 [사용자가 직접] 설정해주는 옵션값\n",
        "\n",
        "ex) 학습 속도, 반복횟수 , ... 등을 사용자가 직접 설정\n",
        "\n",
        "---\n",
        "\n",
        "어떤 값을 어떻게 설정하는지에 따라, 그 모델의 성능이나 결과가 달라짐\n",
        "\n",
        "사용자가 따로 옵션을 설정하지 않으면, 자동적으로 default값을 적용\n",
        "\n"
      ],
      "metadata": {
        "id": "a0oZnbIAJmdG"
      }
    },
    {
      "cell_type": "markdown",
      "source": [
        "# 에포크 (epoch)\n",
        "\n",
        "반복 횟수 지정\n",
        "\n",
        "데이터를 학습시키는 과정을 몇 번 반복해서 모델이 최적의 가중치를 찾아낼 수 있도록 하는 방법\n",
        "\n"
      ],
      "metadata": {
        "id": "gcczxuznKOjn"
      }
    },
    {
      "cell_type": "markdown",
      "source": [
        "# 과소적합(underfitting) vs 과대적합(overfitting)\n",
        "\n",
        "모델 학습에 있어서 데이터는 크게\n",
        "\n",
        "학습용 데이터 / 테스트(예측)용 데이터로 구분\n",
        "\n",
        "학습용 데이터 - 반복적으로 학습을 시키면 모델은 사람이 발견하기 어려운 패턴을 발견하게 되어\n",
        "사람의 예측성능 보다 우월한 모델 생성이 가능\n",
        "\n",
        "예측용 데이터 - 예측용 데이터가 학습시킨 모델과는 다른 데이터의 분포를 가지고 있거나, 학습시킨 데이터가 한 쪽으로 치우친(편향된) 데이터일 때, 그 모델은 예측성능이 떨어지게 됨\n",
        "\n",
        "\n",
        "  * 과소적합 : 모델이 충분히 학습하지 못한 경우 -> 예측 성능 저하\n",
        "  * 과대적합 : 학습데이터를 지나치게 많이 반복학습을 시킨 경우\n",
        "\n",
        "=> 이 두가지 문제를 최소화 하며, 정확도를 높일 수 있도록 해야함"
      ],
      "metadata": {
        "id": "YGmppKLYKcQQ"
      }
    },
    {
      "cell_type": "code",
      "source": [
        "import tensorflow as tf\n",
        "from tensorflow import keras\n",
        "import numpy as np\n",
        "import matplotlib.pyplot as plt"
      ],
      "metadata": {
        "id": "FxftHXjSLaXo"
      },
      "execution_count": 13,
      "outputs": []
    },
    {
      "cell_type": "code",
      "source": [
        "# mnist dataset 가져오기\n",
        "\n",
        "from tensorflow.keras import datasets\n",
        "mnist = datasets.mnist"
      ],
      "metadata": {
        "id": "MX0zq7u0Lj4_"
      },
      "execution_count": 15,
      "outputs": []
    },
    {
      "cell_type": "code",
      "source": [
        "# train / test 용 나누기\n",
        "(train_data, train_label), (test_data, test_label) = mnist.load_data()"
      ],
      "metadata": {
        "id": "_tXOSAuXLzNQ"
      },
      "execution_count": 18,
      "outputs": []
    },
    {
      "cell_type": "code",
      "source": [
        "train_data.shape"
      ],
      "metadata": {
        "colab": {
          "base_uri": "https://localhost:8080/"
        },
        "id": "_2abFkfkMBEA",
        "outputId": "f53db464-d02d-4733-8570-bd4d1d12de5f"
      },
      "execution_count": 19,
      "outputs": [
        {
          "output_type": "execute_result",
          "data": {
            "text/plain": [
              "(60000, 28, 28)"
            ]
          },
          "metadata": {},
          "execution_count": 19
        }
      ]
    },
    {
      "cell_type": "code",
      "source": [
        "# matplotlib으로 \n",
        "# 500번째에 있는 학습데이터의 data를 그림으로 출력 + 제목에는 그 그림에 해당하는 숫자가 나오도록\n",
        "plt.title(train_label[500])\n",
        "plt.imshow(train_data[500], 'gray')\n",
        "plt.show()"
      ],
      "metadata": {
        "colab": {
          "base_uri": "https://localhost:8080/",
          "height": 281
        },
        "id": "_OH5US33MGwv",
        "outputId": "1e5ca77e-7870-4e87-df1d-de43dbf3159d"
      },
      "execution_count": 20,
      "outputs": [
        {
          "output_type": "display_data",
          "data": {
            "text/plain": [
              "<Figure size 432x288 with 1 Axes>"
            ],
            "image/png": "[encoded data removed]"
          },
          "metadata": {
            "needs_background": "light"
          }
        }
      ]
    },
    {
      "cell_type": "markdown",
      "source": [
        "# 딥러닝 프로세스 (Deep Learning Process)\n",
        "\n",
        "# 1. 데이터 로드\n",
        "\n",
        "# 2. 데이터 전처리 (Data Preperocessing)\n",
        "\n",
        "Data를 Model에 입력하기 전 데이터를 '가공' 하는 단계\n",
        "\n",
        "가지고 있는 데이터 종류, 모델에 적용하려는 훈련 방법 등에 따라서 전처리 방법은 천차만별\n",
        "\n",
        "경우에 따라서는 배열의 차원에 변경이 이루어지기도 하고, 스케일의 조정이 이루어지기도 함 \n",
        "\n",
        "데이터 전처리를 제대로 진행해야 다음에 나올 모델생성에서 올바르게 모델 정의를 할 수 있음\n",
        "\n",
        "# 3. 데이터 분할(학습용, 테스트용)"
      ],
      "metadata": {
        "id": "QdgKz2HANRbY"
      }
    },
    {
      "cell_type": "markdown",
      "source": [
        "# 4. 모델 생성\n",
        "\n",
        "모델의 구조를 파악하고 만들어내는 단계\n",
        "  * 모델 생성 방법\n",
        "    * Sequential API : 순차적 구조의 모델\n",
        "    * Functional API, Model Subclassing : 다중 입출력을 가진 복잡한 구조의 모델\n",
        "\n",
        "# 5. 모델 컴파일 (compile)\n",
        "\n",
        "만들어진 모델 훈련에 사용할 다양한 옵션 설정 가능\n",
        "\n",
        ".compile() 함수를 사용\n",
        "  * 손실함수(loss)\n",
        "  * 옵티마이저(optimizer)\n",
        "  * 평가지표(metrics)\n",
        "\n",
        "# 6. 모델 훈련\n",
        "\n",
        ".fit() 함수에 모델 훈련에 필요한 정보를 파라미터로 전달\n",
        "\n",
        "  * 훈련 데이터셋\n",
        "  * 검증 데이터셋\n",
        "  * 배치(batch)\n",
        "  * 크기\n",
        "  * 콜백(call-back)"
      ],
      "metadata": {
        "id": "2NzAjVbqOA5L"
      }
    },
    {
      "cell_type": "markdown",
      "source": [
        "# 7. 모델 검증 (evalueate)\n",
        "\n",
        "훈련이 끝난 모델이 얼마나 정확한지 검증하는 단계\n",
        "\n",
        "모델 훈련시에 사용하지 않은 데이터셋을 모델에 입력시킨 후에, 그 모델이 예측한 값과 정답을 비교해서 평가지표를 내림 \n",
        "\n",
        "이 검증결과를 바탕으로 모델 생성단계로 돌아가서 컴파일, 모델 수정 등이 이루어짐\n",
        "\n",
        "목표한 성능에 도달할 때 까지 계속 그 과정이 반복 (4번 부터)\n",
        "\n",
        "# 8. 예측 (predict)\n",
        "\n",
        "test용 데이터를 입력해서 모델 예측값을 얻는 과정\n",
        "\n",
        "# 2, 3, 4, 5번의 경우에는 모델 학습을 위한 필수 프로세스 (절대 빼먹으면 안됨)"
      ],
      "metadata": {
        "id": "q94KAIcxPBQu"
      }
    },
    {
      "cell_type": "code",
      "source": [
        "# (train_data, train_label) => 모델 학습용 , (test_data, test_label) => 테스트용"
      ],
      "metadata": {
        "id": "l5S4kjNVP6sG"
      },
      "execution_count": null,
      "outputs": []
    },
    {
      "cell_type": "code",
      "source": [
        "# 이미지 한장의 픽셀값의 최대, 최소값\n",
        "# 정규화 하기 전\n",
        "print(train_data.min()) # 최소값 : 0\n",
        "print(train_data.max()) # 최대값 : 255"
      ],
      "metadata": {
        "colab": {
          "base_uri": "https://localhost:8080/"
        },
        "id": "AITZ0edOQIzl",
        "outputId": "5b52c6b9-3eb5-4d34-c8c1-cf0089b64857"
      },
      "execution_count": 21,
      "outputs": [
        {
          "output_type": "stream",
          "name": "stdout",
          "text": [
            "0\n",
            "255\n"
          ]
        }
      ]
    },
    {
      "cell_type": "code",
      "source": [
        "# 이미지에 대한 내용을 정규화 \n",
        "train_data, test_data = train_data / train_data.max(), test_data / train_data.max()\n",
        "\n",
        "print(test_data.shape) # (10000, 28, 28) - 데이터 값의 범위는 축소, 원본 배열 형태는 그대로 유지\n",
        "# 10000 : dataset의 크기 / (28, 28) : 이미지의 크기\n",
        "\n",
        "# 정규화 한 후에 train_data의 배열\n",
        "train_data[0, 5:10, 5: 10]    # 정규화 후의 데이터는 모두 0 ~ 1 사이\n",
        "\n",
        "# 정규화 : 데이터 값의 전체 범위를 0 ~ 1 사이의 값으로 조정하는것"
      ],
      "metadata": {
        "colab": {
          "base_uri": "https://localhost:8080/"
        },
        "id": "N6h9qiYwQcxN",
        "outputId": "2c7a4018-0c1f-45ce-9714-045a7bf8c6bb"
      },
      "execution_count": 26,
      "outputs": [
        {
          "output_type": "stream",
          "name": "stdout",
          "text": [
            "(10000, 28, 28)\n"
          ]
        },
        {
          "output_type": "execute_result",
          "data": {
            "text/plain": [
              "array([[0.        , 0.        , 0.        , 0.        , 0.        ],\n",
              "       [0.        , 0.        , 0.        , 0.11764706, 0.14117647],\n",
              "       [0.        , 0.        , 0.19215686, 0.93333333, 0.99215686],\n",
              "       [0.        , 0.        , 0.07058824, 0.85882353, 0.99215686],\n",
              "       [0.        , 0.        , 0.        , 0.31372549, 0.61176471]])"
            ]
          },
          "metadata": {},
          "execution_count": 26
        }
      ]
    },
    {
      "cell_type": "code",
      "source": [
        "# 모델 생성\n",
        "\n",
        "# Sequential() : 순차적 구조의 모델 >> 구조를 설정하고 층(layer)을 설정하는 부분\n",
        "# [] : 대괄호 안에 있는 부분이 layer\n",
        "model = tf.keras.models.Sequential([\n",
        "    tf.keras.layers.Flatten(input_shape=(28, 28)), # 1차원(vector)으로 평평하게 만들기\n",
        "    # input_shape << 반드시 설정할 것\n",
        "    # (28, 28) 크기의 matrix가 입력되면 1차원 vector로 바꾸어 달라\n",
        "    tf.keras.layers.Dense(128, activation='relu'), # 은닉층 (중간층)에 신경망을 만드는 단계 \n",
        "    # (128개 짜리 퍼셉트론으로 구성되는 layer 하나짜리)\n",
        "    # activation='relu' : 은닉층의 활성화 함수\n",
        "    tf.keras.layers.Dropout(0.2), # 과대적합을 막아주는 역할\n",
        "    # 128개의 신경망중, 무작위로 20%는 0으로 만듬\n",
        "    tf.keras.layers.Dense(10, activation='softmax')\n",
        "    # 10개의 퍼셉트론으로 만든 레이어\n",
        "    # 10개의 값을 출력하는 이유 : 0 ~ 9까지, 총 10개의 이미지가 어떤 숫자를 의미하는지 파악하기 위함\n",
        "    # activation='softmax' : 마지막 층의 결과 값을 다중분류를 위한 확률값으로 계산할 수 있도록 도와주는 함수\n",
        "\n",
        "    # 활성화 함수(activation) : 결과값을 변환해서 다른층으로 보내주는 역할\n",
        "\n",
        "    # 'linear' : 기본값, 입력뉴런과 가중치로 계산된 결과값이 그대로 출력\n",
        "    # 'relu' : rectifier 함수, 은닉층에서 주로 사용\n",
        "    # 'sigmoid' : 시그모이드 함수, 이진 분류 - 출력층에서 주로 사용\n",
        "    # 'softmax' : 소프트맥스 함수, 다중 분류 - 출력층에서 주로 사용\n",
        "])\n",
        "print(model.summary()) # 모델의 구조 확인"
      ],
      "metadata": {
        "colab": {
          "base_uri": "https://localhost:8080/"
        },
        "id": "eyypiGJIVBJV",
        "outputId": "6b01ab35-ba33-4f34-a835-3d4a49589493"
      },
      "execution_count": 27,
      "outputs": [
        {
          "output_type": "stream",
          "name": "stdout",
          "text": [
            "Model: \"sequential\"\n",
            "_________________________________________________________________\n",
            " Layer (type)                Output Shape              Param #   \n",
            "=================================================================\n",
            " flatten (Flatten)           (None, 784)               0         \n",
            "                                                                 \n",
            " dense (Dense)               (None, 128)               100480    \n",
            "                                                                 \n",
            " dropout (Dropout)           (None, 128)               0         \n",
            "                                                                 \n",
            " dense_1 (Dense)             (None, 10)                1290      \n",
            "                                                                 \n",
            "=================================================================\n",
            "Total params: 101,770\n",
            "Trainable params: 101,770\n",
            "Non-trainable params: 0\n",
            "_________________________________________________________________\n",
            "None\n"
          ]
        }
      ]
    },
    {
      "cell_type": "code",
      "source": [
        "# 컴파일 \n",
        "# .complie : 학습 방법에 대한 설정\n",
        "#   sequential에서 정해진 모델을 컴퓨터가 알아들을 수 있는 말로 compile하는 부분\n",
        "model.compile(\n",
        "    optimizer='adam', # 최적화하기\n",
        "    # 옵티마이저는 손실 함수를 통해 얻어낸 손실값으로부터 모델을 업데이트하는 방식\n",
        "    # 그 중에서 adam이라는 옵티마이저를 사용\n",
        "    loss='sparse_categorical_crossentropy',\n",
        "    # 손실함수 (loss function) : 모델을 최적화 시킬 때 사용하는 함수\n",
        "    # 손실함수는 신경망의 예측이 얼마나 잘 맞는지 측정하는 역할\n",
        "    # categorical_crossentropy: 다중분류 손실함수 (one-hot encoding 클래스 기반)\n",
        "    #   출력값이 one-hot encoding된 결과를 나타냄\n",
        "    # sparse_categorical_crossentropy : 다중분류 손실함수 (one-hot encoding이 아닌것)\n",
        "    #   출력값이 integer type 클래스로 반환\n",
        "    # binary_crossentropy : 클래스가 2개인 이진 분류 손실함수\n",
        "    #   label이 0 또는 1을 값으로 가질 때 사용\n",
        "    metrics=['accuracy'] # 정확도 확인\n",
        ")"
      ],
      "metadata": {
        "id": "sCc544ZxX-Vh"
      },
      "execution_count": 29,
      "outputs": []
    },
    {
      "cell_type": "code",
      "source": [
        "# training, evaluation (훈련, 검증)\n",
        "# .fit() : model을 실제로 학습시키는 단계\n",
        "# (train_data, train_label), (test_data, test_label)\n",
        "model.fit(train_data, train_label, epochs=10) # 6만개의 학습 데이터를 10번 반복훈련 하겠다\n",
        "\n",
        "# 훈련데이터에서 사용하지 않았던 (test_data, test_label)로 검증/평가\n",
        "model.evaluate(test_data, test_label)"
      ],
      "metadata": {
        "colab": {
          "base_uri": "https://localhost:8080/"
        },
        "id": "lllsubQ9ZayG",
        "outputId": "114a70ef-af6f-4cf1-e112-1cf46146c9bf"
      },
      "execution_count": 30,
      "outputs": [
        {
          "output_type": "stream",
          "name": "stdout",
          "text": [
            "Epoch 1/10\n",
            "1875/1875 [==============================] - 6s 3ms/step - loss: 0.2950 - accuracy: 0.9143\n",
            "Epoch 2/10\n",
            "1875/1875 [==============================] - 5s 3ms/step - loss: 0.1418 - accuracy: 0.9576\n",
            "Epoch 3/10\n",
            "1875/1875 [==============================] - 5s 3ms/step - loss: 0.1073 - accuracy: 0.9675\n",
            "Epoch 4/10\n",
            "1875/1875 [==============================] - 5s 3ms/step - loss: 0.0908 - accuracy: 0.9718\n",
            "Epoch 5/10\n",
            "1875/1875 [==============================] - 5s 3ms/step - loss: 0.0734 - accuracy: 0.9769\n",
            "Epoch 6/10\n",
            "1875/1875 [==============================] - 5s 3ms/step - loss: 0.0641 - accuracy: 0.9798\n",
            "Epoch 7/10\n",
            "1875/1875 [==============================] - 5s 3ms/step - loss: 0.0585 - accuracy: 0.9816\n",
            "Epoch 8/10\n",
            "1875/1875 [==============================] - 5s 3ms/step - loss: 0.0534 - accuracy: 0.9819\n",
            "Epoch 9/10\n",
            "1875/1875 [==============================] - 5s 3ms/step - loss: 0.0474 - accuracy: 0.9846\n",
            "Epoch 10/10\n",
            "1875/1875 [==============================] - 5s 3ms/step - loss: 0.0433 - accuracy: 0.9855\n",
            "313/313 [==============================] - 1s 2ms/step - loss: 0.0735 - accuracy: 0.9795\n"
          ]
        },
        {
          "output_type": "execute_result",
          "data": {
            "text/plain": [
              "[0.07352855056524277, 0.9794999957084656]"
            ]
          },
          "metadata": {},
          "execution_count": 30
        }
      ]
    },
    {
      "cell_type": "code",
      "source": [
        "# data 탐색\n",
        "\n",
        "# 훈련용 데이터의 길이 만큼의 숫자중, 랜덤한 숫자 하나 뽑아와서 확인\n",
        "index = np.random.randint(len(train_data))\n",
        "\n",
        "# 해당하는 숫자가 있는 train_data의 데이터를 img2라는 변수에 넣음\n",
        "img2 = train_data[index]\n",
        "\n",
        "plt.imshow(img2, 'gray')\n",
        "plt.title(train_label[index])\n",
        "plt.show()"
      ],
      "metadata": {
        "colab": {
          "base_uri": "https://localhost:8080/",
          "height": 281
        },
        "id": "RevG3IuEaLlW",
        "outputId": "4852517d-4184-43d9-8840-244637eca496"
      },
      "execution_count": 51,
      "outputs": [
        {
          "output_type": "display_data",
          "data": {
            "text/plain": [
              "<Figure size 432x288 with 1 Axes>"
            ],
            "image/png": "[encoded data removed]"
          },
          "metadata": {
            "needs_background": "light"
          }
        }
      ]
    },
    {
      "cell_type": "markdown",
      "source": [
        "# 내가 만든 그림으로 확인하기\n",
        "\n",
        "그림판으로 숫자하나 그려서 저장\n",
        "\n",
        "그림판 크기 => (28, 28)"
      ],
      "metadata": {
        "id": "kiutCMqPbdUF"
      }
    },
    {
      "cell_type": "code",
      "source": [
        "import os\n",
        "from PIL import Image\n",
        "from google.colab import files\n",
        "\n",
        "upload = files.upload()"
      ],
      "metadata": {
        "colab": {
          "base_uri": "https://localhost:8080/",
          "height": 77
        },
        "id": "r9BenRctb-EN",
        "outputId": "d9280b00-d0a5-4b9e-91e2-c5cac6b4976a"
      },
      "execution_count": 52,
      "outputs": [
        {
          "output_type": "display_data",
          "data": {
            "text/plain": [
              "<IPython.core.display.HTML object>"
            ],
            "text/html": [
              "\n",
              "     <input type=\"file\" id=\"files-fd210e04-26fc-48fa-aba5-6a1695e76e64\" name=\"files[]\" multiple disabled\n",
              "        style=\"border:none\" />\n",
              "     <output id=\"result-fd210e04-26fc-48fa-aba5-6a1695e76e64\">\n",
              "      Upload widget is only available when the cell has been executed in the\n",
              "      current browser session. Please rerun this cell to enable.\n",
              "      </output>\n",
              "      <script>// Copyright 2017 Google LLC\n",
              "//\n",
              "// Licensed under the Apache License, Version 2.0 (the \"License\");\n",
              "// you may not use this file except in compliance with the License.\n",
              "// You may obtain a copy of the License at\n",
              "//\n",
              "//      http://www.apache.org/licenses/LICENSE-2.0\n",
              "//\n",
              "// Unless required by applicable law or agreed to in writing, software\n",
              "// distributed under the License is distributed on an \"AS IS\" BASIS,\n",
              "// WITHOUT WARRANTIES OR CONDITIONS OF ANY KIND, either express or implied.\n",
              "// See the License for the specific language governing permissions and\n",
              "// limitations under the License.\n",
              "\n",
              "/**\n",
              " * @fileoverview Helpers for google.colab Python module.\n",
              " */\n",
              "(function(scope) {\n",
              "function span(text, styleAttributes = {}) {\n",
              "  const element = document.createElement('span');\n",
              "  element.textContent = text;\n",
              "  for (const key of Object.keys(styleAttributes)) {\n",
              "    element.style[key] = styleAttributes[key];\n",
              "  }\n",
              "  return element;\n",
              "}\n",
              "\n",
              "// Max number of bytes which will be uploaded at a time.\n",
              "const MAX_PAYLOAD_SIZE = 100 * 1024;\n",
              "\n",
              "function _uploadFiles(inputId, outputId) {\n",
              "  const steps = uploadFilesStep(inputId, outputId);\n",
              "  const outputElement = document.getElementById(outputId);\n",
              "  // Cache steps on the outputElement to make it available for the next call\n",
              "  // to uploadFilesContinue from Python.\n",
              "  outputElement.steps = steps;\n",
              "\n",
              "  return _uploadFilesContinue(outputId);\n",
              "}\n",
              "\n",
              "// This is roughly an async generator (not supported in the browser yet),\n",
              "// where there are multiple asynchronous steps and the Python side is going\n",
              "// to poll for completion of each step.\n",
              "// This uses a Promise to block the python side on completion of each step,\n",
              "// then passes the result of the previous step as the input to the next step.\n",
              "function _uploadFilesContinue(outputId) {\n",
              "  const outputElement = document.getElementById(outputId);\n",
              "  const steps = outputElement.steps;\n",
              "\n",
              "  const next = steps.next(outputElement.lastPromiseValue);\n",
              "  return Promise.resolve(next.value.promise).then((value) => {\n",
              "    // Cache the last promise value to make it available to the next\n",
              "    // step of the generator.\n",
              "    outputElement.lastPromiseValue = value;\n",
              "    return next.value.response;\n",
              "  });\n",
              "}\n",
              "\n",
              "/**\n",
              " * Generator function which is called between each async step of the upload\n",
              " * process.\n",
              " * @param {string} inputId Element ID of the input file picker element.\n",
              " * @param {string} outputId Element ID of the output display.\n",
              " * @return {!Iterable<!Object>} Iterable of next steps.\n",
              " */\n",
              "function* uploadFilesStep(inputId, outputId) {\n",
              "  const inputElement = document.getElementById(inputId);\n",
              "  inputElement.disabled = false;\n",
              "\n",
              "  const outputElement = document.getElementById(outputId);\n",
              "  outputElement.innerHTML = '';\n",
              "\n",
              "  const pickedPromise = new Promise((resolve) => {\n",
              "    inputElement.addEventListener('change', (e) => {\n",
              "      resolve(e.target.files);\n",
              "    });\n",
              "  });\n",
              "\n",
              "  const cancel = document.createElement('button');\n",
              "  inputElement.parentElement.appendChild(cancel);\n",
              "  cancel.textContent = 'Cancel upload';\n",
              "  const cancelPromise = new Promise((resolve) => {\n",
              "    cancel.onclick = () => {\n",
              "      resolve(null);\n",
              "    };\n",
              "  });\n",
              "\n",
              "  // Wait for the user to pick the files.\n",
              "  const files = yield {\n",
              "    promise: Promise.race([pickedPromise, cancelPromise]),\n",
              "    response: {\n",
              "      action: 'starting',\n",
              "    }\n",
              "  };\n",
              "\n",
              "  cancel.remove();\n",
              "\n",
              "  // Disable the input element since further picks are not allowed.\n",
              "  inputElement.disabled = true;\n",
              "\n",
              "  if (!files) {\n",
              "    return {\n",
              "      response: {\n",
              "        action: 'complete',\n",
              "      }\n",
              "    };\n",
              "  }\n",
              "\n",
              "  for (const file of files) {\n",
              "    const li = document.createElement('li');\n",
              "    li.append(span(file.name, {fontWeight: 'bold'}));\n",
              "    li.append(span(\n",
              "        `(${file.type || 'n/a'}) - ${file.size} bytes, ` +\n",
              "        `last modified: ${\n",
              "            file.lastModifiedDate ? file.lastModifiedDate.toLocaleDateString() :\n",
              "                                    'n/a'} - `));\n",
              "    const percent = span('0% done');\n",
              "    li.appendChild(percent);\n",
              "\n",
              "    outputElement.appendChild(li);\n",
              "\n",
              "    const fileDataPromise = new Promise((resolve) => {\n",
              "      const reader = new FileReader();\n",
              "      reader.onload = (e) => {\n",
              "        resolve(e.target.result);\n",
              "      };\n",
              "      reader.readAsArrayBuffer(file);\n",
              "    });\n",
              "    // Wait for the data to be ready.\n",
              "    let fileData = yield {\n",
              "      promise: fileDataPromise,\n",
              "      response: {\n",
              "        action: 'continue',\n",
              "      }\n",
              "    };\n",
              "\n",
              "    // Use a chunked sending to avoid message size limits. See b/62115660.\n",
              "    let position = 0;\n",
              "    do {\n",
              "      const length = Math.min(fileData.byteLength - position, MAX_PAYLOAD_SIZE);\n",
              "      const chunk = new Uint8Array(fileData, position, length);\n",
              "      position += length;\n",
              "\n",
              "      const base64 = btoa(String.fromCharCode.apply(null, chunk));\n",
              "      yield {\n",
              "        response: {\n",
              "          action: 'append',\n",
              "          file: file.name,\n",
              "          data: base64,\n",
              "        },\n",
              "      };\n",
              "\n",
              "      let percentDone = fileData.byteLength === 0 ?\n",
              "          100 :\n",
              "          Math.round((position / fileData.byteLength) * 100);\n",
              "      percent.textContent = `${percentDone}% done`;\n",
              "\n",
              "    } while (position < fileData.byteLength);\n",
              "  }\n",
              "\n",
              "  // All done.\n",
              "  yield {\n",
              "    response: {\n",
              "      action: 'complete',\n",
              "    }\n",
              "  };\n",
              "}\n",
              "\n",
              "scope.google = scope.google || {};\n",
              "scope.google.colab = scope.google.colab || {};\n",
              "scope.google.colab._files = {\n",
              "  _uploadFiles,\n",
              "  _uploadFilesContinue,\n",
              "};\n",
              "})(self);\n",
              "</script> "
            ]
          },
          "metadata": {}
        },
        {
          "output_type": "stream",
          "name": "stdout",
          "text": [
            "Saving three.png to three.png\n"
          ]
        }
      ]
    },
    {
      "cell_type": "code",
      "source": [
        "# 경로 설정\n",
        "dir = os.getcwd()\n",
        "imgPath = os.path.join(dir, 'three.png')\n",
        "\n",
        "# 파일 읽기\n",
        "nowImg = Image.open(imgPath)\n",
        "print(nowImg)\n",
        "\n",
        "# 28 x 28로 사이즈 변환\n",
        "nowImg = nowImg.resize((28, 28))\n",
        "myImg = np.asarray(nowImg)\n",
        "\n",
        "# 컬러 이미지의 경우 RGB의 평균값으로 변경\n",
        "try:\n",
        "  myImg = np.mean(myImg, axis=2)\n",
        "except:\n",
        "  pass\n",
        "\n",
        "# 이미지의 RGB평균을 절대값으로 계산해 다시 이미지에 넣는 작업\n",
        "myImg = np.abs(255 - myImg)\n",
        "myImg = myImg.astype(np.float32) / 255\n",
        "\n",
        "plt.imshow(myImg, 'gray')\n",
        "plt.show()"
      ],
      "metadata": {
        "colab": {
          "base_uri": "https://localhost:8080/",
          "height": 283
        },
        "id": "Tx-cqxQjcSWX",
        "outputId": "3366d97d-b514-4e21-c292-e6c8c7ce742a"
      },
      "execution_count": 55,
      "outputs": [
        {
          "output_type": "stream",
          "name": "stdout",
          "text": [
            "<PIL.PngImagePlugin.PngImageFile image mode=RGB size=28x28 at 0x7F799EB51700>\n"
          ]
        },
        {
          "output_type": "display_data",
          "data": {
            "text/plain": [
              "<Figure size 432x288 with 1 Axes>"
            ],
            "image/png": "[encoded data removed]"
          },
          "metadata": {
            "needs_background": "light"
          }
        }
      ]
    },
    {
      "cell_type": "code",
      "source": [
        "# shape를 병경해서 학습된 model과 비교\n",
        "myImg = np.reshape(myImg, (1, 28, 28))\n",
        "print(model.predict(myImg))\n",
        "\n",
        "print('Model이 예측한 값은 {}'.format(np.argmax(model.predict(myImg))))"
      ],
      "metadata": {
        "colab": {
          "base_uri": "https://localhost:8080/"
        },
        "id": "QZiNVhRzdbLj",
        "outputId": "bf3d95a2-500a-4d67-9350-6762436901d2"
      },
      "execution_count": 60,
      "outputs": [
        {
          "output_type": "stream",
          "name": "stdout",
          "text": [
            "1/1 [==============================] - 0s 22ms/step\n",
            "[[8.5288060e-26 2.9144219e-29 9.8396653e-01 8.6790681e-07 0.0000000e+00\n",
            "  1.6029567e-02 6.2056935e-12 2.9848118e-06 6.3719047e-36 0.0000000e+00]]\n",
            "1/1 [==============================] - 0s 18ms/step\n",
            "Model이 예측한 값은 2\n"
          ]
        }
      ]
    }
  ]
}