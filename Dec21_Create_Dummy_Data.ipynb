{
  "nbformat": 4,
  "nbformat_minor": 0,
  "metadata": {
    "colab": {
      "provenance": [],
      "authorship_tag": "ABX9TyNIaavuu2RUNjKxIEDnywf2",
      "include_colab_link": true
    },
    "kernelspec": {
      "name": "python3",
      "display_name": "Python 3"
    },
    "language_info": {
      "name": "python"
    }
  },
  "cells": [
    {
      "cell_type": "markdown",
      "metadata": {
        "id": "view-in-github",
        "colab_type": "text"
      },
      "source": [
        "<a href=\"https://colab.research.google.com/github/Whiteheim/Class/blob/main/Dec21_Create_Dummy_Data.ipynb\" target=\"_parent\"><img src=\"https://colab.research.google.com/assets/colab-badge.svg\" alt=\"Open In Colab\"/></a>"
      ]
    },
    {
      "cell_type": "code",
      "execution_count": null,
      "metadata": {
        "colab": {
          "base_uri": "https://localhost:8080/"
        },
        "id": "bp_sdUEuATBN",
        "outputId": "8981b047-891e-4561-c3f6-e07317512465"
      },
      "outputs": [
        {
          "output_type": "stream",
          "name": "stdout",
          "text": [
            "Looking in indexes: https://pypi.org/simple, https://us-python.pkg.dev/colab-wheels/public/simple/\n",
            "Collecting Faker\n",
            "  Downloading Faker-15.3.4-py3-none-any.whl (1.6 MB)\n",
            "\u001b[K     |████████████████████████████████| 1.6 MB 5.2 MB/s \n",
            "\u001b[?25hRequirement already satisfied: python-dateutil>=2.4 in /usr/local/lib/python3.8/dist-packages (from Faker) (2.8.2)\n",
            "Requirement already satisfied: six>=1.5 in /usr/local/lib/python3.8/dist-packages (from python-dateutil>=2.4->Faker) (1.15.0)\n",
            "Installing collected packages: Faker\n",
            "Successfully installed Faker-15.3.4\n"
          ]
        }
      ],
      "source": [
        "pip install Faker"
      ]
    },
    {
      "cell_type": "code",
      "source": [
        " from faker import Faker"
      ],
      "metadata": {
        "id": "IsmYpZRfBB68"
      },
      "execution_count": null,
      "outputs": []
    },
    {
      "cell_type": "code",
      "source": [
        "import pandas as pd"
      ],
      "metadata": {
        "id": "B4hCIX38B3cn"
      },
      "execution_count": null,
      "outputs": []
    },
    {
      "cell_type": "code",
      "source": [
        "# 무작위 주소 데이터\n",
        "f = Faker('ko-kr')\n",
        "Faker.seed()\n",
        "\n",
        "repeat_count = 1000\n",
        "\n",
        "address = []\n",
        "address = [f.unique.address() for i in range(repeat_count)]\n",
        "\n",
        "with open('address.csv', 'a', encoding='utf-8') as f : \n",
        "  for i in address:\n",
        "    f.write(f\"{i}\\n\")\n",
        "\n",
        "print('완료')"
      ],
      "metadata": {
        "colab": {
          "base_uri": "https://localhost:8080/"
        },
        "id": "ExvvVCU9BFq7",
        "outputId": "932959ee-c634-4a94-f952-8072df26b23e"
      },
      "execution_count": 53,
      "outputs": [
        {
          "output_type": "stream",
          "name": "stdout",
          "text": [
            "완료\n"
          ]
        }
      ]
    },
    {
      "cell_type": "code",
      "source": [
        "# 무작위 이름 데이터\n",
        "f = Faker('ko-kr')\n",
        "Faker.seed()\n",
        "\n",
        "repeat_count = 1000\n",
        "\n",
        "names = []\n",
        "names = [f.unique.name() for i in range(repeat_count)]\n",
        "\n",
        "with open('names.csv', 'a', encoding='utf-8') as f : \n",
        "  for i in names:\n",
        "    f.write(f\"{i}\\n\")\n",
        "\n",
        "print('완료')"
      ],
      "metadata": {
        "colab": {
          "base_uri": "https://localhost:8080/"
        },
        "id": "mInaXcPwInvX",
        "outputId": "f8aae95d-7918-4950-8f94-3e1fa354aaee"
      },
      "execution_count": 52,
      "outputs": [
        {
          "output_type": "stream",
          "name": "stdout",
          "text": [
            "완료\n"
          ]
        }
      ]
    }
  ]
}