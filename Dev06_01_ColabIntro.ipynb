{
  "nbformat": 4,
  "nbformat_minor": 0,
  "metadata": {
    "colab": {
      "provenance": [],
      "authorship_tag": "ABX9TyNex4jPVEb+Xpsei0z6YC2v",
      "include_colab_link": true
    },
    "kernelspec": {
      "name": "python3",
      "display_name": "Python 3"
    },
    "language_info": {
      "name": "python"
    }
  },
  "cells": [
    {
      "cell_type": "markdown",
      "metadata": {
        "id": "view-in-github",
        "colab_type": "text"
      },
      "source": [
        "<a href=\"https://colab.research.google.com/github/Whiteheim/WH/blob/main/Dev06_01_ColabIntro.ipynb\" target=\"_parent\"><img src=\"https://colab.research.google.com/assets/colab-badge.svg\" alt=\"Open In Colab\"/></a>"
      ]
    },
    {
      "cell_type": "markdown",
      "source": [
        "# Colab\n",
        "\n",
        "구글에서 제공하는 Colab\n",
        "\n",
        "브라우저에서 python을 작성하고, 실행 가능한 어플리케이션\n",
        "\n",
        "클라우드를 기반으로 한 주피터 노트북 개발 환경\n",
        "\n",
        "컴퓨터에 GPU가 없거나, 사양이 낮을 때 \n",
        "-> Colab을 사용하면 좋음 \n",
        "\n",
        "별도의 Python 설치할 필요 없음\n",
        "\n",
        "데이터 분석에 사용하는 numpy, pandas, keras, \n",
        "scikit-learn, tensorflow, ... 패키지가 기본적으로 설치되어있음.\n",
        "\n",
        "다른 주피터 노트북보다 더 좋은기능과 환경을 제공함.\n",
        "\n",
        "명령어\n",
        "\n",
        "Ctrl + Enter : 해당하는 셀 실행\n",
        "\n",
        "Ctrl + M + Z : 실행 취소 \n",
        "\n",
        "Ctrl + M + D : 셀 지우기\n",
        "\n",
        "도구 탭 - 단축키 란에 여러 단축키 확인 가능\n",
        "\n",
        "작성하고 있는 탭 \n",
        "-> 텍스트 쉘\n",
        "\n",
        "'#' 처리를 하게 되면 h1태그의 느낌을 줌\n",
        "\n",
        "'*' or '-' : 리스트 처리\n",
        "\n"
      ],
      "metadata": {
        "id": "HRY-hu4Z7ZTw"
      }
    },
    {
      "cell_type": "code",
      "source": [
        "print(\"와\")"
      ],
      "metadata": {
        "colab": {
          "base_uri": "https://localhost:8080/"
        },
        "id": "uDDEwqwK9Ska",
        "outputId": "062ae971-4df0-4674-8d92-f8882c5242c6"
      },
      "execution_count": 1,
      "outputs": [
        {
          "output_type": "stream",
          "name": "stdout",
          "text": [
            "와\n"
          ]
        }
      ]
    }
  ]
}