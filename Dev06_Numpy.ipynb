{
  "nbformat": 4,
  "nbformat_minor": 0,
  "metadata": {
    "colab": {
      "provenance": [],
      "authorship_tag": "ABX9TyM4YQG/pCbDyb9KnjliziyX",
      "include_colab_link": true
    },
    "kernelspec": {
      "name": "python3",
      "display_name": "Python 3"
    },
    "language_info": {
      "name": "python"
    }
  },
  "cells": [
    {
      "cell_type": "markdown",
      "metadata": {
        "id": "view-in-github",
        "colab_type": "text"
      },
      "source": [
        "<a href=\"https://colab.research.google.com/github/Whiteheim/WH/blob/main/Dev06_Numpy.ipynb\" target=\"_parent\"><img src=\"https://colab.research.google.com/assets/colab-badge.svg\" alt=\"Open In Colab\"/></a>"
      ]
    },
    {
      "cell_type": "markdown",
      "source": [
        "\n",
        "# Numpy (Numerical Python)\n",
        "\n",
        "C언어 기반 파이썬 라이브러리\n",
        "\n",
        "고성능의 수치 계산 및 과학 계산을 위한 라이브러리\n",
        "\n",
        "수치 연산을 수행하는 선형대수 (Linear algebra) 라이브러리\n",
        "\n",
        "List의 확장판, 데이터 연산과 통계분석을 하는 차이가 있음\n",
        "\n",
        "다차원 배열을 처리하는데 필요한 여러 유용한 기능들 제공 \n",
        "\n",
        "-> 데이터 분석을 할 때 사용하는 Pandas와 Matplotlib의 기반으로 사용되기도 함\n",
        "\n",
        "==> 데이터를 [다차원 배열로 표현] 한다 라고 이해하면 됨.\n",
        "\n",
        "모든 배열의 값이 기본적으로 같은 자료형이어야 함.\n",
        "\n",
        "Numpy에서는 각 차원(Dimension)을 축(axis)로 표현\n",
        "\n",
        "ndarray : numpy에서 핵심 기능\n",
        "          동일한 자료형의 n-차원 배열을 모아주는 역할\n",
        "\n",
        "(배열의 차원 : rank , 각 차원의 크기 : tuple)\n",
        "\n",
        "==> Shape라고 표현.\n",
        "\n",
        "Ex) 2행 3열 인 경우 : 2차원 배열, rank 는 2, shape는 (2,3) \n",
        "\n",
        "\n",
        "numpy 배열을 생성하는 방법:\n",
        "  1. Python List 사용\n",
        "  2. numpy에서 제공하는 함수 사용"
      ],
      "metadata": {
        "id": "mRHTIIj7-iYd"
      }
    },
    {
      "cell_type": "code",
      "source": [
        "import numpy as np\n",
        "import matplotlib.pyplot as plt"
      ],
      "metadata": {
        "id": "bjyknRcm-f5M"
      },
      "execution_count": 1,
      "outputs": []
    },
    {
      "cell_type": "markdown",
      "source": [
        "List : 하나의 리스트 안에 숫자, 문자 섞어서 들어가는것이 가능\n",
        "\n",
        "numpy : 항상 같은 타입의 데이터들만 들어갈 수 있음\n",
        "\n"
      ],
      "metadata": {
        "id": "rrrCCIH3D_3X"
      }
    },
    {
      "cell_type": "markdown",
      "source": [],
      "metadata": {
        "id": "d4e6PigtQvzz"
      }
    },
    {
      "cell_type": "markdown",
      "source": [
        "# Part 1. Numpy ndarray\n",
        "\n",
        "Numpy의 핵심 기능 : ndarray\n",
        "\n",
        "ndarry : 다차원의 배열 객체 / \n",
        "\n",
        "  파이썬에서 대규모 데이터 집합을 담을 수 있는, \n",
        "  빠르고 유용한 자료구조\n",
        "\n",
        "용어 정리\n",
        "\n",
        "* scalar : 상수 값 (10, 3.141592, 'Korea')\n",
        "\n",
        "* vector (1차원 배열) : [10, 20, 30]\n",
        "\n",
        "* metrix (2차원 배열) : [[10, 20, 30], [100, 200, 300]]\n",
        "2x3 짜리 배열 \n",
        "\n",
        "* 3차원 배열 : [[[10, 20, 30], [100, 200, 300]], [[10, 20, 30],[100, 200, 300]]] \n",
        "2x2x3짜리 배열"
      ],
      "metadata": {
        "id": "7Sj-KC3-EP-T"
      }
    },
    {
      "cell_type": "code",
      "source": [
        "data1 = [1, 2, 3, 4, 5]\n",
        "data1"
      ],
      "metadata": {
        "colab": {
          "base_uri": "https://localhost:8080/"
        },
        "id": "-MNN5FIzFtsy",
        "outputId": "219759d5-2bb7-4830-c05f-85a6eb06a953"
      },
      "execution_count": 3,
      "outputs": [
        {
          "output_type": "execute_result",
          "data": {
            "text/plain": [
              "[1, 2, 3, 4, 5]"
            ]
          },
          "metadata": {},
          "execution_count": 3
        }
      ]
    },
    {
      "cell_type": "code",
      "source": [
        "data2 = [1, 2, 3, 3.5, 4]\n",
        "data2"
      ],
      "metadata": {
        "colab": {
          "base_uri": "https://localhost:8080/"
        },
        "id": "m4gA0AT1FxXf",
        "outputId": "c5f33654-73f4-4e2d-e51c-31d896eda472"
      },
      "execution_count": 4,
      "outputs": [
        {
          "output_type": "execute_result",
          "data": {
            "text/plain": [
              "[1, 2, 3, 3.5, 4]"
            ]
          },
          "metadata": {},
          "execution_count": 4
        }
      ]
    },
    {
      "cell_type": "code",
      "source": [
        "# numpy를 이용해 array 정의하기\n",
        "\n",
        "# 1. 위에서 만든 python list 이용\n",
        "\n",
        "arr1 = np.array(data1)\n",
        "print(arr1)\n",
        "\n",
        "arr2 = np.array(data2)\n",
        "print(arr2)"
      ],
      "metadata": {
        "colab": {
          "base_uri": "https://localhost:8080/"
        },
        "id": "SAZQFsw5F5P1",
        "outputId": "00e42eb2-4291-426c-9685-6136d7f09de5"
      },
      "execution_count": 5,
      "outputs": [
        {
          "output_type": "stream",
          "name": "stdout",
          "text": [
            "[1 2 3 4 5]\n",
            "[1.  2.  3.  3.5 4. ]\n"
          ]
        }
      ]
    },
    {
      "cell_type": "code",
      "source": [
        "# python list를 넣어서 만들기\n",
        "a = np.array([1, 2, 3])\n",
        "print(a, type(a))"
      ],
      "metadata": {
        "colab": {
          "base_uri": "https://localhost:8080/"
        },
        "id": "zEprFAilGXuE",
        "outputId": "85fbd070-8365-4d3a-d183-d0a56e69ccc7"
      },
      "execution_count": 7,
      "outputs": [
        {
          "output_type": "stream",
          "name": "stdout",
          "text": [
            "[1 2 3] <class 'numpy.ndarray'>\n"
          ]
        }
      ]
    },
    {
      "cell_type": "code",
      "source": [
        "# ndarray 생성방법 2\n",
        "\n",
        "arr3 = np.arange(1, 11) # 1 ~ 11까지\n",
        "arr3"
      ],
      "metadata": {
        "colab": {
          "base_uri": "https://localhost:8080/"
        },
        "id": "nyKhNYJjGjIo",
        "outputId": "95a3c2e3-70ad-4f9f-ee10-6d93dd1f3a07"
      },
      "execution_count": 8,
      "outputs": [
        {
          "output_type": "execute_result",
          "data": {
            "text/plain": [
              "array([ 1,  2,  3,  4,  5,  6,  7,  8,  9, 10])"
            ]
          },
          "metadata": {},
          "execution_count": 8
        }
      ]
    },
    {
      "cell_type": "code",
      "source": [
        "# ndarray 생성방법 3\n",
        "\n",
        "arr4 = np.random.randint(1, 11, size = 5) # 1 ~ 10까지 숫자중 랜덤 5개\n",
        "arr4"
      ],
      "metadata": {
        "colab": {
          "base_uri": "https://localhost:8080/"
        },
        "id": "G-j4phdEGrtY",
        "outputId": "5e0accaf-1855-4c54-dde2-d2d5ff74c9b4"
      },
      "execution_count": 9,
      "outputs": [
        {
          "output_type": "execute_result",
          "data": {
            "text/plain": [
              "array([10,  5, 10,  6,  6])"
            ]
          },
          "metadata": {},
          "execution_count": 9
        }
      ]
    },
    {
      "cell_type": "markdown",
      "source": [
        "# np.random 관련 함수\n",
        "\n",
        "* np.random.rand()\n",
        "* np.random.randint()\n",
        "* np.random.randn()\n",
        "* np.random.choice()"
      ],
      "metadata": {
        "id": "b6Vk1e9SHB93"
      }
    },
    {
      "cell_type": "code",
      "source": [
        "np.random.rand(5) # 0~1 사이의 랜덤한 실수값 반환 (5개)"
      ],
      "metadata": {
        "colab": {
          "base_uri": "https://localhost:8080/"
        },
        "id": "VDvb-ozsHbJB",
        "outputId": "94ac2285-fb48-4e24-bb45-8632064b8c96"
      },
      "execution_count": 10,
      "outputs": [
        {
          "output_type": "execute_result",
          "data": {
            "text/plain": [
              "array([0.94351226, 0.42291112, 0.38243788, 0.64555125, 0.23309041])"
            ]
          },
          "metadata": {},
          "execution_count": 10
        }
      ]
    },
    {
      "cell_type": "code",
      "source": [
        "np.random.randint(10) # 0 ~ (10 - 1) 까지의 랜덤한 정수값 반환"
      ],
      "metadata": {
        "colab": {
          "base_uri": "https://localhost:8080/"
        },
        "id": "KRuTgWKyHhgz",
        "outputId": "4a622519-7143-4115-dddb-2ccfe18eeacc"
      },
      "execution_count": 11,
      "outputs": [
        {
          "output_type": "execute_result",
          "data": {
            "text/plain": [
              "3"
            ]
          },
          "metadata": {},
          "execution_count": 11
        }
      ]
    },
    {
      "cell_type": "code",
      "source": [
        "np.random.randn(5) # 표준 정규분포값 5개 반환 (평균 0, 편차 1)"
      ],
      "metadata": {
        "colab": {
          "base_uri": "https://localhost:8080/"
        },
        "id": "BvI2xmkjHozx",
        "outputId": "6b26b984-d734-4967-9ef0-13ad5b7d3992"
      },
      "execution_count": 14,
      "outputs": [
        {
          "output_type": "execute_result",
          "data": {
            "text/plain": [
              "array([-0.67788629, -1.02238464,  0.60703571, -1.06448303,  1.37098277])"
            ]
          },
          "metadata": {},
          "execution_count": 14
        }
      ]
    },
    {
      "cell_type": "code",
      "source": [
        "np.random.choice([1, 2, 3, 4, 5]) # 배열 안의 값 중 랜덤하게 하나 뽑아 반환"
      ],
      "metadata": {
        "colab": {
          "base_uri": "https://localhost:8080/"
        },
        "id": "2vq9K233H3Am",
        "outputId": "4c87a25e-0bb3-4b34-98b6-60d69da27d3a"
      },
      "execution_count": 15,
      "outputs": [
        {
          "output_type": "execute_result",
          "data": {
            "text/plain": [
              "5"
            ]
          },
          "metadata": {},
          "execution_count": 15
        }
      ]
    },
    {
      "cell_type": "code",
      "source": [
        "# List와 비교\n",
        "l = [1, 2, 3]\n",
        "a = np.array([1, 2, 3])\n",
        "print(l)    # ','로 요소를 구분\n",
        "print(a)    # ' '로 요소를 구분"
      ],
      "metadata": {
        "colab": {
          "base_uri": "https://localhost:8080/"
        },
        "id": "qUtcAsJ6IHso",
        "outputId": "8a7e93c2-ed42-437f-e67a-36795f26ef7f"
      },
      "execution_count": 16,
      "outputs": [
        {
          "output_type": "stream",
          "name": "stdout",
          "text": [
            "[1, 2, 3]\n",
            "[1 2 3]\n"
          ]
        }
      ]
    },
    {
      "cell_type": "code",
      "source": [
        "# numpy 반복문\n",
        "for i in a:\n",
        "  print(i)"
      ],
      "metadata": {
        "colab": {
          "base_uri": "https://localhost:8080/"
        },
        "id": "ErVaawEwIaKL",
        "outputId": "78db6f1a-2a75-46d3-919b-913c95188898"
      },
      "execution_count": 17,
      "outputs": [
        {
          "output_type": "stream",
          "name": "stdout",
          "text": [
            "1\n",
            "2\n",
            "3\n"
          ]
        }
      ]
    },
    {
      "cell_type": "code",
      "source": [
        "# list에서 append\n",
        "l.append(4) # 배열의 제일 마지막에 숫자 4가 포함됨\n",
        "print(l)\n",
        "\n",
        "# numpy에서 append >> 불가능"
      ],
      "metadata": {
        "colab": {
          "base_uri": "https://localhost:8080/"
        },
        "id": "KfTaPByNIr_X",
        "outputId": "c9ce64ca-5ab8-4273-c5cb-e0e88f63091a"
      },
      "execution_count": 18,
      "outputs": [
        {
          "output_type": "stream",
          "name": "stdout",
          "text": [
            "[1, 2, 3, 4]\n"
          ]
        }
      ]
    },
    {
      "cell_type": "code",
      "source": [
        "# numpy에서의 append >> np.append으로 대상배열을 지정해 사용\n",
        "a = np.append(a, 4)\n",
        "print(a)"
      ],
      "metadata": {
        "colab": {
          "base_uri": "https://localhost:8080/"
        },
        "id": "A9oAU3lOI4bc",
        "outputId": "90b3d442-704a-45f8-f379-c44a4bd0283c"
      },
      "execution_count": 20,
      "outputs": [
        {
          "output_type": "stream",
          "name": "stdout",
          "text": [
            "[1 2 3 4]\n"
          ]
        }
      ]
    },
    {
      "cell_type": "code",
      "source": [
        "# list에서 덧셈 >> 배열 마지막에 숫자 5 추기\n",
        "l = l + [5]\n",
        "print(l)"
      ],
      "metadata": {
        "colab": {
          "base_uri": "https://localhost:8080/"
        },
        "id": "190Sb37YJOhu",
        "outputId": "7035d5fa-939b-4cb9-ea66-09385fe3a9ad"
      },
      "execution_count": 21,
      "outputs": [
        {
          "output_type": "stream",
          "name": "stdout",
          "text": [
            "[1, 2, 3, 4, 5]\n"
          ]
        }
      ]
    },
    {
      "cell_type": "code",
      "source": [
        "# numpy에서 덧셈 >> 각 요소에 + 5\n",
        "a = a + np.array([5])\n",
        "print(a)"
      ],
      "metadata": {
        "colab": {
          "base_uri": "https://localhost:8080/"
        },
        "id": "r_HPd0ruJY8j",
        "outputId": "8131f37a-b9c8-46c8-ca9a-8aee0c286469"
      },
      "execution_count": 22,
      "outputs": [
        {
          "output_type": "stream",
          "name": "stdout",
          "text": [
            "[6 7 8 9]\n"
          ]
        }
      ]
    },
    {
      "cell_type": "code",
      "source": [
        "# list의 모든 요소를 2배로 만들기\n",
        "l = [1, 2, 3]\n",
        "# l = [l[0] * 2, l[1] *2, l[2] * 2]\n",
        "l2 = []\n",
        "for i in l:\n",
        "  l2.append(i * 2)\n",
        "print(l2)"
      ],
      "metadata": {
        "colab": {
          "base_uri": "https://localhost:8080/"
        },
        "id": "pXmKEo-3JlRt",
        "outputId": "2dddec8e-0dfa-4afa-8559-77c7deba6228"
      },
      "execution_count": 38,
      "outputs": [
        {
          "output_type": "stream",
          "name": "stdout",
          "text": [
            "[2, 4, 6]\n"
          ]
        }
      ]
    },
    {
      "cell_type": "code",
      "source": [
        "# ndarray의 모든 요소를 2배로 만들기\n",
        "a = np.array(l)\n",
        "a = a * 2\n",
        "print(a)\n",
        "\n",
        "# Numpy에서는 산술연산 가능"
      ],
      "metadata": {
        "colab": {
          "base_uri": "https://localhost:8080/"
        },
        "id": "95IqgI4eJu2v",
        "outputId": "78af65c6-6e72-445d-8dca-e519a49c1f32"
      },
      "execution_count": 41,
      "outputs": [
        {
          "output_type": "stream",
          "name": "stdout",
          "text": [
            "[2 4 6]\n"
          ]
        }
      ]
    },
    {
      "cell_type": "markdown",
      "source": [
        "# Part 2. 배열\n",
        "\n",
        "Numpy 배열은 모두 같은 자료형의 값\n",
        "\n",
        "음수가 아닌 정수의 tuple로 인덱싱\n",
        "\n",
        "배열의 shape는 각 차원별 배열 크기의 tuple형태\n",
        "\n",
        "중첩된 파이썬 리스트로부터 numpy 배열을 초기화 가능\n",
        "\n",
        "대괄호를 사용해 각각의 요소로 접근 가능\n",
        "\n"
      ],
      "metadata": {
        "id": "w0TMZVJyLcOm"
      }
    },
    {
      "cell_type": "code",
      "source": [
        "ex = [[1, 2, 3], [4, 5, 6], [7, 8, 9]]\n",
        "print(ex)  # list속 list\n",
        "print(np.array(ex))\n",
        "exx = np.array(ex)\n",
        "exx.shape # shape로 확인하여 데이터의 갯수, 차원을 알 수 있음"
      ],
      "metadata": {
        "colab": {
          "base_uri": "https://localhost:8080/"
        },
        "id": "IQvRpDY2MBPy",
        "outputId": "f4012405-b9fe-40fb-a755-b4eaa7142570"
      },
      "execution_count": 43,
      "outputs": [
        {
          "output_type": "stream",
          "name": "stdout",
          "text": [
            "[[1, 2, 3], [4, 5, 6], [7, 8, 9]]\n",
            "[[1 2 3]\n",
            " [4 5 6]\n",
            " [7 8 9]]\n"
          ]
        },
        {
          "output_type": "execute_result",
          "data": {
            "text/plain": [
              "(3, 3)"
            ]
          },
          "metadata": {},
          "execution_count": 43
        }
      ]
    },
    {
      "cell_type": "code",
      "source": [
        "a = np.array([1, 2, 3])\n",
        "print(a)\n",
        "\n",
        "print(type(a), a.ndim, a.shape, a.dtype)\n",
        "\n",
        "# [1 2 3]\n",
        "# <class 'numpy.ndarray'> 1 (3,) int64\n",
        "# ndim : 현재 배열의 차원 (1차원)\n",
        "# shape : array의 형태(크기)\n",
        "# (3, ) : 1차원, 튜플의 형태 -> 뒤의 요소가 공백이고 콤마로 구분됨\n",
        "# dtype : 배열 요소의 자료형\n"
      ],
      "metadata": {
        "colab": {
          "base_uri": "https://localhost:8080/"
        },
        "id": "Vor7igqKMsR6",
        "outputId": "5b5e95e2-d223-431a-844a-e12a90e4e501"
      },
      "execution_count": 44,
      "outputs": [
        {
          "output_type": "stream",
          "name": "stdout",
          "text": [
            "[1 2 3]\n",
            "<class 'numpy.ndarray'> 1 (3,) int64\n"
          ]
        }
      ]
    },
    {
      "cell_type": "markdown",
      "source": [
        "# Array 연산\n",
        "\n",
        "기본적으로 numpy에서 연산을 하는 경우\n",
        "\n",
        "서로 크기가 같은 array끼리 연산을 진행\n",
        "\n",
        "같은위치에 있는 요소들 끼리 연산을 진행\n"
      ],
      "metadata": {
        "id": "onbS0AxORhXI"
      }
    },
    {
      "cell_type": "code",
      "source": [
        "arr1 = np.array([[1, 2, 3], [4, 5, 6]])\n",
        "arr1"
      ],
      "metadata": {
        "colab": {
          "base_uri": "https://localhost:8080/"
        },
        "id": "54Qk_65-Rug5",
        "outputId": "c31fb972-1ad1-432a-d80f-4be3c3da2d30"
      },
      "execution_count": 45,
      "outputs": [
        {
          "output_type": "execute_result",
          "data": {
            "text/plain": [
              "array([[1, 2, 3],\n",
              "       [4, 5, 6]])"
            ]
          },
          "metadata": {},
          "execution_count": 45
        }
      ]
    },
    {
      "cell_type": "code",
      "source": [
        "arr2 = np.array([[10, 11, 12], [13, 14, 15]])\n",
        "arr2"
      ],
      "metadata": {
        "colab": {
          "base_uri": "https://localhost:8080/"
        },
        "id": "SuIWXRHvR0b5",
        "outputId": "60bc913a-a948-427a-d792-14c97a02ebaa"
      },
      "execution_count": 46,
      "outputs": [
        {
          "output_type": "execute_result",
          "data": {
            "text/plain": [
              "array([[10, 11, 12],\n",
              "       [13, 14, 15]])"
            ]
          },
          "metadata": {},
          "execution_count": 46
        }
      ]
    },
    {
      "cell_type": "code",
      "source": [
        "print(arr1.shape, arr2.shape) # 크기가 서로 동일한 array"
      ],
      "metadata": {
        "colab": {
          "base_uri": "https://localhost:8080/"
        },
        "id": "qb3skokeR7ke",
        "outputId": "187fb515-7dc0-418e-d16b-ec9a9694ee2c"
      },
      "execution_count": 47,
      "outputs": [
        {
          "output_type": "stream",
          "name": "stdout",
          "text": [
            "(2, 3) (2, 3)\n"
          ]
        }
      ]
    },
    {
      "cell_type": "code",
      "source": [
        "# arr1, arr2\n",
        "\n",
        "# 덧셈\n",
        "print(arr1 + arr2)\n",
        "# 뺄셈\n",
        "print(arr1 - arr2)\n",
        "# 곱셈\n",
        "print(arr1 * arr2)\n",
        "# 나눗셈\n",
        "print(arr1 / arr2)"
      ],
      "metadata": {
        "colab": {
          "base_uri": "https://localhost:8080/"
        },
        "id": "53CPN7sLSBTH",
        "outputId": "b621d653-b933-4420-e024-95736e2170e8"
      },
      "execution_count": 48,
      "outputs": [
        {
          "output_type": "stream",
          "name": "stdout",
          "text": [
            "[[11 13 15]\n",
            " [17 19 21]]\n",
            "[[-9 -9 -9]\n",
            " [-9 -9 -9]]\n",
            "[[10 22 36]\n",
            " [52 70 90]]\n",
            "[[0.1        0.18181818 0.25      ]\n",
            " [0.30769231 0.35714286 0.4       ]]\n"
          ]
        }
      ]
    },
    {
      "cell_type": "markdown",
      "source": [
        "# Array BroadCasting\n",
        "\n",
        "브로드 캐스팅 (BroadCasting)\n",
        "- 모양, 크기, 형태가 다른 배열들 간의 연산이 조건이 만족되었을 떄, 연산이 가능해지도록 배열을 자동적으로 변환하는 것\n",
        "\n",
        "-> 서로 크기가 다른 array들의 연산이 가능해짐\n",
        "\n"
      ],
      "metadata": {
        "id": "TVym8yLmSw4S"
      }
    },
    {
      "cell_type": "code",
      "source": [
        "arr1"
      ],
      "metadata": {
        "colab": {
          "base_uri": "https://localhost:8080/"
        },
        "id": "xxGpWahaTWBe",
        "outputId": "ba5ebf96-7fa2-49cb-c705-02a014b6ff84"
      },
      "execution_count": 49,
      "outputs": [
        {
          "output_type": "execute_result",
          "data": {
            "text/plain": [
              "array([[1, 2, 3],\n",
              "       [4, 5, 6]])"
            ]
          },
          "metadata": {},
          "execution_count": 49
        }
      ]
    },
    {
      "cell_type": "code",
      "source": [
        "arr3 = np.array([7, 8, 9])\n",
        "arr3"
      ],
      "metadata": {
        "colab": {
          "base_uri": "https://localhost:8080/"
        },
        "id": "aIfaFSpjTXro",
        "outputId": "bde7fe53-2f50-4907-90f9-631173fdb9ae"
      },
      "execution_count": 50,
      "outputs": [
        {
          "output_type": "execute_result",
          "data": {
            "text/plain": [
              "array([7, 8, 9])"
            ]
          },
          "metadata": {},
          "execution_count": 50
        }
      ]
    },
    {
      "cell_type": "code",
      "source": [
        "print(arr1.shape, arr3.shape)"
      ],
      "metadata": {
        "colab": {
          "base_uri": "https://localhost:8080/"
        },
        "id": "FssN0YnRTbdg",
        "outputId": "d66127dc-fc2d-4d08-aa59-eb28e28a234a"
      },
      "execution_count": 51,
      "outputs": [
        {
          "output_type": "stream",
          "name": "stdout",
          "text": [
            "(2, 3) (3,)\n"
          ]
        }
      ]
    },
    {
      "cell_type": "code",
      "source": [
        "# arr1, arr3 사칙연산\n",
        "\n",
        "print(arr1 + arr3)\n",
        "print(arr1 - arr3)\n",
        "print(arr1 * arr3)\n",
        "print(arr1 / arr3)\n",
        "\n",
        "# arr3의 array([7, 8, 9]) 가\n",
        "# arr1과 1차원의 크기가 같아서\n",
        "# [[7, 8, 9], [7, 8, 9]]로 확장되어 계산이 가능해짐"
      ],
      "metadata": {
        "colab": {
          "base_uri": "https://localhost:8080/"
        },
        "id": "DS3sTXmrTgDF",
        "outputId": "b7e54d32-39b2-4226-ba11-f30b90299b26"
      },
      "execution_count": 52,
      "outputs": [
        {
          "output_type": "stream",
          "name": "stdout",
          "text": [
            "[[ 8 10 12]\n",
            " [11 13 15]]\n",
            "[[-6 -6 -6]\n",
            " [-3 -3 -3]]\n",
            "[[ 7 16 27]\n",
            " [28 40 54]]\n",
            "[[0.14285714 0.25       0.33333333]\n",
            " [0.57142857 0.625      0.66666667]]\n"
          ]
        }
      ]
    },
    {
      "cell_type": "code",
      "source": [
        "# 스칼라(Scalar) 연산\n",
        "# 스칼라는 방향은 없지만, 실수 공간에서 크기만 나타내는 값\n",
        "# 실수 전체 집합에 속하는 값\n",
        "arr1 * 10"
      ],
      "metadata": {
        "colab": {
          "base_uri": "https://localhost:8080/"
        },
        "id": "c2xD1tI4mNFC",
        "outputId": "dcd09645-6e5f-4c78-ffd7-dc6d433d61ae"
      },
      "execution_count": 53,
      "outputs": [
        {
          "output_type": "execute_result",
          "data": {
            "text/plain": [
              "array([[10, 20, 30],\n",
              "       [40, 50, 60]])"
            ]
          },
          "metadata": {},
          "execution_count": 53
        }
      ]
    },
    {
      "cell_type": "code",
      "source": [
        "# np.array() vs np.asarray()\n",
        "b = np.asarray(a)\n",
        "print(a)\n",
        "print(b)"
      ],
      "metadata": {
        "colab": {
          "base_uri": "https://localhost:8080/"
        },
        "id": "KyLtso7FmgDE",
        "outputId": "0b0453a8-cd99-434f-8be6-6cb5e50a4022"
      },
      "execution_count": 54,
      "outputs": [
        {
          "output_type": "stream",
          "name": "stdout",
          "text": [
            "[1 2 3]\n",
            "[1 2 3]\n"
          ]
        }
      ]
    },
    {
      "cell_type": "code",
      "source": [
        "b[0] = 9\n",
        "print(a)\n",
        "print(b)"
      ],
      "metadata": {
        "colab": {
          "base_uri": "https://localhost:8080/"
        },
        "id": "iG6BkHjTmu9L",
        "outputId": "327fc86e-b866-402b-a58a-5884cecef6e6"
      },
      "execution_count": 55,
      "outputs": [
        {
          "output_type": "stream",
          "name": "stdout",
          "text": [
            "[9 2 3]\n",
            "[9 2 3]\n"
          ]
        }
      ]
    },
    {
      "cell_type": "code",
      "source": [
        "c = np.array(a)\n",
        "print(c)"
      ],
      "metadata": {
        "colab": {
          "base_uri": "https://localhost:8080/"
        },
        "id": "35utCG9rnC1H",
        "outputId": "01cf8a07-1fb0-4bd6-ef0e-73e9adb35bf5"
      },
      "execution_count": 56,
      "outputs": [
        {
          "output_type": "stream",
          "name": "stdout",
          "text": [
            "[9 2 3]\n"
          ]
        }
      ]
    },
    {
      "cell_type": "code",
      "source": [
        "c[0] = 1\n",
        "print(a)\n",
        "print(b)\n",
        "print(c)\n",
        "\n",
        "# asarray()는 사본이 없는 개념 (수정 내용을 전체 공유)\n",
        "# array() 사본이 있는 개념 (수정 내용 공유 x)"
      ],
      "metadata": {
        "colab": {
          "base_uri": "https://localhost:8080/"
        },
        "id": "sEPaivSFnFpB",
        "outputId": "6ce74361-2642-478b-9ccb-e08977c0e5c3"
      },
      "execution_count": 57,
      "outputs": [
        {
          "output_type": "stream",
          "name": "stdout",
          "text": [
            "[9 2 3]\n",
            "[9 2 3]\n",
            "[1 2 3]\n"
          ]
        }
      ]
    },
    {
      "cell_type": "code",
      "source": [
        "# np.zeros() 함수는 파라미터로 받는 크기만큼 모든 요소가 0인 array를 생성\n",
        "d = np.zeros(3)\n",
        "print(d)\n",
        "dd = np.zeros((3, 4))\n",
        "print(dd)"
      ],
      "metadata": {
        "colab": {
          "base_uri": "https://localhost:8080/"
        },
        "id": "1YGmQR0Eng63",
        "outputId": "e86a76fe-01ac-44dd-9f5e-7e77d2bfc081"
      },
      "execution_count": 60,
      "outputs": [
        {
          "output_type": "stream",
          "name": "stdout",
          "text": [
            "[0. 0. 0.]\n",
            "[[0. 0. 0. 0.]\n",
            " [0. 0. 0. 0.]\n",
            " [0. 0. 0. 0.]]\n"
          ]
        }
      ]
    },
    {
      "cell_type": "code",
      "source": [
        "# np.ones() 함수는 파라미터로 받는 크기만큼 모든요소가 1인 array를 생성\n",
        "e = np.ones(3)\n",
        "print(e)\n",
        "ee = np.ones((3, 4))\n",
        "print(ee)"
      ],
      "metadata": {
        "colab": {
          "base_uri": "https://localhost:8080/"
        },
        "id": "HT57g4Ydn2Cq",
        "outputId": "213890f7-3e86-46b6-944b-acd5f716be32"
      },
      "execution_count": 61,
      "outputs": [
        {
          "output_type": "stream",
          "name": "stdout",
          "text": [
            "[1. 1. 1.]\n",
            "[[1. 1. 1. 1.]\n",
            " [1. 1. 1. 1.]\n",
            " [1. 1. 1. 1.]]\n"
          ]
        }
      ]
    },
    {
      "cell_type": "code",
      "source": [
        "# np.full()\n",
        "f = np.full((2,3), 4)\n",
        "print(f)"
      ],
      "metadata": {
        "colab": {
          "base_uri": "https://localhost:8080/"
        },
        "id": "t7Sgyj2QoEUx",
        "outputId": "d68d7d0d-294b-4a60-c246-a5e4ed5a5ce7"
      },
      "execution_count": 62,
      "outputs": [
        {
          "output_type": "stream",
          "name": "stdout",
          "text": [
            "[[4 4 4]\n",
            " [4 4 4]]\n"
          ]
        }
      ]
    },
    {
      "cell_type": "code",
      "source": [
        "i = np.eye(4, 5) # 대각 행렬 : 대각선으로 값이 1인 행렬 생성\n",
        "j = np.identity(6) # 단위 행렬 : 대각선의 요소가 모두 1, 나머지는 0\n",
        "\n",
        "print(i)\n",
        "print(j)"
      ],
      "metadata": {
        "colab": {
          "base_uri": "https://localhost:8080/"
        },
        "id": "TWnxGY8noNEl",
        "outputId": "84fa441b-79ba-4ecf-a471-310e05c2c813"
      },
      "execution_count": 65,
      "outputs": [
        {
          "output_type": "stream",
          "name": "stdout",
          "text": [
            "[[1. 0. 0. 0. 0.]\n",
            " [0. 1. 0. 0. 0.]\n",
            " [0. 0. 1. 0. 0.]\n",
            " [0. 0. 0. 1. 0.]]\n",
            "[[1. 0. 0. 0. 0. 0.]\n",
            " [0. 1. 0. 0. 0. 0.]\n",
            " [0. 0. 1. 0. 0. 0.]\n",
            " [0. 0. 0. 1. 0. 0.]\n",
            " [0. 0. 0. 0. 1. 0.]\n",
            " [0. 0. 0. 0. 0. 1.]]\n"
          ]
        }
      ]
    },
    {
      "cell_type": "code",
      "source": [
        "# Random 사용 시 seed를 지정해주지 않으면, 매번 다른 난수가 나타남\n",
        "np.random.seed(6) # 번호마다 정해진 규칙이 있음 (난수 + 규칙)\n",
        "np.random.rand(4)\n"
      ],
      "metadata": {
        "colab": {
          "base_uri": "https://localhost:8080/"
        },
        "id": "_1wmfgoRo1BO",
        "outputId": "d543d3f1-83f7-417a-de38-9a5d31427506"
      },
      "execution_count": 74,
      "outputs": [
        {
          "output_type": "execute_result",
          "data": {
            "text/plain": [
              "array([0.89286015, 0.33197981, 0.82122912, 0.04169663])"
            ]
          },
          "metadata": {},
          "execution_count": 74
        }
      ]
    },
    {
      "cell_type": "code",
      "source": [
        "plt.style.available # matplotlib 테마 종류"
      ],
      "metadata": {
        "colab": {
          "base_uri": "https://localhost:8080/"
        },
        "id": "FR8y-gYypW6X",
        "outputId": "381a0bb2-de99-4f26-fd87-ed8dd3812d70"
      },
      "execution_count": 75,
      "outputs": [
        {
          "output_type": "execute_result",
          "data": {
            "text/plain": [
              "['Solarize_Light2',\n",
              " '_classic_test_patch',\n",
              " 'bmh',\n",
              " 'classic',\n",
              " 'dark_background',\n",
              " 'fast',\n",
              " 'fivethirtyeight',\n",
              " 'ggplot',\n",
              " 'grayscale',\n",
              " 'seaborn',\n",
              " 'seaborn-bright',\n",
              " 'seaborn-colorblind',\n",
              " 'seaborn-dark',\n",
              " 'seaborn-dark-palette',\n",
              " 'seaborn-darkgrid',\n",
              " 'seaborn-deep',\n",
              " 'seaborn-muted',\n",
              " 'seaborn-notebook',\n",
              " 'seaborn-paper',\n",
              " 'seaborn-pastel',\n",
              " 'seaborn-poster',\n",
              " 'seaborn-talk',\n",
              " 'seaborn-ticks',\n",
              " 'seaborn-white',\n",
              " 'seaborn-whitegrid',\n",
              " 'tableau-colorblind10']"
            ]
          },
          "metadata": {},
          "execution_count": 75
        }
      ]
    },
    {
      "cell_type": "code",
      "source": [
        "# numpy + matplotlib\n",
        "np.random.seed(0)\n",
        "\n",
        "# theme 변경\n",
        "plt.style.use('default')\n",
        "\n",
        "# matplotlib 설정\n",
        "# 그래프의 기본크기 (가로, 세로)의 인치\n",
        "plt.rcParams['figure.figsize'] = (6, 3)\n",
        "plt.rcParams['font.size'] = 10\n",
        "# lines.linewidth : 선 두께\n",
        "# lines.color : 선 색깔\n",
        "# axes.grid : 차트 내 격자선(grid) 표시 여부\n",
        "\n",
        "# 샘플 데이터\n",
        "a = np.random.rand(1000)\n",
        "b = np.random.rand(10000)\n",
        "c = np.random.rand(100000)\n",
        "\n",
        "# hist : 도수분포표 (히스토그램)\n",
        "# bins : 히스토그램의 가로 축 구간의 개수\n",
        "# density=True = 각 구간의 빈도(밀도) 함수\n",
        "# alpha : 투명도(0.0 ~ 1.0)\n",
        "# histtype : 히스토그램의 종류 (bar, barstacked, step, stepfilled), default는 bar\n",
        "plt.hist(a, bins=100, density=True, alpha=0.6, histtype='stepfilled', label='n=1000')\n",
        "plt.hist(b, bins=100, density=True, alpha=0.3, histtype='step', label='n=10000')\n",
        "plt.hist(c, bins=100, density=True, alpha=0.9, histtype='step', label='n=100000')\n",
        "\n",
        "plt.ylim(0, 2)\n",
        "plt.legend()\n",
        "plt.show()"
      ],
      "metadata": {
        "colab": {
          "base_uri": "https://localhost:8080/",
          "height": 297
        },
        "id": "FzMyMrJDpmAE",
        "outputId": "d341cdb2-36d5-4707-d410-6d139435876f"
      },
      "execution_count": 82,
      "outputs": [
        {
          "output_type": "display_data",
          "data": {
            "text/plain": [
              "<Figure size 600x300 with 1 Axes>"
            ],
            "image/png": "[encoded data removed]"
          },
          "metadata": {}
        }
      ]
    },
    {
      "cell_type": "code",
      "source": [
        "# 정규분포 (normal distribution, 가우스 분포)\n",
        "# 표준 정규 분표 (standard nomal distribution)에서 샘플링된 난수를 반환\n",
        "# 매게 변수 평균인 뮤(mu, μ) 와\n",
        "# 표준편차 (분산의 제곱근) 시그마(Sigma, σ)에 대해 모양이 결정\n",
        "# 평균이 0이고, 표준편차가 1인 정규분포"
      ],
      "metadata": {
        "id": "oCOtsoMCsEo3"
      },
      "execution_count": null,
      "outputs": []
    },
    {
      "cell_type": "code",
      "source": [
        "# 배열의 dtype(data type)\n",
        "\n",
        "a = np.array([1, 2, 3])\n",
        "b = np.array([1, 2, 3], dtype=np.float64)\n",
        "c = np.array([1, 2, 3], dtype=np.int32)\n",
        "print(a.dtype, b.dtype, c.dtype)\n",
        "\n",
        "# 뒤의 숫자 : ex) int 64 => 정수로 표현, 2^64만큼의 범위만큼 (음수, 양수)\n",
        "d = np.array([1, 2, 3], dtype='i1')\n",
        "e = np.array([1, 2, 3], dtype='i2')\n",
        "f = np.array([1, 2, 3], dtype='i4')\n",
        "g = np.array([1, 2, 3], dtype='i8')\n",
        "\n",
        "print(d.dtype, e.dtype, f.dtype, g.dtype)"
      ],
      "metadata": {
        "colab": {
          "base_uri": "https://localhost:8080/"
        },
        "id": "j2oh_AUTs6Pg",
        "outputId": "bf8b32ce-8228-4144-ce9a-1e0734eb2c9c"
      },
      "execution_count": 85,
      "outputs": [
        {
          "output_type": "stream",
          "name": "stdout",
          "text": [
            "int64 float64 int32\n",
            "int8 int16 int32 int64\n"
          ]
        }
      ]
    },
    {
      "cell_type": "code",
      "source": [
        "d = np.array([1, 2, 3], dtype='u1')\n",
        "e = np.array([1, 2, 3], dtype='u2')\n",
        "f = np.array([1, 2, 3], dtype='u4')\n",
        "g = np.array([1, 2, 3], dtype='u8')\n",
        "\n",
        "print(d.dtype, e.dtype, f.dtype, g.dtype)\n",
        "# u = 양수만 표현이 가능한 자료형"
      ],
      "metadata": {
        "colab": {
          "base_uri": "https://localhost:8080/"
        },
        "id": "2ZUgwYDHuP0o",
        "outputId": "a6eb8ce7-ba10-4205-bb5c-c18db3302b16"
      },
      "execution_count": 90,
      "outputs": [
        {
          "output_type": "stream",
          "name": "stdout",
          "text": [
            "[244   2   3]\n",
            "uint8 uint16 uint32 uint64\n"
          ]
        }
      ]
    },
    {
      "cell_type": "code",
      "source": [
        "h = np.array([1, 2, 3], dtype='f2')\n",
        "i = np.array([1, 2, 3], dtype='f4')\n",
        "j = np.array([1, 2, 3], dtype='f8')\n",
        "\n",
        "print(h.dtype, i.dtype, j.dtype)"
      ],
      "metadata": {
        "colab": {
          "base_uri": "https://localhost:8080/"
        },
        "id": "B0_R6vM_ukm8",
        "outputId": "3534ceef-0f7f-45ae-f1ef-056a1a21d819"
      },
      "execution_count": 91,
      "outputs": [
        {
          "output_type": "stream",
          "name": "stdout",
          "text": [
            "float16 float32 float64\n"
          ]
        }
      ]
    },
    {
      "cell_type": "code",
      "source": [
        "i = np.array([1, 2, 3], dtype='f')\n",
        "j = np.array([1, 2, 3], dtype='d')\n",
        "k = np.array([1, 2, 3], dtype='g')\n",
        "\n",
        "print(i.dtype, j.dtype, k.dtype)\n",
        "\n",
        "# 형변환\n",
        "i = i.astype(np.int32) # 파라미터로는 변환 하려는 자료형 입력\n",
        "print(i.dtype)"
      ],
      "metadata": {
        "colab": {
          "base_uri": "https://localhost:8080/"
        },
        "id": "MQmrXQePuv_6",
        "outputId": "72d14f3f-2c56-46da-f0d3-819cdf876c4a"
      },
      "execution_count": 93,
      "outputs": [
        {
          "output_type": "stream",
          "name": "stdout",
          "text": [
            "float32 float64 float128\n",
            "int32\n"
          ]
        }
      ]
    },
    {
      "cell_type": "code",
      "source": [
        "ex = [[1, 2, 3], [4, 5, 6], [7, 8, 9]]\n",
        "ex1 = np.array(ex)\n",
        "print(ex1.dtype)\n",
        "print(type(ex1))\n",
        "print(dir(ex1)) # 입력한 변수를 이용해 사용할 수 있는 함수를 보여줌\n",
        "\n",
        "print(np.nan)   # nan : 평균값 등등을 구할 때 제외하고 싶은 것을 nan으로 표시"
      ],
      "metadata": {
        "colab": {
          "base_uri": "https://localhost:8080/"
        },
        "id": "BlMopUeqvTbU",
        "outputId": "723fd071-612b-4bf5-c55b-9bf443614573"
      },
      "execution_count": 95,
      "outputs": [
        {
          "output_type": "stream",
          "name": "stdout",
          "text": [
            "int64\n",
            "<class 'numpy.ndarray'>\n",
            "['T', '__abs__', '__add__', '__and__', '__array__', '__array_finalize__', '__array_function__', '__array_interface__', '__array_prepare__', '__array_priority__', '__array_struct__', '__array_ufunc__', '__array_wrap__', '__bool__', '__class__', '__complex__', '__contains__', '__copy__', '__deepcopy__', '__delattr__', '__delitem__', '__dir__', '__divmod__', '__doc__', '__eq__', '__float__', '__floordiv__', '__format__', '__ge__', '__getattribute__', '__getitem__', '__gt__', '__hash__', '__iadd__', '__iand__', '__ifloordiv__', '__ilshift__', '__imatmul__', '__imod__', '__imul__', '__index__', '__init__', '__init_subclass__', '__int__', '__invert__', '__ior__', '__ipow__', '__irshift__', '__isub__', '__iter__', '__itruediv__', '__ixor__', '__le__', '__len__', '__lshift__', '__lt__', '__matmul__', '__mod__', '__mul__', '__ne__', '__neg__', '__new__', '__or__', '__pos__', '__pow__', '__radd__', '__rand__', '__rdivmod__', '__reduce__', '__reduce_ex__', '__repr__', '__rfloordiv__', '__rlshift__', '__rmatmul__', '__rmod__', '__rmul__', '__ror__', '__rpow__', '__rrshift__', '__rshift__', '__rsub__', '__rtruediv__', '__rxor__', '__setattr__', '__setitem__', '__setstate__', '__sizeof__', '__str__', '__sub__', '__subclasshook__', '__truediv__', '__xor__', 'all', 'any', 'argmax', 'argmin', 'argpartition', 'argsort', 'astype', 'base', 'byteswap', 'choose', 'clip', 'compress', 'conj', 'conjugate', 'copy', 'ctypes', 'cumprod', 'cumsum', 'data', 'diagonal', 'dot', 'dtype', 'dump', 'dumps', 'fill', 'flags', 'flat', 'flatten', 'getfield', 'imag', 'item', 'itemset', 'itemsize', 'max', 'mean', 'min', 'nbytes', 'ndim', 'newbyteorder', 'nonzero', 'partition', 'prod', 'ptp', 'put', 'ravel', 'real', 'repeat', 'reshape', 'resize', 'round', 'searchsorted', 'setfield', 'setflags', 'shape', 'size', 'sort', 'squeeze', 'std', 'strides', 'sum', 'swapaxes', 'take', 'tobytes', 'tofile', 'tolist', 'tostring', 'trace', 'transpose', 'var', 'view']\n",
            "nan\n"
          ]
        }
      ]
    },
    {
      "cell_type": "code",
      "source": [
        "b[0] = np.nan\n",
        "print(b)\n",
        "\n",
        "c = np.arange(1, 10).reshape(3, 3)\n",
        "print(c)\n",
        "c[1][1] = np.nan # cannot convert float NaN to integer : Nan은 float에서만 가능\n",
        "print(c)"
      ],
      "metadata": {
        "colab": {
          "base_uri": "https://localhost:8080/",
          "height": 299
        },
        "id": "JcJjAmXJv9hg",
        "outputId": "2b8fa664-80c3-4017-82d2-6aae6b6b8aac"
      },
      "execution_count": 99,
      "outputs": [
        {
          "output_type": "stream",
          "name": "stdout",
          "text": [
            "[nan  2.  3.]\n",
            "[[1 2 3]\n",
            " [4 5 6]\n",
            " [7 8 9]]\n"
          ]
        },
        {
          "output_type": "error",
          "ename": "ValueError",
          "evalue": "ignored",
          "traceback": [
            "\u001b[0;31m---------------------------------------------------------------------------\u001b[0m",
            "\u001b[0;31mValueError\u001b[0m                                Traceback (most recent call last)",
            "\u001b[0;32m<ipython-input-99-ab0c38462d4e>\u001b[0m in \u001b[0;36m<module>\u001b[0;34m\u001b[0m\n\u001b[1;32m      4\u001b[0m \u001b[0mc\u001b[0m \u001b[0;34m=\u001b[0m \u001b[0mnp\u001b[0m\u001b[0;34m.\u001b[0m\u001b[0marange\u001b[0m\u001b[0;34m(\u001b[0m\u001b[0;36m1\u001b[0m\u001b[0;34m,\u001b[0m \u001b[0;36m10\u001b[0m\u001b[0;34m)\u001b[0m\u001b[0;34m.\u001b[0m\u001b[0mreshape\u001b[0m\u001b[0;34m(\u001b[0m\u001b[0;36m3\u001b[0m\u001b[0;34m,\u001b[0m \u001b[0;36m3\u001b[0m\u001b[0;34m)\u001b[0m\u001b[0;34m\u001b[0m\u001b[0;34m\u001b[0m\u001b[0m\n\u001b[1;32m      5\u001b[0m \u001b[0mprint\u001b[0m\u001b[0;34m(\u001b[0m\u001b[0mc\u001b[0m\u001b[0;34m)\u001b[0m\u001b[0;34m\u001b[0m\u001b[0;34m\u001b[0m\u001b[0m\n\u001b[0;32m----> 6\u001b[0;31m \u001b[0mc\u001b[0m\u001b[0;34m[\u001b[0m\u001b[0;36m1\u001b[0m\u001b[0;34m]\u001b[0m\u001b[0;34m[\u001b[0m\u001b[0;36m1\u001b[0m\u001b[0;34m]\u001b[0m \u001b[0;34m=\u001b[0m \u001b[0mnp\u001b[0m\u001b[0;34m.\u001b[0m\u001b[0mnan\u001b[0m\u001b[0;34m\u001b[0m\u001b[0;34m\u001b[0m\u001b[0m\n\u001b[0m\u001b[1;32m      7\u001b[0m \u001b[0mprint\u001b[0m\u001b[0;34m(\u001b[0m\u001b[0mc\u001b[0m\u001b[0;34m)\u001b[0m\u001b[0;34m\u001b[0m\u001b[0;34m\u001b[0m\u001b[0m\n",
            "\u001b[0;31mValueError\u001b[0m: cannot convert float NaN to integer"
          ]
        }
      ]
    },
    {
      "cell_type": "markdown",
      "source": [
        "# Part 3. 배열 indexing(색인)과 slicing(슬라이싱)"
      ],
      "metadata": {
        "id": "MmpvEfA8zxNL"
      }
    },
    {
      "cell_type": "code",
      "source": [
        "a = np.arange(10)\n",
        "print(a)"
      ],
      "metadata": {
        "colab": {
          "base_uri": "https://localhost:8080/"
        },
        "id": "6SW_4jngz5MT",
        "outputId": "1c29cab3-ac99-474e-a73e-12f22935f76b"
      },
      "execution_count": 102,
      "outputs": [
        {
          "output_type": "stream",
          "name": "stdout",
          "text": [
            "[0 1 2 3 4 5 6 7 8 9]\n"
          ]
        }
      ]
    },
    {
      "cell_type": "code",
      "source": [
        "# indexing : 특정한 index번호에 접근해서 그 값을 가져오는 작업\n",
        "# a 에서 5 출력\n",
        "\n",
        "print(a[5])"
      ],
      "metadata": {
        "colab": {
          "base_uri": "https://localhost:8080/"
        },
        "id": "w6s8C5lNz89T",
        "outputId": "4a3e5a4d-572d-4dca-807a-12769d7ecb3f"
      },
      "execution_count": 103,
      "outputs": [
        {
          "output_type": "stream",
          "name": "stdout",
          "text": [
            "5\n"
          ]
        }
      ]
    },
    {
      "cell_type": "code",
      "source": [
        "# np.arange() 함수는 파라미터로 받는 값 만큼 1씩 증가하는 1차원의 array를 만듬\n",
        "# 이 때 하나의 파라미터만 입력하면 0 ~ (입력한 값 - 1) 만큼의 크기를 가짐\n",
        "\n",
        "# 두개의 파라미터를 넣으면 시작값 ~ (끝 값 - 1) 만큼의 크기를 가짐\n",
        "kk = np.arange(3, 10)\n",
        "kk"
      ],
      "metadata": {
        "colab": {
          "base_uri": "https://localhost:8080/"
        },
        "id": "6MwwhLHn0S3d",
        "outputId": "973c25ab-9b9f-4c71-fd2b-b292873df558"
      },
      "execution_count": 104,
      "outputs": [
        {
          "output_type": "execute_result",
          "data": {
            "text/plain": [
              "array([3, 4, 5, 6, 7, 8, 9])"
            ]
          },
          "metadata": {},
          "execution_count": 104
        }
      ]
    },
    {
      "cell_type": "code",
      "source": [
        "# slicing : 연속적인 객체 (배열, 리스트 , ...)에 부여된 번호를 이용해서 그 일부를 추출하는 작엽\n",
        "print(a)\n",
        "# a에서 5, 6, 7 값을 출력\n",
        "print(a[5:8])\n",
        "\n",
        "# 맨 뒤의 요소 값\n",
        "print(a[-1])\n",
        "\n",
        "# 시작 부터 7번째 까지 2만큼 띄워서 출력\n",
        "print(a[0:8:2])\n",
        "print(a[:8:2])"
      ],
      "metadata": {
        "colab": {
          "base_uri": "https://localhost:8080/"
        },
        "id": "DqX6MZgT0vdY",
        "outputId": "55713bd3-d21b-4195-c942-825b390d1a1b"
      },
      "execution_count": 108,
      "outputs": [
        {
          "output_type": "stream",
          "name": "stdout",
          "text": [
            "[0 1 2 3 4 5 6 7 8 9]\n",
            "[5 6 7]\n",
            "9\n",
            "[0 2 4 6]\n",
            "[0 2 4 6]\n"
          ]
        }
      ]
    },
    {
      "cell_type": "code",
      "source": [
        "# 2차원\n",
        "ex = [[1, 2, 3], [4, 5, 6], [7, 8, 9]]\n",
        "exx = np.array(ex)\n",
        "print(exx.shape)\n",
        "\n",
        "# 콤마를 이용해 slicing\n",
        "# 1행에 대한 값만 추출\n",
        "print(exx[:1,])\n",
        "\n",
        "# 1열에 대한 값 추출\n",
        "print(exx[:,1])\n",
        "print(exx[:,0])"
      ],
      "metadata": {
        "colab": {
          "base_uri": "https://localhost:8080/"
        },
        "id": "JEGcym841jY_",
        "outputId": "4425513f-949a-4e20-aa84-88c156a802ba"
      },
      "execution_count": 117,
      "outputs": [
        {
          "output_type": "stream",
          "name": "stdout",
          "text": [
            "(3, 3)\n",
            "[[1 2 3]]\n",
            "[2 5 8]\n",
            "[1 4 7]\n"
          ]
        }
      ]
    },
    {
      "cell_type": "markdown",
      "source": [
        "# Indexing과 Slicing의 차이\n",
        "\n",
        "Indexing을 사용하면 항상 랭크(차원) 감소\n",
        "Slicing을 사용하면 랭크 (차원) 유지"
      ],
      "metadata": {
        "id": "6_dMXQfC2OP5"
      }
    },
    {
      "cell_type": "code",
      "source": [
        "# 차원 확인 => 중괄호 갯수로 파악 가능\n",
        "# b = np.arange(1, 13).reshape(3, 4)\n",
        "b = np.arange(1, 13).reshape(3, 2, 2)\n",
        "print(b)\n",
        "print(b.ndim)"
      ],
      "metadata": {
        "colab": {
          "base_uri": "https://localhost:8080/"
        },
        "id": "Y8XBGO2u2jOc",
        "outputId": "fd12db20-f032-4026-93ca-727abe7aca38"
      },
      "execution_count": 120,
      "outputs": [
        {
          "output_type": "stream",
          "name": "stdout",
          "text": [
            "[[[ 1  2]\n",
            "  [ 3  4]]\n",
            "\n",
            " [[ 5  6]\n",
            "  [ 7  8]]\n",
            "\n",
            " [[ 9 10]\n",
            "  [11 12]]]\n",
            "3\n"
          ]
        }
      ]
    },
    {
      "cell_type": "code",
      "source": [
        "indexing = b[1]\n",
        "slicing = b[1:2]\n",
        "print(indexing, indexing.shape, indexing.ndim)\n",
        "print(slicing, slicing.shape, slicing.ndimi)"
      ],
      "metadata": {
        "colab": {
          "base_uri": "https://localhost:8080/"
        },
        "id": "z03pxstW3Gt2",
        "outputId": "f140e1ce-e294-4121-88bb-b73bad23fd9a"
      },
      "execution_count": 121,
      "outputs": [
        {
          "output_type": "stream",
          "name": "stdout",
          "text": [
            "[[5 6]\n",
            " [7 8]] (2, 2) 2\n",
            "[[[5 6]\n",
            "  [7 8]]] (1, 2, 2) 3\n"
          ]
        }
      ]
    },
    {
      "cell_type": "code",
      "source": [
        "# arange 사용시\n",
        "# 재배열 - 요소의 갯수만큼 크기를 지정해야함 (size의 소수로 지정하면 좋음)\n",
        "print(np.arange(1, 13).reshape(3,4))\n",
        "print(np.arange(1, 13).reshape(4,3))\n",
        "print(np.arange(1, 13).reshape(6,2))\n",
        "print(np.arange(1, 13).reshape(2,6))"
      ],
      "metadata": {
        "colab": {
          "base_uri": "https://localhost:8080/"
        },
        "id": "Hx2TcU8T9N6m",
        "outputId": "5d6b22b3-4942-4689-ce9f-8bae0e5fa729"
      },
      "execution_count": 125,
      "outputs": [
        {
          "output_type": "stream",
          "name": "stdout",
          "text": [
            "[[ 1  2  3  4]\n",
            " [ 5  6  7  8]\n",
            " [ 9 10 11 12]]\n",
            "[[ 1  2  3]\n",
            " [ 4  5  6]\n",
            " [ 7  8  9]\n",
            " [10 11 12]]\n",
            "[[ 1  2]\n",
            " [ 3  4]\n",
            " [ 5  6]\n",
            " [ 7  8]\n",
            " [ 9 10]\n",
            " [11 12]]\n",
            "[[ 1  2  3  4  5  6]\n",
            " [ 7  8  9 10 11 12]]\n"
          ]
        }
      ]
    },
    {
      "cell_type": "code",
      "source": [
        "# array 수정\n",
        "\n",
        "arr = np.array([11, 22, 33, 44, 55])\n",
        "print(arr)\n",
        "\n",
        "# 0번째 인덱스의 값을 10\n",
        "arr[0] = 10\n",
        "print(arr)\n",
        "# 1, 2번째의 인덱스 값을 222, 333으로 변경\n",
        "arr[1:3] = [222, 333]\n",
        "print(arr)\n",
        "# 3, 4번째 인덱스의 값을 값 + 2\n",
        "# for i in range(0, 5):\n",
        "#   if arr[3] == arr[i] or arr[4] == arr[i]:\n",
        "#     arr[i] = arr[i]+ 2\n",
        "arr[3:5] += 2\n",
        "print(arr)\n",
        "\n",
        "arr = np.array([110, 222, 337, 420, 155, 978, 200, 53, 178])\n",
        "print(arr)\n",
        "\n",
        "# arr에서 200보다 큰 데이터에 대해 기존 값에 2를 더한 값으로 수정\n",
        "# for i in range(0, arr.shape[0]):\n",
        "#   if (arr[i] > 200):\n",
        "#     arr[i] += 2\n",
        "\n",
        "# 인덱스 안에서 조건을 걸 수 있음\n",
        "arr[arr > 200] += 2\n",
        "\n",
        "print(arr)"
      ],
      "metadata": {
        "colab": {
          "base_uri": "https://localhost:8080/"
        },
        "id": "mm97gaVY9pgO",
        "outputId": "05d8c6d1-9747-4930-fc4d-f972afcc43dd"
      },
      "execution_count": 141,
      "outputs": [
        {
          "output_type": "stream",
          "name": "stdout",
          "text": [
            "[11 22 33 44 55]\n",
            "[10 22 33 44 55]\n",
            "[ 10 222 333  44  55]\n",
            "[ 10 222 333  46  57]\n",
            "[110 222 337 420 155 978 200  53 178]\n",
            "[110 224 339 422 155 980 200  53 178]\n"
          ]
        }
      ]
    },
    {
      "cell_type": "code",
      "source": [
        "# array 삭제\n",
        "arr = np.array([11, 22, 33, 44, 55])\n",
        "print(arr)\n",
        "\n",
        "# 0번째, 2번째 인덱스 값 삭제\n",
        "# np.delete(array, index값)\n",
        "arr = np.delete(arr, [0, 2])\n",
        "print(arr)"
      ],
      "metadata": {
        "colab": {
          "base_uri": "https://localhost:8080/"
        },
        "id": "gm2BFIufAwdK",
        "outputId": "f4f6a1ae-4d16-4096-d54a-d1cba331e6bb"
      },
      "execution_count": 144,
      "outputs": [
        {
          "output_type": "stream",
          "name": "stdout",
          "text": [
            "[11 22 33 44 55]\n",
            "[22 44 55]\n"
          ]
        }
      ]
    },
    {
      "cell_type": "code",
      "source": [
        "# array에서 인덱스 추출\n",
        "# np.where(조건)\n",
        "\n",
        "# arr의 각 요소의 값이 100보다 작은 index 추출\n",
        "arr = np.where(arr < 100)\n",
        "print(arr)\n",
        "# index의 번호가 정리되어서 나타남"
      ],
      "metadata": {
        "colab": {
          "base_uri": "https://localhost:8080/"
        },
        "id": "PvROzaBkBJ53",
        "outputId": "cf087b61-c375-4f0d-d448-86ec0c8862fc"
      },
      "execution_count": 145,
      "outputs": [
        {
          "output_type": "stream",
          "name": "stdout",
          "text": [
            "(array([0, 1, 2]),)\n"
          ]
        }
      ]
    },
    {
      "cell_type": "code",
      "source": [
        "arr = np.array([11, 130, 370, 114, 55, 94, 200, 30, 190, 187])\n",
        "\n",
        "# np.where의 기능을 살펴보고\n",
        "# arr의 각 요소의 값이 100이상이면 'A', 아니면 'B' 출력\n",
        "arr = np.where(arr >= 100 , 'A', 'B')\n",
        "print(arr)"
      ],
      "metadata": {
        "colab": {
          "base_uri": "https://localhost:8080/"
        },
        "id": "aCLVnJ_4B0xN",
        "outputId": "074607b2-47e9-493b-e446-40e2414fac1c"
      },
      "execution_count": 147,
      "outputs": [
        {
          "output_type": "stream",
          "name": "stdout",
          "text": [
            "['B' 'A' 'A' 'A' 'B' 'B' 'A' 'B' 'A' 'A']\n"
          ]
        }
      ]
    },
    {
      "cell_type": "markdown",
      "source": [
        "# Numpy 함수\n",
        "\n",
        "# 하나의 array에 적용 (단항 유니버셜 함수)\n",
        "\n",
        "유니버셜 함수 : ndarray안에 있는 데이터의 요소별로 연산을 수행해주는 함수"
      ],
      "metadata": {
        "id": "mbeozUtFIWee"
      }
    },
    {
      "cell_type": "code",
      "source": [
        "ar1 = np.random.randn(5, 3)\n",
        "ar1"
      ],
      "metadata": {
        "colab": {
          "base_uri": "https://localhost:8080/"
        },
        "id": "JfqfsiQPIr-2",
        "outputId": "9dbca76c-70e4-4e7f-94f7-8f275eb75c02"
      },
      "execution_count": 149,
      "outputs": [
        {
          "output_type": "execute_result",
          "data": {
            "text/plain": [
              "array([[ 1.877656  ,  0.45114604, -1.23739619],\n",
              "       [ 0.73313878,  1.76808741,  0.90553048],\n",
              "       [ 0.343178  , -0.71901201, -0.82360304],\n",
              "       [ 0.34318431, -0.22560577,  0.18872625],\n",
              "       [ 0.72794952,  0.10260362,  0.00372094]])"
            ]
          },
          "metadata": {},
          "execution_count": 149
        }
      ]
    },
    {
      "cell_type": "code",
      "source": [
        "# 각 요소의 절대값\n",
        "np.abs(ar1)"
      ],
      "metadata": {
        "colab": {
          "base_uri": "https://localhost:8080/"
        },
        "id": "KQNkl2x8I0VX",
        "outputId": "292394b4-73d4-4259-f83a-f285f76ca51f"
      },
      "execution_count": 150,
      "outputs": [
        {
          "output_type": "execute_result",
          "data": {
            "text/plain": [
              "array([[1.877656  , 0.45114604, 1.23739619],\n",
              "       [0.73313878, 1.76808741, 0.90553048],\n",
              "       [0.343178  , 0.71901201, 0.82360304],\n",
              "       [0.34318431, 0.22560577, 0.18872625],\n",
              "       [0.72794952, 0.10260362, 0.00372094]])"
            ]
          },
          "metadata": {},
          "execution_count": 150
        }
      ]
    },
    {
      "cell_type": "code",
      "source": [
        "# 각 요소의 제곱근 계산 (== ar1 ** 0.5)\n",
        "np.sqrt(ar1)"
      ],
      "metadata": {
        "colab": {
          "base_uri": "https://localhost:8080/"
        },
        "id": "voZ8tp_MI33k",
        "outputId": "8f567c01-579d-4f69-835a-f990817a9d87"
      },
      "execution_count": 152,
      "outputs": [
        {
          "output_type": "stream",
          "name": "stderr",
          "text": [
            "<ipython-input-152-8a404fa25271>:2: RuntimeWarning: invalid value encountered in sqrt\n",
            "  np.sqrt(ar1)\n"
          ]
        },
        {
          "output_type": "execute_result",
          "data": {
            "text/plain": [
              "array([[1.37027588, 0.67167406,        nan],\n",
              "       [0.85623523, 1.32969448, 0.95159365],\n",
              "       [0.58581396,        nan,        nan],\n",
              "       [0.58581935,        nan, 0.43442634],\n",
              "       [0.85319958, 0.320318  , 0.06099955]])"
            ]
          },
          "metadata": {},
          "execution_count": 152
        }
      ]
    },
    {
      "cell_type": "code",
      "source": [
        "# 각 요소의 제곱 계산\n",
        "np.square(ar1)"
      ],
      "metadata": {
        "colab": {
          "base_uri": "https://localhost:8080/"
        },
        "id": "2PswDGxoI-Me",
        "outputId": "8c2c2f2e-90b5-42ef-b524-a02b9c46e971"
      },
      "execution_count": 153,
      "outputs": [
        {
          "output_type": "execute_result",
          "data": {
            "text/plain": [
              "array([[3.52559205e+00, 2.03532746e-01, 1.53114932e+00],\n",
              "       [5.37492464e-01, 3.12613308e+00, 8.19985447e-01],\n",
              "       [1.17771137e-01, 5.16978276e-01, 6.78321967e-01],\n",
              "       [1.17775468e-01, 5.08979630e-02, 3.56175964e-02],\n",
              "       [5.29910497e-01, 1.05275034e-02, 1.38454315e-05]])"
            ]
          },
          "metadata": {},
          "execution_count": 153
        }
      ]
    },
    {
      "cell_type": "code",
      "source": [
        "# 각 요소를 자연로그, 상용로그, 아래가 2인 로그를 씌운 값 계산ㄴ\n",
        "print(np.log(ar1))\n",
        "print()\n",
        "print(np.log10(ar1))\n",
        "print()\n",
        "print(np.log2(ar1))"
      ],
      "metadata": {
        "colab": {
          "base_uri": "https://localhost:8080/"
        },
        "id": "7wMeUofJJGYO",
        "outputId": "2dcd2df0-3829-4fd8-8480-79520f581f5f"
      },
      "execution_count": 154,
      "outputs": [
        {
          "output_type": "stream",
          "name": "stdout",
          "text": [
            "[[ 0.63002419 -0.79596419         nan]\n",
            " [-0.31042027  0.5698984  -0.09923434]\n",
            " [-1.06950603         nan         nan]\n",
            " [-1.06948764         nan -1.66745774]\n",
            " [-0.31752358 -2.27688204 -5.59377762]]\n",
            "\n",
            "[[ 0.27361603 -0.34568285         nan]\n",
            " [-0.13481381  0.24750373 -0.04309693]\n",
            " [-0.46448057         nan         nan]\n",
            " [-0.46447258         nan -0.7241677 ]\n",
            " [-0.13789874 -0.98883731 -2.42934675]]\n",
            "\n",
            "[[ 0.90893277 -1.14833358         nan]\n",
            " [-0.44784178  0.8221896  -0.14316489]\n",
            " [-1.54297104         nan         nan]\n",
            " [-1.54294451         nan -2.40563301]\n",
            " [-0.45808969 -3.28484642 -8.07011523]]\n"
          ]
        },
        {
          "output_type": "stream",
          "name": "stderr",
          "text": [
            "<ipython-input-154-296762a712f7>:2: RuntimeWarning: invalid value encountered in log\n",
            "  print(np.log(ar1))\n",
            "<ipython-input-154-296762a712f7>:4: RuntimeWarning: invalid value encountered in log10\n",
            "  print(np.log10(ar1))\n",
            "<ipython-input-154-296762a712f7>:6: RuntimeWarning: invalid value encountered in log2\n",
            "  print(np.log2(ar1))\n"
          ]
        }
      ]
    },
    {
      "cell_type": "code",
      "source": [
        "# 각 요소의 부호 나타내기 (+ : 1, - : -1, 0 : 0)\n",
        "np.sign(ar1)"
      ],
      "metadata": {
        "colab": {
          "base_uri": "https://localhost:8080/"
        },
        "id": "TXOeWNodJVvB",
        "outputId": "2d1f1b4d-ae69-40df-967a-730a79c22e8f"
      },
      "execution_count": 155,
      "outputs": [
        {
          "output_type": "execute_result",
          "data": {
            "text/plain": [
              "array([[ 1.,  1., -1.],\n",
              "       [ 1.,  1.,  1.],\n",
              "       [ 1., -1., -1.],\n",
              "       [ 1., -1.,  1.],\n",
              "       [ 1.,  1.,  1.]])"
            ]
          },
          "metadata": {},
          "execution_count": 155
        }
      ]
    },
    {
      "cell_type": "code",
      "source": [
        "# 각 요소의 소수 첫번째 자리에서 올림 한 값 계산\n",
        "np.ceil(ar1)"
      ],
      "metadata": {
        "colab": {
          "base_uri": "https://localhost:8080/"
        },
        "id": "RQmqYIZUJeUs",
        "outputId": "b81e5822-1c5f-48ef-bdc9-4a6dd6bd1c01"
      },
      "execution_count": 156,
      "outputs": [
        {
          "output_type": "execute_result",
          "data": {
            "text/plain": [
              "array([[ 2.,  1., -1.],\n",
              "       [ 1.,  2.,  1.],\n",
              "       [ 1., -0., -0.],\n",
              "       [ 1., -0.,  1.],\n",
              "       [ 1.,  1.,  1.]])"
            ]
          },
          "metadata": {},
          "execution_count": 156
        }
      ]
    },
    {
      "cell_type": "code",
      "source": [
        "# 각 요소의 소수 첫번째 자리에서 내림 한 값 계산\n",
        "np.floor(ar1)"
      ],
      "metadata": {
        "colab": {
          "base_uri": "https://localhost:8080/"
        },
        "id": "TxgaD-f0JlQ1",
        "outputId": "0ab648f3-292a-4a7a-8163-3363e2d8afa8"
      },
      "execution_count": 157,
      "outputs": [
        {
          "output_type": "execute_result",
          "data": {
            "text/plain": [
              "array([[ 1.,  0., -2.],\n",
              "       [ 0.,  1.,  0.],\n",
              "       [ 0., -1., -1.],\n",
              "       [ 0., -1.,  0.],\n",
              "       [ 0.,  0.,  0.]])"
            ]
          },
          "metadata": {},
          "execution_count": 157
        }
      ]
    },
    {
      "cell_type": "code",
      "source": [
        "# 각 요소의 소수 첫번째 자리에서 반올림 한 값 계산\n",
        "np.round(ar1)"
      ],
      "metadata": {
        "colab": {
          "base_uri": "https://localhost:8080/"
        },
        "id": "2OcCUqGKJpBA",
        "outputId": "6002a0cc-88ff-44b2-911a-a8995d7a7031"
      },
      "execution_count": 158,
      "outputs": [
        {
          "output_type": "execute_result",
          "data": {
            "text/plain": [
              "array([[ 2.,  0., -1.],\n",
              "       [ 1.,  2.,  1.],\n",
              "       [ 0., -1., -1.],\n",
              "       [ 0., -0.,  0.],\n",
              "       [ 1.,  0.,  0.]])"
            ]
          },
          "metadata": {},
          "execution_count": 158
        }
      ]
    },
    {
      "cell_type": "code",
      "source": [
        "# 각 요소가 nan인 경우 True, 아닌 경우 False 반환\n",
        "np.isnan(ar1)"
      ],
      "metadata": {
        "colab": {
          "base_uri": "https://localhost:8080/"
        },
        "id": "LArLO7uQJtM0",
        "outputId": "dcdf1327-1eb6-446d-8de6-4391932f722e"
      },
      "execution_count": 159,
      "outputs": [
        {
          "output_type": "execute_result",
          "data": {
            "text/plain": [
              "array([[False, False, False],\n",
              "       [False, False, False],\n",
              "       [False, False, False],\n",
              "       [False, False, False],\n",
              "       [False, False, False]])"
            ]
          },
          "metadata": {},
          "execution_count": 159
        }
      ]
    },
    {
      "cell_type": "code",
      "source": [
        "# 각 요소가 무한대인 경우 True, 아니면 False\n",
        "np.isinf(ar1)"
      ],
      "metadata": {
        "colab": {
          "base_uri": "https://localhost:8080/"
        },
        "id": "j6pSfW6cJ7A_",
        "outputId": "9d7b9b53-5bff-4b19-9c12-d7da2ec54033"
      },
      "execution_count": 160,
      "outputs": [
        {
          "output_type": "execute_result",
          "data": {
            "text/plain": [
              "array([[False, False, False],\n",
              "       [False, False, False],\n",
              "       [False, False, False],\n",
              "       [False, False, False],\n",
              "       [False, False, False]])"
            ]
          },
          "metadata": {},
          "execution_count": 160
        }
      ]
    },
    {
      "cell_type": "code",
      "source": [
        "# 각 요소에 대한 삼각함수 값 계산 (cos, cosh, sin, sinh, tan, tanh)\n",
        "# ~h : 쌍곡선 함수\n",
        "# 쌍곡선 : 고정된 두 초점으로 부터 거리가 일정한 점들에 의해 나타나는 곡선\n",
        "np.cos(ar1)"
      ],
      "metadata": {
        "colab": {
          "base_uri": "https://localhost:8080/"
        },
        "id": "OD9qLwQMKDhI",
        "outputId": "9b788f82-47bb-48c6-f614-4582a50793e4"
      },
      "execution_count": 161,
      "outputs": [
        {
          "output_type": "execute_result",
          "data": {
            "text/plain": [
              "array([[-0.3020665 ,  0.89994802,  0.32725783],\n",
              "       [ 0.74307758, -0.19601368,  0.61726831],\n",
              "       [ 0.94169009,  0.75245683,  0.67958244],\n",
              "       [ 0.94168796,  0.97465878,  0.982244  ],\n",
              "       [ 0.74654024,  0.99474086,  0.99999308]])"
            ]
          },
          "metadata": {},
          "execution_count": 161
        }
      ]
    },
    {
      "cell_type": "markdown",
      "source": [
        "# 두개의 array에 적용 (이항 유니버셜 함수)"
      ],
      "metadata": {
        "id": "lg3TJHWKKjLW"
      }
    },
    {
      "cell_type": "code",
      "source": [
        "ar1"
      ],
      "metadata": {
        "colab": {
          "base_uri": "https://localhost:8080/"
        },
        "id": "CM6yn04nKmyU",
        "outputId": "4d489f46-4f09-476c-ce5a-92068c78716b"
      },
      "execution_count": 162,
      "outputs": [
        {
          "output_type": "execute_result",
          "data": {
            "text/plain": [
              "array([[ 1.877656  ,  0.45114604, -1.23739619],\n",
              "       [ 0.73313878,  1.76808741,  0.90553048],\n",
              "       [ 0.343178  , -0.71901201, -0.82360304],\n",
              "       [ 0.34318431, -0.22560577,  0.18872625],\n",
              "       [ 0.72794952,  0.10260362,  0.00372094]])"
            ]
          },
          "metadata": {},
          "execution_count": 162
        }
      ]
    },
    {
      "cell_type": "code",
      "source": [
        "ar2 = np.random.randn(5, 3)\n",
        "ar2"
      ],
      "metadata": {
        "colab": {
          "base_uri": "https://localhost:8080/"
        },
        "id": "ruaMpNLqKoaw",
        "outputId": "a9cfcc44-192f-4b37-c0f9-d249432a693f"
      },
      "execution_count": 163,
      "outputs": [
        {
          "output_type": "execute_result",
          "data": {
            "text/plain": [
              "array([[ 0.286409  ,  0.13067066,  0.30325788],\n",
              "       [-1.96902231, -0.37734203, -0.34181404],\n",
              "       [-1.16029309,  0.60777169,  0.91773521],\n",
              "       [-0.74738935, -0.30761323, -1.18502116],\n",
              "       [ 0.1065359 ,  1.51861521,  0.77255105]])"
            ]
          },
          "metadata": {},
          "execution_count": 163
        }
      ]
    },
    {
      "cell_type": "code",
      "source": [
        "# 두 개의 array에 대해 동일한 위치의 요소 끼리\n",
        "# 연산값을 계산하는 함수 (add, subtract, multiply, divide)\n",
        "np.multiply(ar1, ar2)"
      ],
      "metadata": {
        "colab": {
          "base_uri": "https://localhost:8080/"
        },
        "id": "YenG7pygKs2e",
        "outputId": "f0f88bd9-5d38-42fd-88f1-e4ecc86d8da2"
      },
      "execution_count": 165,
      "outputs": [
        {
          "output_type": "execute_result",
          "data": {
            "text/plain": [
              "array([[ 0.53777757,  0.05895155, -0.37525015],\n",
              "       [-1.44356661, -0.6671737 , -0.30952303],\n",
              "       [-0.39818706, -0.43699514, -0.75584951],\n",
              "       [-0.2564923 ,  0.06939932, -0.2236446 ],\n",
              "       [ 0.07755276,  0.15581542,  0.00287462]])"
            ]
          },
          "metadata": {},
          "execution_count": 165
        }
      ]
    },
    {
      "cell_type": "code",
      "source": [
        "# 두개의 array에 대해 동일한 위치의 요소끼리 비교해 최대값 or 최소값 계산\n",
        "# (maximum, minimum)\n",
        "np.maximum(ar1, ar2)"
      ],
      "metadata": {
        "colab": {
          "base_uri": "https://localhost:8080/"
        },
        "id": "QaecZFAcK_2Q",
        "outputId": "19a9f446-1efb-4ce4-9d83-b25a1e7cbca1"
      },
      "execution_count": 166,
      "outputs": [
        {
          "output_type": "execute_result",
          "data": {
            "text/plain": [
              "array([[ 1.877656  ,  0.45114604,  0.30325788],\n",
              "       [ 0.73313878,  1.76808741,  0.90553048],\n",
              "       [ 0.343178  ,  0.60777169,  0.91773521],\n",
              "       [ 0.34318431, -0.22560577,  0.18872625],\n",
              "       [ 0.72794952,  1.51861521,  0.77255105]])"
            ]
          },
          "metadata": {},
          "execution_count": 166
        }
      ]
    },
    {
      "cell_type": "markdown",
      "source": [
        "# 통계 함수\n",
        "\n",
        "통계 함수를 통해 array의 합이나 평균 등을 구할 때,\n",
        "\n",
        "추가로 'axis'라는 파라미터의 값을 지정하여\n",
        "\n",
        "열 또는 행의 합 또는 평균 등을 구할 수 있음"
      ],
      "metadata": {
        "id": "9PPKqCP9LQoc"
      }
    },
    {
      "cell_type": "code",
      "source": [
        "# 열 간의 합을 계산\n",
        "np.sum(ar1, axis=0) # 열 (축으로 지정) = 0"
      ],
      "metadata": {
        "colab": {
          "base_uri": "https://localhost:8080/"
        },
        "id": "6qMLGKOULbin",
        "outputId": "98ac62b3-94e2-4dc8-feb0-84a4c3bded56"
      },
      "execution_count": 167,
      "outputs": [
        {
          "output_type": "execute_result",
          "data": {
            "text/plain": [
              "array([ 4.02510659,  1.37721928, -0.96302156])"
            ]
          },
          "metadata": {},
          "execution_count": 167
        }
      ]
    },
    {
      "cell_type": "code",
      "source": [
        "# 행 간의 합을 계산\n",
        "np.sum(ar1, axis=1)"
      ],
      "metadata": {
        "colab": {
          "base_uri": "https://localhost:8080/"
        },
        "id": "Hz4IqMMLLrh3",
        "outputId": "ed61c573-69b2-48d4-baff-7084c012cbe9"
      },
      "execution_count": 168,
      "outputs": [
        {
          "output_type": "execute_result",
          "data": {
            "text/plain": [
              "array([ 1.09140585,  3.40675666, -1.19943706,  0.30630478,  0.83427408])"
            ]
          },
          "metadata": {},
          "execution_count": 168
        }
      ]
    },
    {
      "cell_type": "code",
      "source": [
        "# 전체 요소의 평균 계산\n",
        "np.mean(ar1)"
      ],
      "metadata": {
        "colab": {
          "base_uri": "https://localhost:8080/"
        },
        "id": "AMQMKWiTLwh3",
        "outputId": "629d1bec-1a60-4e95-ec8c-a270c376861e"
      },
      "execution_count": 169,
      "outputs": [
        {
          "output_type": "execute_result",
          "data": {
            "text/plain": [
              "0.29595362134819875"
            ]
          },
          "metadata": {},
          "execution_count": 169
        }
      ]
    },
    {
      "cell_type": "code",
      "source": [
        "# 전체 요소의 표준편차, 분산, 최소값, 최대값 (std, var, min, max)\n",
        "np.std(ar1)"
      ],
      "metadata": {
        "colab": {
          "base_uri": "https://localhost:8080/"
        },
        "id": "TH9ZFy1TL10_",
        "outputId": "ec69efe1-669c-4ea6-97bc-0928491aa48b"
      },
      "execution_count": 170,
      "outputs": [
        {
          "output_type": "execute_result",
          "data": {
            "text/plain": [
              "0.8361766626942948"
            ]
          },
          "metadata": {},
          "execution_count": 170
        }
      ]
    },
    {
      "cell_type": "code",
      "source": [
        "# 전체 요소의 최소값, 최대값이 위치한 인덱스 위치를 반환(argmin, argmax)\n",
        "np.argmin(ar1)"
      ],
      "metadata": {
        "colab": {
          "base_uri": "https://localhost:8080/"
        },
        "id": "nghj_ve5L9LI",
        "outputId": "f1c65411-eaf0-49f0-b135-178addf66a78"
      },
      "execution_count": 171,
      "outputs": [
        {
          "output_type": "execute_result",
          "data": {
            "text/plain": [
              "2"
            ]
          },
          "metadata": {},
          "execution_count": 171
        }
      ]
    },
    {
      "cell_type": "code",
      "source": [
        "# 맨 처음 요소부터 각 요소까지의 누적합 or 누적곱 (cumsum, sumprod)\n",
        "np.cumsum(ar1)"
      ],
      "metadata": {
        "colab": {
          "base_uri": "https://localhost:8080/"
        },
        "id": "GEtlcXF9MGt7",
        "outputId": "73f8c25e-beaf-4fd5-d251-6ca8c4f3aa01"
      },
      "execution_count": 172,
      "outputs": [
        {
          "output_type": "execute_result",
          "data": {
            "text/plain": [
              "array([1.877656  , 2.32880204, 1.09140585, 1.82454463, 3.59263203,\n",
              "       4.49816251, 4.84134051, 4.12232849, 3.29872545, 3.64190976,\n",
              "       3.41630399, 3.60503024, 4.33297975, 4.43558338, 4.43930432])"
            ]
          },
          "metadata": {},
          "execution_count": 172
        }
      ]
    },
    {
      "cell_type": "code",
      "source": [
        "# 사분위수 \n",
        "\n",
        "# 0.25 (25%): 1 사분위수 \n",
        "# 0.5 : 2 사분위수 (중앙값)\n",
        "# 0.75 : 3 사분위수\n",
        "np.quantile(ar1, [0.25, 0.5, 0.75])"
      ],
      "metadata": {
        "colab": {
          "base_uri": "https://localhost:8080/"
        },
        "id": "8DaLhbfeMQro",
        "outputId": "1383bfdc-e08a-4a35-85bf-8bfa837803c1"
      },
      "execution_count": 173,
      "outputs": [
        {
          "output_type": "execute_result",
          "data": {
            "text/plain": [
              "array([-0.11094241,  0.343178  ,  0.73054415])"
            ]
          },
          "metadata": {},
          "execution_count": 173
        }
      ]
    },
    {
      "cell_type": "markdown",
      "source": [
        "#기타함수"
      ],
      "metadata": {
        "id": "fQoo8vYRMoYJ"
      }
    },
    {
      "cell_type": "code",
      "source": [
        "# 전체 요소에 대해 오름차순 정렬\n",
        "np.sort(ar1)"
      ],
      "metadata": {
        "colab": {
          "base_uri": "https://localhost:8080/"
        },
        "id": "bcCzisTYMpG5",
        "outputId": "38860370-ed8a-4553-ff14-c1645d6119e2"
      },
      "execution_count": 174,
      "outputs": [
        {
          "output_type": "execute_result",
          "data": {
            "text/plain": [
              "array([[-1.23739619,  0.45114604,  1.877656  ],\n",
              "       [ 0.73313878,  0.90553048,  1.76808741],\n",
              "       [-0.82360304, -0.71901201,  0.343178  ],\n",
              "       [-0.22560577,  0.18872625,  0.34318431],\n",
              "       [ 0.00372094,  0.10260362,  0.72794952]])"
            ]
          },
          "metadata": {},
          "execution_count": 174
        }
      ]
    },
    {
      "cell_type": "code",
      "source": [
        "# 행 방향으로 오름차순 정렬\n",
        "np.sort(ar1, axis=0)"
      ],
      "metadata": {
        "colab": {
          "base_uri": "https://localhost:8080/"
        },
        "id": "6xUL-_luMxEL",
        "outputId": "30b2a38e-d057-44b0-fa47-6ad36b64ebfd"
      },
      "execution_count": 175,
      "outputs": [
        {
          "output_type": "execute_result",
          "data": {
            "text/plain": [
              "array([[ 0.343178  , -0.71901201, -1.23739619],\n",
              "       [ 0.34318431, -0.22560577, -0.82360304],\n",
              "       [ 0.72794952,  0.10260362,  0.00372094],\n",
              "       [ 0.73313878,  0.45114604,  0.18872625],\n",
              "       [ 1.877656  ,  1.76808741,  0.90553048]])"
            ]
          },
          "metadata": {},
          "execution_count": 175
        }
      ]
    },
    {
      "cell_type": "code",
      "source": [
        "# zip 함수\n",
        "# 각 객체를 파라미터로 받아, 그 요소들을 tuple의 형태로 반환\n",
        "numbers = [1, 2, 3]\n",
        "letters = ['A', 'B', 'C']\n",
        "\n",
        "for pair in zip(numbers, letters):\n",
        "  print(pair)"
      ],
      "metadata": {
        "colab": {
          "base_uri": "https://localhost:8080/"
        },
        "id": "iQ47-2JhM57y",
        "outputId": "4850fc2c-35bc-4701-fedb-04230b95e36d"
      },
      "execution_count": 176,
      "outputs": [
        {
          "output_type": "stream",
          "name": "stdout",
          "text": [
            "(1, 'A')\n",
            "(2, 'B')\n",
            "(3, 'C')\n"
          ]
        }
      ]
    }
  ]
}