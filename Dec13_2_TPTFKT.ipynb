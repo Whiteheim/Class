{
  "nbformat": 4,
  "nbformat_minor": 0,
  "metadata": {
    "colab": {
      "provenance": [],
      "authorship_tag": "ABX9TyOD+nQRdtcSrEqgmncMujKL",
      "include_colab_link": true
    },
    "kernelspec": {
      "name": "python3",
      "display_name": "Python 3"
    },
    "language_info": {
      "name": "python"
    }
  },
  "cells": [
    {
      "cell_type": "markdown",
      "metadata": {
        "id": "view-in-github",
        "colab_type": "text"
      },
      "source": [
        "<a href=\"https://colab.research.google.com/github/Whiteheim/WH/blob/main/Dec13_2_TPTFKT.ipynb\" target=\"_parent\"><img src=\"https://colab.research.google.com/assets/colab-badge.svg\" alt=\"Open In Colab\"/></a>"
      ]
    },
    {
      "cell_type": "markdown",
      "source": [
        "# TPTFKT (Text Prepeocessing Tools For Korean Text) : 한국어 전처리 패키지"
      ],
      "metadata": {
        "id": "jpWRTMjvprc6"
      }
    },
    {
      "cell_type": "markdown",
      "source": [
        "# PyKoSpacing\n",
        "\n",
        "파이썬 한글 띄어쓰기 패키지"
      ],
      "metadata": {
        "id": "xl7xi3M0p0YQ"
      }
    },
    {
      "cell_type": "code",
      "execution_count": null,
      "metadata": {
        "colab": {
          "base_uri": "https://localhost:8080/",
          "height": 1000
        },
        "id": "G937fd6vpYRb",
        "outputId": "c24e4cc5-7c8c-407a-a876-1a7551c92675"
      },
      "outputs": [
        {
          "output_type": "stream",
          "name": "stdout",
          "text": [
            "Looking in indexes: https://pypi.org/simple, https://us-python.pkg.dev/colab-wheels/public/simple/\n",
            "Collecting git+https://github.com/haven-jeon/PyKoSpacing.git\n",
            "  Cloning https://github.com/haven-jeon/PyKoSpacing.git to /tmp/pip-req-build-alkq9012\n",
            "  Running command git clone -q https://github.com/haven-jeon/PyKoSpacing.git /tmp/pip-req-build-alkq9012\n",
            "Collecting tensorflow==2.9.3\n",
            "  Downloading tensorflow-2.9.3-cp38-cp38-manylinux_2_17_x86_64.manylinux2014_x86_64.whl (511.8 MB)\n",
            "\u001b[K     |████████████████████████████████| 511.8 MB 25 kB/s \n",
            "\u001b[?25hRequirement already satisfied: h5py==3.1.0 in /usr/local/lib/python3.8/dist-packages (from pykospacing==0.5) (3.1.0)\n",
            "Collecting argparse>=1.4.0\n",
            "  Downloading argparse-1.4.0-py2.py3-none-any.whl (23 kB)\n",
            "Requirement already satisfied: numpy>=1.17.5 in /usr/local/lib/python3.8/dist-packages (from h5py==3.1.0->pykospacing==0.5) (1.21.6)\n",
            "Requirement already satisfied: keras<2.10.0,>=2.9.0rc0 in /usr/local/lib/python3.8/dist-packages (from tensorflow==2.9.3->pykospacing==0.5) (2.9.0)\n",
            "Requirement already satisfied: opt-einsum>=2.3.2 in /usr/local/lib/python3.8/dist-packages (from tensorflow==2.9.3->pykospacing==0.5) (3.3.0)\n",
            "Requirement already satisfied: google-pasta>=0.1.1 in /usr/local/lib/python3.8/dist-packages (from tensorflow==2.9.3->pykospacing==0.5) (0.2.0)\n",
            "Requirement already satisfied: astunparse>=1.6.0 in /usr/local/lib/python3.8/dist-packages (from tensorflow==2.9.3->pykospacing==0.5) (1.6.3)\n",
            "Requirement already satisfied: tensorflow-estimator<2.10.0,>=2.9.0rc0 in /usr/local/lib/python3.8/dist-packages (from tensorflow==2.9.3->pykospacing==0.5) (2.9.0)\n",
            "Requirement already satisfied: setuptools in /usr/local/lib/python3.8/dist-packages (from tensorflow==2.9.3->pykospacing==0.5) (57.4.0)\n",
            "Requirement already satisfied: wrapt>=1.11.0 in /usr/local/lib/python3.8/dist-packages (from tensorflow==2.9.3->pykospacing==0.5) (1.14.1)\n",
            "Requirement already satisfied: typing-extensions>=3.6.6 in /usr/local/lib/python3.8/dist-packages (from tensorflow==2.9.3->pykospacing==0.5) (4.4.0)\n",
            "Requirement already satisfied: absl-py>=1.0.0 in /usr/local/lib/python3.8/dist-packages (from tensorflow==2.9.3->pykospacing==0.5) (1.3.0)\n",
            "Requirement already satisfied: packaging in /usr/local/lib/python3.8/dist-packages (from tensorflow==2.9.3->pykospacing==0.5) (21.3)\n",
            "Requirement already satisfied: gast<=0.4.0,>=0.2.1 in /usr/local/lib/python3.8/dist-packages (from tensorflow==2.9.3->pykospacing==0.5) (0.4.0)\n",
            "Requirement already satisfied: termcolor>=1.1.0 in /usr/local/lib/python3.8/dist-packages (from tensorflow==2.9.3->pykospacing==0.5) (2.1.1)\n",
            "Requirement already satisfied: protobuf<3.20,>=3.9.2 in /usr/local/lib/python3.8/dist-packages (from tensorflow==2.9.3->pykospacing==0.5) (3.19.6)\n",
            "Requirement already satisfied: tensorboard<2.10,>=2.9 in /usr/local/lib/python3.8/dist-packages (from tensorflow==2.9.3->pykospacing==0.5) (2.9.1)\n",
            "Requirement already satisfied: flatbuffers<2,>=1.12 in /usr/local/lib/python3.8/dist-packages (from tensorflow==2.9.3->pykospacing==0.5) (1.12)\n",
            "Requirement already satisfied: grpcio<2.0,>=1.24.3 in /usr/local/lib/python3.8/dist-packages (from tensorflow==2.9.3->pykospacing==0.5) (1.51.1)\n",
            "Requirement already satisfied: six>=1.12.0 in /usr/local/lib/python3.8/dist-packages (from tensorflow==2.9.3->pykospacing==0.5) (1.15.0)\n",
            "Requirement already satisfied: keras-preprocessing>=1.1.1 in /usr/local/lib/python3.8/dist-packages (from tensorflow==2.9.3->pykospacing==0.5) (1.1.2)\n",
            "Requirement already satisfied: libclang>=13.0.0 in /usr/local/lib/python3.8/dist-packages (from tensorflow==2.9.3->pykospacing==0.5) (14.0.6)\n",
            "Requirement already satisfied: tensorflow-io-gcs-filesystem>=0.23.1 in /usr/local/lib/python3.8/dist-packages (from tensorflow==2.9.3->pykospacing==0.5) (0.28.0)\n",
            "Requirement already satisfied: wheel<1.0,>=0.23.0 in /usr/local/lib/python3.8/dist-packages (from astunparse>=1.6.0->tensorflow==2.9.3->pykospacing==0.5) (0.38.4)\n",
            "Requirement already satisfied: tensorboard-data-server<0.7.0,>=0.6.0 in /usr/local/lib/python3.8/dist-packages (from tensorboard<2.10,>=2.9->tensorflow==2.9.3->pykospacing==0.5) (0.6.1)\n",
            "Requirement already satisfied: tensorboard-plugin-wit>=1.6.0 in /usr/local/lib/python3.8/dist-packages (from tensorboard<2.10,>=2.9->tensorflow==2.9.3->pykospacing==0.5) (1.8.1)\n",
            "Requirement already satisfied: markdown>=2.6.8 in /usr/local/lib/python3.8/dist-packages (from tensorboard<2.10,>=2.9->tensorflow==2.9.3->pykospacing==0.5) (3.4.1)\n",
            "Requirement already satisfied: werkzeug>=1.0.1 in /usr/local/lib/python3.8/dist-packages (from tensorboard<2.10,>=2.9->tensorflow==2.9.3->pykospacing==0.5) (1.0.1)\n",
            "Requirement already satisfied: requests<3,>=2.21.0 in /usr/local/lib/python3.8/dist-packages (from tensorboard<2.10,>=2.9->tensorflow==2.9.3->pykospacing==0.5) (2.23.0)\n",
            "Requirement already satisfied: google-auth<3,>=1.6.3 in /usr/local/lib/python3.8/dist-packages (from tensorboard<2.10,>=2.9->tensorflow==2.9.3->pykospacing==0.5) (2.15.0)\n",
            "Requirement already satisfied: google-auth-oauthlib<0.5,>=0.4.1 in /usr/local/lib/python3.8/dist-packages (from tensorboard<2.10,>=2.9->tensorflow==2.9.3->pykospacing==0.5) (0.4.6)\n",
            "Requirement already satisfied: cachetools<6.0,>=2.0.0 in /usr/local/lib/python3.8/dist-packages (from google-auth<3,>=1.6.3->tensorboard<2.10,>=2.9->tensorflow==2.9.3->pykospacing==0.5) (5.2.0)\n",
            "Requirement already satisfied: rsa<5,>=3.1.4 in /usr/local/lib/python3.8/dist-packages (from google-auth<3,>=1.6.3->tensorboard<2.10,>=2.9->tensorflow==2.9.3->pykospacing==0.5) (4.9)\n",
            "Requirement already satisfied: pyasn1-modules>=0.2.1 in /usr/local/lib/python3.8/dist-packages (from google-auth<3,>=1.6.3->tensorboard<2.10,>=2.9->tensorflow==2.9.3->pykospacing==0.5) (0.2.8)\n",
            "Requirement already satisfied: requests-oauthlib>=0.7.0 in /usr/local/lib/python3.8/dist-packages (from google-auth-oauthlib<0.5,>=0.4.1->tensorboard<2.10,>=2.9->tensorflow==2.9.3->pykospacing==0.5) (1.3.1)\n",
            "Requirement already satisfied: importlib-metadata>=4.4 in /usr/local/lib/python3.8/dist-packages (from markdown>=2.6.8->tensorboard<2.10,>=2.9->tensorflow==2.9.3->pykospacing==0.5) (4.13.0)\n",
            "Requirement already satisfied: zipp>=0.5 in /usr/local/lib/python3.8/dist-packages (from importlib-metadata>=4.4->markdown>=2.6.8->tensorboard<2.10,>=2.9->tensorflow==2.9.3->pykospacing==0.5) (3.11.0)\n",
            "Requirement already satisfied: pyasn1<0.5.0,>=0.4.6 in /usr/local/lib/python3.8/dist-packages (from pyasn1-modules>=0.2.1->google-auth<3,>=1.6.3->tensorboard<2.10,>=2.9->tensorflow==2.9.3->pykospacing==0.5) (0.4.8)\n",
            "Requirement already satisfied: idna<3,>=2.5 in /usr/local/lib/python3.8/dist-packages (from requests<3,>=2.21.0->tensorboard<2.10,>=2.9->tensorflow==2.9.3->pykospacing==0.5) (2.10)\n",
            "Requirement already satisfied: chardet<4,>=3.0.2 in /usr/local/lib/python3.8/dist-packages (from requests<3,>=2.21.0->tensorboard<2.10,>=2.9->tensorflow==2.9.3->pykospacing==0.5) (3.0.4)\n",
            "Requirement already satisfied: urllib3!=1.25.0,!=1.25.1,<1.26,>=1.21.1 in /usr/local/lib/python3.8/dist-packages (from requests<3,>=2.21.0->tensorboard<2.10,>=2.9->tensorflow==2.9.3->pykospacing==0.5) (1.24.3)\n",
            "Requirement already satisfied: certifi>=2017.4.17 in /usr/local/lib/python3.8/dist-packages (from requests<3,>=2.21.0->tensorboard<2.10,>=2.9->tensorflow==2.9.3->pykospacing==0.5) (2022.9.24)\n",
            "Requirement already satisfied: oauthlib>=3.0.0 in /usr/local/lib/python3.8/dist-packages (from requests-oauthlib>=0.7.0->google-auth-oauthlib<0.5,>=0.4.1->tensorboard<2.10,>=2.9->tensorflow==2.9.3->pykospacing==0.5) (3.2.2)\n",
            "Requirement already satisfied: pyparsing!=3.0.5,>=2.0.2 in /usr/local/lib/python3.8/dist-packages (from packaging->tensorflow==2.9.3->pykospacing==0.5) (3.0.9)\n",
            "Building wheels for collected packages: pykospacing\n",
            "  Building wheel for pykospacing (setup.py) ... \u001b[?25l\u001b[?25hdone\n",
            "  Created wheel for pykospacing: filename=pykospacing-0.5-py3-none-any.whl size=2268637 sha256=7db7a24cd12c3df9ca31e45255742cc48b1864378d1cb4f3c6711b93c58f41e5\n",
            "  Stored in directory: /tmp/pip-ephem-wheel-cache-m4gayg4x/wheels/79/a0/33/16f2cd03d21f76a663f5d69a0b96f0351335385349136fbd03\n",
            "Successfully built pykospacing\n",
            "Installing collected packages: tensorflow, argparse, pykospacing\n",
            "  Attempting uninstall: tensorflow\n",
            "    Found existing installation: tensorflow 2.9.2\n",
            "    Uninstalling tensorflow-2.9.2:\n",
            "      Successfully uninstalled tensorflow-2.9.2\n",
            "Successfully installed argparse-1.4.0 pykospacing-0.5 tensorflow-2.9.3\n"
          ]
        },
        {
          "output_type": "display_data",
          "data": {
            "application/vnd.colab-display-data+json": {
              "pip_warning": {
                "packages": [
                  "argparse"
                ]
              }
            }
          },
          "metadata": {}
        }
      ],
      "source": [
        "! pip install git+https://github.com/haven-jeon/PyKoSpacing.git"
      ]
    },
    {
      "cell_type": "code",
      "source": [
        "sentence = \"‘중요한 것은 꺾이지 않는 마음’ 2022 카타르월드컵에서 역대 두 번째 원정 16강 진출이란 성과를 거둔 대한민국 대표팀. 조별 리그 두 경기에서 1무 1패로 16강 진출 가능성이 희박했던 대표팀은 마지막 경기에서 포르투갈을 상대로 2대1 역전승을 거두는 동시에 16강행 티켓까지 거머쥐며 그야말로 드라마를 썼다. 정규 경기 시간이 끝나고, 모두가 패배를 예상한 순간에도 무너지지 않고 투혼을 발휘해 끝내 역전 골을 성공시킨, 이 감동의 드라마에 제목을 붙인다면 아마 ‘꺾이지 않는 마음’이 되지 않을까. 16강행을 확정 지은 우리 선수들의 손에 들려 있던 태극기에도 선명히 쓰여 있던 이 문구는 이번 월드컵을 넘어 올 한 해를 대표하는 명언으로 회자되고 있다.\"\n",
        "sentence"
      ],
      "metadata": {
        "id": "0fRVnxL6qJHR",
        "colab": {
          "base_uri": "https://localhost:8080/",
          "height": 72
        },
        "outputId": "f147e483-2067-4b20-9614-8e988732c9ca"
      },
      "execution_count": 8,
      "outputs": [
        {
          "output_type": "execute_result",
          "data": {
            "text/plain": [
              "'‘중요한 것은 꺾이지 않는 마음’ 2022 카타르월드컵에서 역대 두 번째 원정 16강 진출이란 성과를 거둔 대한민국 대표팀. 조별 리그 두 경기에서 1무 1패로 16강 진출 가능성이 희박했던 대표팀은 마지막 경기에서 포르투갈을 상대로 2대1 역전승을 거두는 동시에 16강행 티켓까지 거머쥐며 그야말로 드라마를 썼다. 정규 경기 시간이 끝나고, 모두가 패배를 예상한 순간에도 무너지지 않고 투혼을 발휘해 끝내 역전 골을 성공시킨, 이 감동의 드라마에 제목을 붙인다면 아마 ‘꺾이지 않는 마음’이 되지 않을까. 16강행을 확정 지은 우리 선수들의 손에 들려 있던 태극기에도 선명히 쓰여 있던 이 문구는 이번 월드컵을 넘어 올 한 해를 대표하는 명언으로 회자되고 있다.'"
            ],
            "application/vnd.google.colaboratory.intrinsic+json": {
              "type": "string"
            }
          },
          "metadata": {},
          "execution_count": 8
        }
      ]
    },
    {
      "cell_type": "code",
      "source": [
        "sentence2 = sentence.replace(\" \", \"\") # 띄어쓰기 제거\n",
        "sentence2"
      ],
      "metadata": {
        "colab": {
          "base_uri": "https://localhost:8080/",
          "height": 72
        },
        "id": "7j72g9YRrgAU",
        "outputId": "dbe3db6f-9e1f-4e6a-c66a-0d907554606d"
      },
      "execution_count": 9,
      "outputs": [
        {
          "output_type": "execute_result",
          "data": {
            "text/plain": [
              "'‘중요한것은꺾이지않는마음’2022카타르월드컵에서역대두번째원정16강진출이란성과를거둔대한민국대표팀.조별리그두경기에서1무1패로16강진출가능성이희박했던대표팀은마지막경기에서포르투갈을상대로2대1역전승을거두는동시에16강행티켓까지거머쥐며그야말로드라마를썼다.정규경기시간이끝나고,모두가패배를예상한순간에도무너지지않고투혼을발휘해끝내역전골을성공시킨,이감동의드라마에제목을붙인다면아마‘꺾이지않는마음’이되지않을까.16강행을확정지은우리선수들의손에들려있던태극기에도선명히쓰여있던이문구는이번월드컵을넘어올한해를대표하는명언으로회자되고있다.'"
            ],
            "application/vnd.google.colaboratory.intrinsic+json": {
              "type": "string"
            }
          },
          "metadata": {},
          "execution_count": 9
        }
      ]
    },
    {
      "cell_type": "code",
      "source": [
        "from pykospacing import Spacing"
      ],
      "metadata": {
        "id": "r8IhPtaJrofg"
      },
      "execution_count": 5,
      "outputs": []
    },
    {
      "cell_type": "code",
      "source": [
        "spacing = Spacing()\n",
        "s = spacing(sentence2)\n",
        "\n",
        "print(sentence)\n",
        "print()\n",
        "print(s)"
      ],
      "metadata": {
        "colab": {
          "base_uri": "https://localhost:8080/"
        },
        "id": "L4HfiVeLryFA",
        "outputId": "33830d8d-0228-4cb9-ae71-38f3afc5e90d"
      },
      "execution_count": 11,
      "outputs": [
        {
          "output_type": "stream",
          "name": "stdout",
          "text": [
            "1/1 [==============================] - 0s 35ms/step\n",
            "1/1 [==============================] - 0s 32ms/step\n",
            "‘중요한 것은 꺾이지 않는 마음’ 2022 카타르월드컵에서 역대 두 번째 원정 16강 진출이란 성과를 거둔 대한민국 대표팀. 조별 리그 두 경기에서 1무 1패로 16강 진출 가능성이 희박했던 대표팀은 마지막 경기에서 포르투갈을 상대로 2대1 역전승을 거두는 동시에 16강행 티켓까지 거머쥐며 그야말로 드라마를 썼다. 정규 경기 시간이 끝나고, 모두가 패배를 예상한 순간에도 무너지지 않고 투혼을 발휘해 끝내 역전 골을 성공시킨, 이 감동의 드라마에 제목을 붙인다면 아마 ‘꺾이지 않는 마음’이 되지 않을까. 16강행을 확정 지은 우리 선수들의 손에 들려 있던 태극기에도 선명히 쓰여 있던 이 문구는 이번 월드컵을 넘어 올 한 해를 대표하는 명언으로 회자되고 있다.\n",
            "\n",
            "‘중요한 것은 꺾이지 않는 마음’ 2022 카타르 월드컵에서 역대 두 번째 원정 16강 진출이란 성과를 거둔 대한민국 대표팀. 조별리그 두 경기에서 1무 1패로 16강 진출 가능성이 희박했던 대표팀은 마지막 경기에서 포르투갈을 상대로 2대1역전승을 거두는 동시에 16강행 티켓까지 거머쥐며 그야말로 드라마를 썼다. 정규 경기 시간이 끝나고, 모두가 패배를 예상한 순간에도 무너지지 않고 투혼을 발휘해 끝내 역전골을 성공시킨, 이 감동의 드라마에 제목을 붙인다면 아 마 ‘꺾이지 않는 마음’이 되지 않을까.16 강행을 확정지은 우리 선수들의 손에 들려 있던 태극기에도 선명히 쓰여 있던 이 문구는 이번 월드컵을 넘어 올 한 해를 대표하는 명언으로 회자되고 있다.\n"
          ]
        }
      ]
    },
    {
      "cell_type": "markdown",
      "source": [
        "# Hanspell\n",
        "\n",
        "한글 맞춤법 교정 패키지\n"
      ],
      "metadata": {
        "id": "liAylIfhsTeg"
      }
    },
    {
      "cell_type": "code",
      "source": [
        "!pip install git+http://github.com/ssut/py-hanspell.git"
      ],
      "metadata": {
        "colab": {
          "base_uri": "https://localhost:8080/"
        },
        "id": "85_m6481sZnn",
        "outputId": "e304cdfe-f588-414d-81cc-9b3368431596"
      },
      "execution_count": 12,
      "outputs": [
        {
          "output_type": "stream",
          "name": "stdout",
          "text": [
            "Looking in indexes: https://pypi.org/simple, https://us-python.pkg.dev/colab-wheels/public/simple/\n",
            "Collecting git+http://github.com/ssut/py-hanspell.git\n",
            "  Cloning http://github.com/ssut/py-hanspell.git to /tmp/pip-req-build-j1he2cvu\n",
            "  Running command git clone -q http://github.com/ssut/py-hanspell.git /tmp/pip-req-build-j1he2cvu\n",
            "Requirement already satisfied: requests in /usr/local/lib/python3.8/dist-packages (from py-hanspell==1.1) (2.23.0)\n",
            "Requirement already satisfied: chardet<4,>=3.0.2 in /usr/local/lib/python3.8/dist-packages (from requests->py-hanspell==1.1) (3.0.4)\n",
            "Requirement already satisfied: idna<3,>=2.5 in /usr/local/lib/python3.8/dist-packages (from requests->py-hanspell==1.1) (2.10)\n",
            "Requirement already satisfied: certifi>=2017.4.17 in /usr/local/lib/python3.8/dist-packages (from requests->py-hanspell==1.1) (2022.9.24)\n",
            "Requirement already satisfied: urllib3!=1.25.0,!=1.25.1,<1.26,>=1.21.1 in /usr/local/lib/python3.8/dist-packages (from requests->py-hanspell==1.1) (1.24.3)\n",
            "Building wheels for collected packages: py-hanspell\n",
            "  Building wheel for py-hanspell (setup.py) ... \u001b[?25l\u001b[?25hdone\n",
            "  Created wheel for py-hanspell: filename=py_hanspell-1.1-py3-none-any.whl size=4870 sha256=511e23249a478bfb9fc86a04c24aa687d13ad778c5884cfd2be1584a328394d0\n",
            "  Stored in directory: /tmp/pip-ephem-wheel-cache-9152vvi7/wheels/7a/37/2f/b65fd96c498a8e7992dd7adb0404a0b42da851995c3d08b9b1\n",
            "Successfully built py-hanspell\n",
            "Installing collected packages: py-hanspell\n",
            "Successfully installed py-hanspell-1.1\n"
          ]
        }
      ]
    },
    {
      "cell_type": "code",
      "source": [
        "from hanspell import spell_checker"
      ],
      "metadata": {
        "id": "FPLmxyiFsjpp"
      },
      "execution_count": 13,
      "outputs": []
    },
    {
      "cell_type": "code",
      "source": [
        "asdf = \"동회물가 백두상이 마르고 달토록 하느님이 보우하사 우리나라 망세\"\n",
        "\n",
        "check = spell_checker.check(asdf)\n",
        "print(check)\n",
        "\n",
        "check1 = check.checked\n",
        "print(check1)"
      ],
      "metadata": {
        "colab": {
          "base_uri": "https://localhost:8080/"
        },
        "id": "_HE6fn5isq7e",
        "outputId": "161ffd88-001e-4c78-e478-c4d7f792c005"
      },
      "execution_count": 16,
      "outputs": [
        {
          "output_type": "stream",
          "name": "stdout",
          "text": [
            "Checked(result=True, original='동회물가 백두상이 마르고 달토록 하느님이 보우하사 우리나라 망세', checked='동회 물가 백두산이 마르고 닳도록 하느님이 보우하사 우리나라 만세', errors=4, words=OrderedDict([('동회', 2), ('물가', 2), ('백두산이', 1), ('마르고', 0), ('닳도록', 1), ('하느님이', 0), ('보우하사', 0), ('우리나라', 0), ('만세', 4)]), time=0.17068886756896973)\n",
            "동회 물가 백두산이 마르고 닳도록 하느님이 보우하사 우리나라 만세\n"
          ]
        }
      ]
    },
    {
      "cell_type": "code",
      "source": [
        "# spell checker 패키지는 띄어쓰기도 보정\n",
        "check2 = spell_checker.check(sentence)\n",
        "check3 = check2.checked\n",
        "\n",
        "print(check3)\n",
        "print(sentence)"
      ],
      "metadata": {
        "colab": {
          "base_uri": "https://localhost:8080/"
        },
        "id": "r1MJv5CrtWne",
        "outputId": "34130b1c-5bfd-4f86-dc13-60f3057fdc20"
      },
      "execution_count": 17,
      "outputs": [
        {
          "output_type": "stream",
          "name": "stdout",
          "text": [
            "‘중요한 것은 꺾이지 않는 마음’ 2022 카타르 월드컵에서 역대 두 번째 원정 16강 진출이란 성과를 거둔 대한민국 대표팀. 조별 리그 두 경기에서 1무 1패로 16강 진출 가능성이 희박했던 대표팀은 마지막 경기에서 포르투갈을 상대로 2 대 1 역전승을 거두는 동시에 16강행 티켓까지 거머쥐며 그야말로 드라마를 썼다. 정규 경기 시간이 끝나고, 모두가 패배를 예상한 순간에도 무너지지 않고 투혼을 발휘해 끝내 역전 골을 성공시킨, 이 감동의 드라마에 제목을 붙인다면 아마 ‘꺾이지 않는 마음’이 되지 않을까. 16강행을 확정 지은 우리 선수들의 손에 들려 있던 태극기에도 선명히 쓰여 있던 이 문구는 이번 월드컵을 넘어 올 한 해를 대표하는 명언으로 회자되고 있다.\n",
            "‘중요한 것은 꺾이지 않는 마음’ 2022 카타르월드컵에서 역대 두 번째 원정 16강 진출이란 성과를 거둔 대한민국 대표팀. 조별 리그 두 경기에서 1무 1패로 16강 진출 가능성이 희박했던 대표팀은 마지막 경기에서 포르투갈을 상대로 2대1 역전승을 거두는 동시에 16강행 티켓까지 거머쥐며 그야말로 드라마를 썼다. 정규 경기 시간이 끝나고, 모두가 패배를 예상한 순간에도 무너지지 않고 투혼을 발휘해 끝내 역전 골을 성공시킨, 이 감동의 드라마에 제목을 붙인다면 아마 ‘꺾이지 않는 마음’이 되지 않을까. 16강행을 확정 지은 우리 선수들의 손에 들려 있던 태극기에도 선명히 쓰여 있던 이 문구는 이번 월드컵을 넘어 올 한 해를 대표하는 명언으로 회자되고 있다.\n"
          ]
        }
      ]
    },
    {
      "cell_type": "code",
      "source": [
        "!pip install soynlp"
      ],
      "metadata": {
        "colab": {
          "base_uri": "https://localhost:8080/"
        },
        "id": "-XqZzh9ftpg3",
        "outputId": "0f3d09a5-932b-4dfd-e8d9-b3ef3a2d920f"
      },
      "execution_count": 18,
      "outputs": [
        {
          "output_type": "stream",
          "name": "stdout",
          "text": [
            "Looking in indexes: https://pypi.org/simple, https://us-python.pkg.dev/colab-wheels/public/simple/\n",
            "Collecting soynlp\n",
            "  Downloading soynlp-0.0.493-py3-none-any.whl (416 kB)\n",
            "\u001b[K     |████████████████████████████████| 416 kB 9.7 MB/s \n",
            "\u001b[?25hRequirement already satisfied: scipy>=1.1.0 in /usr/local/lib/python3.8/dist-packages (from soynlp) (1.7.3)\n",
            "Requirement already satisfied: scikit-learn>=0.20.0 in /usr/local/lib/python3.8/dist-packages (from soynlp) (1.0.2)\n",
            "Requirement already satisfied: psutil>=5.0.1 in /usr/local/lib/python3.8/dist-packages (from soynlp) (5.4.8)\n",
            "Requirement already satisfied: numpy>=1.12.1 in /usr/local/lib/python3.8/dist-packages (from soynlp) (1.21.6)\n",
            "Requirement already satisfied: joblib>=0.11 in /usr/local/lib/python3.8/dist-packages (from scikit-learn>=0.20.0->soynlp) (1.2.0)\n",
            "Requirement already satisfied: threadpoolctl>=2.0.0 in /usr/local/lib/python3.8/dist-packages (from scikit-learn>=0.20.0->soynlp) (3.1.0)\n",
            "Installing collected packages: soynlp\n",
            "Successfully installed soynlp-0.0.493\n"
          ]
        }
      ]
    },
    {
      "cell_type": "code",
      "source": [
        "from soynlp.normalizer import *"
      ],
      "metadata": {
        "id": "K8Q5od6Rtsy-"
      },
      "execution_count": 20,
      "outputs": []
    },
    {
      "cell_type": "code",
      "source": [
        "# SNS or 채팅 의 경우 'ㅋㅋㅋㅋㅋ' / 'ㅎㅎㅎ' 등 \n",
        "# 불필요한 단어가 연속되는 경우,\n",
        "# 반복되는 것들을 하나로 정규화 시켜줌\n",
        "print(emoticon_normalize('ㅎㅎㅎㅎㅎㅎㅎㅎㅎㅎㅎㅎㅎㅎ헣ㅎㅎㅎㅎㅎㅎㅎㅎㅎㅎㅎㅎㅎㅎㅎ', num_repeats=2))\n",
        "print(emoticon_normalize('ㅋㅋㅋㅋㅋㅋㅋㅋㅋㅋㅋㅋㅋㅋ헣ㅎㅎㅎㅎㅎㅎㅎㅎㅎㅎㅎㅎㅎㅎㅎ', num_repeats=3))\n",
        "print(emoticon_normalize('ㅗㅗㅗㅗㅗㅗㅗㅗㅗㅗㅗㅗㅗㅗ헣ㅎㅎㅎㅎㅎㅎㅎㅎㅎㅎㅎㅎㅎㅎㅎ', num_repeats=6))\n",
        "print(emoticon_normalize('ㅎㅎㅎㅎㅎㅎㅎㅎㅎㅎㅎㅎㅎㅎ헣ㅎㅎㅎㅎㅎㅎㅎㅎㅎㅎㅎㅎㅎㅎㅎ', num_repeats=1))"
      ],
      "metadata": {
        "colab": {
          "base_uri": "https://localhost:8080/"
        },
        "id": "Pxq-SMWZtz62",
        "outputId": "9808a55b-ccbf-481c-cc3a-fd5e5ed220c0"
      },
      "execution_count": 27,
      "outputs": [
        {
          "output_type": "stream",
          "name": "stdout",
          "text": [
            "ㅎㅎ허ㅎㅎ\n",
            "ㅋㅋㅋ허ㅎㅎㅎ\n",
            "ㅗㅗㅗㅗㅗㅗ허ㅎㅎㅎㅎㅎㅎ\n",
            "ㅎ허ㅎ\n"
          ]
        }
      ]
    },
    {
      "cell_type": "code",
      "source": [
        "print(repeat_normalize('요호호호호호호호호호', num_repeats=3))\n",
        "print(repeat_normalize('요호호호호호호호호호', num_repeats=5))\n",
        "print(repeat_normalize('요호호호호호호호호호', num_repeats=7))"
      ],
      "metadata": {
        "colab": {
          "base_uri": "https://localhost:8080/"
        },
        "id": "-B3WoJkhugeP",
        "outputId": "7ff03550-641d-4fce-f80f-a0ec47e204b1"
      },
      "execution_count": 28,
      "outputs": [
        {
          "output_type": "stream",
          "name": "stdout",
          "text": [
            "요호호호\n",
            "요호호호호호\n",
            "요호호호호호호호\n"
          ]
        }
      ]
    },
    {
      "cell_type": "code",
      "source": [
        "# konlpy의 커스터마이즈 버전\n",
        "!pip install customized_konlpy"
      ],
      "metadata": {
        "colab": {
          "base_uri": "https://localhost:8080/"
        },
        "id": "374qtMVZuqxu",
        "outputId": "128ef7d4-88f9-4384-dea5-280041057b63"
      },
      "execution_count": 29,
      "outputs": [
        {
          "output_type": "stream",
          "name": "stdout",
          "text": [
            "Looking in indexes: https://pypi.org/simple, https://us-python.pkg.dev/colab-wheels/public/simple/\n",
            "Collecting customized_konlpy\n",
            "  Downloading customized_konlpy-0.0.64-py3-none-any.whl (881 kB)\n",
            "\u001b[K     |████████████████████████████████| 881 kB 8.4 MB/s \n",
            "\u001b[?25hCollecting Jpype1>=0.6.1\n",
            "  Downloading JPype1-1.4.1-cp38-cp38-manylinux_2_12_x86_64.manylinux2010_x86_64.whl (465 kB)\n",
            "\u001b[K     |████████████████████████████████| 465 kB 65.8 MB/s \n",
            "\u001b[?25hCollecting konlpy>=0.4.4\n",
            "  Downloading konlpy-0.6.0-py2.py3-none-any.whl (19.4 MB)\n",
            "\u001b[K     |████████████████████████████████| 19.4 MB 2.6 MB/s \n",
            "\u001b[?25hRequirement already satisfied: packaging in /usr/local/lib/python3.8/dist-packages (from Jpype1>=0.6.1->customized_konlpy) (21.3)\n",
            "Requirement already satisfied: lxml>=4.1.0 in /usr/local/lib/python3.8/dist-packages (from konlpy>=0.4.4->customized_konlpy) (4.9.1)\n",
            "Requirement already satisfied: numpy>=1.6 in /usr/local/lib/python3.8/dist-packages (from konlpy>=0.4.4->customized_konlpy) (1.21.6)\n",
            "Requirement already satisfied: pyparsing!=3.0.5,>=2.0.2 in /usr/local/lib/python3.8/dist-packages (from packaging->Jpype1>=0.6.1->customized_konlpy) (3.0.9)\n",
            "Installing collected packages: Jpype1, konlpy, customized-konlpy\n",
            "Successfully installed Jpype1-1.4.1 customized-konlpy-0.0.64 konlpy-0.6.0\n"
          ]
        }
      ]
    },
    {
      "cell_type": "code",
      "source": [
        "from ckonlpy.tag import Twitter"
      ],
      "metadata": {
        "id": "dEkJx00_uzkG"
      },
      "execution_count": 30,
      "outputs": []
    },
    {
      "cell_type": "code",
      "source": [
        "twitter = Twitter()\n",
        "twitter.morphs('‘꺾이지 않는 마음’이란 키워드를 통해서 좋은 생각만 하고 단단한 마음만 가지고 모두 살아가셨으면 좋겠습니다.')"
      ],
      "metadata": {
        "colab": {
          "base_uri": "https://localhost:8080/"
        },
        "id": "KhWsJhHLu9Qt",
        "outputId": "7e84c7f6-fb06-493b-e10f-091167f710e7"
      },
      "execution_count": 32,
      "outputs": [
        {
          "output_type": "execute_result",
          "data": {
            "text/plain": [
              "['‘',\n",
              " '꺾',\n",
              " '이지',\n",
              " '않는',\n",
              " '마음',\n",
              " '’',\n",
              " '이란',\n",
              " '키',\n",
              " '워드',\n",
              " '를',\n",
              " '통해',\n",
              " '서',\n",
              " '좋은',\n",
              " '생각',\n",
              " '만',\n",
              " '하고',\n",
              " '단단한',\n",
              " '마음',\n",
              " '만',\n",
              " '가지',\n",
              " '고',\n",
              " '모두',\n",
              " '살',\n",
              " '아가',\n",
              " '셨으',\n",
              " '면',\n",
              " '좋겠습니다',\n",
              " '.']"
            ]
          },
          "metadata": {},
          "execution_count": 32
        }
      ]
    },
    {
      "cell_type": "code",
      "source": [
        "# add_dictionary('정할단어', '품사') : 단어 등록 가능\n",
        "twitter.add_dictionary('꺾이지', 'Noun')"
      ],
      "metadata": {
        "id": "wwr5r9AvvkX9"
      },
      "execution_count": 33,
      "outputs": []
    },
    {
      "cell_type": "code",
      "source": [
        "twitter.morphs('‘꺾이지 않는 마음’이란 키워드를 통해서 좋은 생각만 하고 단단한 마음만 가지고 모두 살아가셨으면 좋겠습니다.')"
      ],
      "metadata": {
        "colab": {
          "base_uri": "https://localhost:8080/"
        },
        "id": "aqyv9xDKvwrt",
        "outputId": "b8e8b2a8-f348-40a5-ee77-7be29a84f9d8"
      },
      "execution_count": 34,
      "outputs": [
        {
          "output_type": "execute_result",
          "data": {
            "text/plain": [
              "['‘',\n",
              " '꺾이지',\n",
              " '않는',\n",
              " '마음',\n",
              " '’',\n",
              " '이란',\n",
              " '키',\n",
              " '워드',\n",
              " '를',\n",
              " '통해',\n",
              " '서',\n",
              " '좋은',\n",
              " '생각',\n",
              " '만',\n",
              " '하고',\n",
              " '단단한',\n",
              " '마음',\n",
              " '만',\n",
              " '가지',\n",
              " '고',\n",
              " '모두',\n",
              " '살',\n",
              " '아가',\n",
              " '셨으',\n",
              " '면',\n",
              " '좋겠습니다',\n",
              " '.']"
            ]
          },
          "metadata": {},
          "execution_count": 34
        }
      ]
    },
    {
      "cell_type": "code",
      "source": [
        "twitter.tagset # 품사 종류 확인"
      ],
      "metadata": {
        "colab": {
          "base_uri": "https://localhost:8080/"
        },
        "id": "SVKx33gKv3Sc",
        "outputId": "339dcdd6-10ec-4935-e7ee-7b2a34654487"
      },
      "execution_count": 36,
      "outputs": [
        {
          "output_type": "execute_result",
          "data": {
            "text/plain": [
              "{'Adjective': '형용사',\n",
              " 'Adverb': '부사',\n",
              " 'Alpha': '알파벳',\n",
              " 'Conjunction': '접속사',\n",
              " 'Determiner': '관형사',\n",
              " 'Eomi': '어미',\n",
              " 'Exclamation': '감탄사',\n",
              " 'Foreign': '외국어, 한자 및 기타기호',\n",
              " 'Hashtag': '트위터 해쉬태그',\n",
              " 'Josa': '조사',\n",
              " 'KoreanParticle': '(ex: ㅋㅋ)',\n",
              " 'Noun': '명사',\n",
              " 'Number': '숫자',\n",
              " 'Modifier': '관형사',\n",
              " 'PreEomi': '선어말어미',\n",
              " 'Punctuation': '구두점',\n",
              " 'ScreenName': '트위터 아이디',\n",
              " 'Suffix': '접미사',\n",
              " 'Unknown': '미등록어',\n",
              " 'Verb': '동사'}"
            ]
          },
          "metadata": {},
          "execution_count": 36
        }
      ]
    }
  ]
}